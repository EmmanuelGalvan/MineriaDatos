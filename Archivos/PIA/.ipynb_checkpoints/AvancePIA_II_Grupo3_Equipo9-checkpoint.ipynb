{
 "cells": [
  {
   "cell_type": "markdown",
   "metadata": {},
   "source": [
    "# Segundo Avance de PIA.\n",
    "**Equipo:** 9. "
   ]
  },
  {
   "cell_type": "markdown",
   "metadata": {},
   "source": [
    "**Grupo:** 003. Lunes de 6:00 a 9:00 p.m."
   ]
  },
  {
   "cell_type": "markdown",
   "metadata": {},
   "source": [
    "**Integrantes:**\n",
    "* 1808039  Gómez, Karen.\n",
    "* 1741418  Hernández, Emmanuel.\n",
    "* 1937881  Villarreal, Cecilia."
   ]
  },
  {
   "cell_type": "markdown",
   "metadata": {},
   "source": [
    "## Base de datos:"
   ]
  },
  {
   "cell_type": "markdown",
   "metadata": {},
   "source": [
    "[URL Police Shootings](https://www.kaggle.com/ahsen1330/us-police-shootings)"
   ]
  },
  {
   "cell_type": "code",
   "execution_count": 1,
   "metadata": {},
   "outputs": [],
   "source": [
    "import pandas as pd"
   ]
  },
  {
   "cell_type": "code",
   "execution_count": 2,
   "metadata": {},
   "outputs": [],
   "source": [
    "df_PS = pd.read_csv(\"shootings.csv\")"
   ]
  },
  {
   "cell_type": "code",
   "execution_count": 3,
   "metadata": {},
   "outputs": [
    {
     "data": {
      "text/html": [
       "<div>\n",
       "<style scoped>\n",
       "    .dataframe tbody tr th:only-of-type {\n",
       "        vertical-align: middle;\n",
       "    }\n",
       "\n",
       "    .dataframe tbody tr th {\n",
       "        vertical-align: top;\n",
       "    }\n",
       "\n",
       "    .dataframe thead th {\n",
       "        text-align: right;\n",
       "    }\n",
       "</style>\n",
       "<table border=\"1\" class=\"dataframe\">\n",
       "  <thead>\n",
       "    <tr style=\"text-align: right;\">\n",
       "      <th></th>\n",
       "      <th>id</th>\n",
       "      <th>name</th>\n",
       "      <th>date</th>\n",
       "      <th>manner_of_death</th>\n",
       "      <th>armed</th>\n",
       "      <th>age</th>\n",
       "      <th>gender</th>\n",
       "      <th>race</th>\n",
       "      <th>city</th>\n",
       "      <th>state</th>\n",
       "      <th>signs_of_mental_illness</th>\n",
       "      <th>threat_level</th>\n",
       "      <th>flee</th>\n",
       "      <th>body_camera</th>\n",
       "      <th>arms_category</th>\n",
       "    </tr>\n",
       "  </thead>\n",
       "  <tbody>\n",
       "    <tr>\n",
       "      <th>0</th>\n",
       "      <td>3</td>\n",
       "      <td>Tim Elliot</td>\n",
       "      <td>2015-01-02</td>\n",
       "      <td>shot</td>\n",
       "      <td>gun</td>\n",
       "      <td>53.0</td>\n",
       "      <td>M</td>\n",
       "      <td>Asian</td>\n",
       "      <td>Shelton</td>\n",
       "      <td>WA</td>\n",
       "      <td>True</td>\n",
       "      <td>attack</td>\n",
       "      <td>Not fleeing</td>\n",
       "      <td>False</td>\n",
       "      <td>Guns</td>\n",
       "    </tr>\n",
       "    <tr>\n",
       "      <th>1</th>\n",
       "      <td>4</td>\n",
       "      <td>Lewis Lee Lembke</td>\n",
       "      <td>2015-01-02</td>\n",
       "      <td>shot</td>\n",
       "      <td>gun</td>\n",
       "      <td>47.0</td>\n",
       "      <td>M</td>\n",
       "      <td>White</td>\n",
       "      <td>Aloha</td>\n",
       "      <td>OR</td>\n",
       "      <td>False</td>\n",
       "      <td>attack</td>\n",
       "      <td>Not fleeing</td>\n",
       "      <td>False</td>\n",
       "      <td>Guns</td>\n",
       "    </tr>\n",
       "    <tr>\n",
       "      <th>2</th>\n",
       "      <td>5</td>\n",
       "      <td>John Paul Quintero</td>\n",
       "      <td>2015-01-03</td>\n",
       "      <td>shot and Tasered</td>\n",
       "      <td>unarmed</td>\n",
       "      <td>23.0</td>\n",
       "      <td>M</td>\n",
       "      <td>Hispanic</td>\n",
       "      <td>Wichita</td>\n",
       "      <td>KS</td>\n",
       "      <td>False</td>\n",
       "      <td>other</td>\n",
       "      <td>Not fleeing</td>\n",
       "      <td>False</td>\n",
       "      <td>Unarmed</td>\n",
       "    </tr>\n",
       "    <tr>\n",
       "      <th>3</th>\n",
       "      <td>8</td>\n",
       "      <td>Matthew Hoffman</td>\n",
       "      <td>2015-01-04</td>\n",
       "      <td>shot</td>\n",
       "      <td>toy weapon</td>\n",
       "      <td>32.0</td>\n",
       "      <td>M</td>\n",
       "      <td>White</td>\n",
       "      <td>San Francisco</td>\n",
       "      <td>CA</td>\n",
       "      <td>True</td>\n",
       "      <td>attack</td>\n",
       "      <td>Not fleeing</td>\n",
       "      <td>False</td>\n",
       "      <td>Other unusual objects</td>\n",
       "    </tr>\n",
       "    <tr>\n",
       "      <th>4</th>\n",
       "      <td>9</td>\n",
       "      <td>Michael Rodriguez</td>\n",
       "      <td>2015-01-04</td>\n",
       "      <td>shot</td>\n",
       "      <td>nail gun</td>\n",
       "      <td>39.0</td>\n",
       "      <td>M</td>\n",
       "      <td>Hispanic</td>\n",
       "      <td>Evans</td>\n",
       "      <td>CO</td>\n",
       "      <td>False</td>\n",
       "      <td>attack</td>\n",
       "      <td>Not fleeing</td>\n",
       "      <td>False</td>\n",
       "      <td>Piercing objects</td>\n",
       "    </tr>\n",
       "  </tbody>\n",
       "</table>\n",
       "</div>"
      ],
      "text/plain": [
       "   id                name        date   manner_of_death       armed   age  \\\n",
       "0   3          Tim Elliot  2015-01-02              shot         gun  53.0   \n",
       "1   4    Lewis Lee Lembke  2015-01-02              shot         gun  47.0   \n",
       "2   5  John Paul Quintero  2015-01-03  shot and Tasered     unarmed  23.0   \n",
       "3   8     Matthew Hoffman  2015-01-04              shot  toy weapon  32.0   \n",
       "4   9   Michael Rodriguez  2015-01-04              shot    nail gun  39.0   \n",
       "\n",
       "  gender      race           city state  signs_of_mental_illness threat_level  \\\n",
       "0      M     Asian        Shelton    WA                     True       attack   \n",
       "1      M     White          Aloha    OR                    False       attack   \n",
       "2      M  Hispanic        Wichita    KS                    False        other   \n",
       "3      M     White  San Francisco    CA                     True       attack   \n",
       "4      M  Hispanic          Evans    CO                    False       attack   \n",
       "\n",
       "          flee  body_camera          arms_category  \n",
       "0  Not fleeing        False                   Guns  \n",
       "1  Not fleeing        False                   Guns  \n",
       "2  Not fleeing        False                Unarmed  \n",
       "3  Not fleeing        False  Other unusual objects  \n",
       "4  Not fleeing        False       Piercing objects  "
      ]
     },
     "execution_count": 3,
     "metadata": {},
     "output_type": "execute_result"
    }
   ],
   "source": [
    "df_PS.head(5)"
   ]
  },
  {
   "cell_type": "markdown",
   "metadata": {},
   "source": [
    "## Descripción de los datos."
   ]
  },
  {
   "cell_type": "markdown",
   "metadata": {},
   "source": [
    "La base de datos contiene información sobre los decesos de civiles a manos de policías en el país de Estados Unidos de América. El contenido va desde el nombre, edad, género y raza de los abatidos. Las ciudades y estados donde se realizó dicho abatimiento. Además de información circunstancial de cada caso. Esta información da pie al análisis de racismo que se ha caracterizado tanto en dicho país."
   ]
  },
  {
   "cell_type": "markdown",
   "metadata": {},
   "source": [
    "**Tamaño de la base de datos.**"
   ]
  },
  {
   "cell_type": "code",
   "execution_count": 4,
   "metadata": {},
   "outputs": [
    {
     "data": {
      "text/plain": [
       "(4895, 15)"
      ]
     },
     "execution_count": 4,
     "metadata": {},
     "output_type": "execute_result"
    }
   ],
   "source": [
    "df_PS.shape"
   ]
  },
  {
   "cell_type": "markdown",
   "metadata": {},
   "source": [
    "Esto, nos indica que tenemos un total de 15 columnas que describen las características de las personas, los eventos y las condiciones de los mismos, registrados en Estados Unidos de América. Asimismo, nos describe que hay 4894 registros de personas a las cuales les dispararon agentes policiales."
   ]
  },
  {
   "cell_type": "markdown",
   "metadata": {},
   "source": [
    "**Tipo de datos.**"
   ]
  },
  {
   "cell_type": "markdown",
   "metadata": {},
   "source": [
    "La base de datos es una tabla, que tiene valores numéricos enteros para el identificador y flotantes para la edad. En su mayoría son de tipo texto ya que describen una característica según la columna, a excepción de la fecha que tiene ese formato y la columna signs of mental illness (que hace referencia a que si parecía tener una enfermedad mental), donde los datos son verdadero y falso."
   ]
  },
  {
   "cell_type": "markdown",
   "metadata": {},
   "source": [
    "* **Columnas.**"
   ]
  },
  {
   "cell_type": "code",
   "execution_count": 5,
   "metadata": {},
   "outputs": [
    {
     "data": {
      "text/plain": [
       "id                           int64\n",
       "name                        object\n",
       "date                        object\n",
       "manner_of_death             object\n",
       "armed                       object\n",
       "age                        float64\n",
       "gender                      object\n",
       "race                        object\n",
       "city                        object\n",
       "state                       object\n",
       "signs_of_mental_illness       bool\n",
       "threat_level                object\n",
       "flee                        object\n",
       "body_camera                   bool\n",
       "arms_category               object\n",
       "dtype: object"
      ]
     },
     "execution_count": 5,
     "metadata": {},
     "output_type": "execute_result"
    }
   ],
   "source": [
    "df_PS.dtypes"
   ]
  },
  {
   "cell_type": "markdown",
   "metadata": {},
   "source": [
    "## Justificación del uso de datos."
   ]
  },
  {
   "cell_type": "markdown",
   "metadata": {},
   "source": [
    "Se tiene catalogado a Estados Unidos como un país con un gran porcentaje de discriminación racial, en especial al momento de hacer cumplir sus leyes. Por lo que, la policía de Estados Unidos ha sido catalogada como injusta y con cierta inclinación a detener de forma injustificada o con mayor severidad a ciudadanos según su tipo de raza. Es por ello, que buscamos conocer si lo que se piensa de la policía de Estados Unidos es cierto."
   ]
  },
  {
   "cell_type": "markdown",
   "metadata": {},
   "source": [
    "## Objetivos."
   ]
  },
  {
   "cell_type": "markdown",
   "metadata": {},
   "source": [
    "#### Principales:\n",
    "* Determinar si es mayor la proporción de disparos que recibieron las personas de cierto tipo racial diferente a la raza blanca que aquellas de raza blanca.  \n",
    "\n",
    "* Evaluar la susceptibilidad de los policías a actuar de forma violenta hacia personas sospechosas de un delito, según distintos criterios.\n",
    "\n",
    "#### Secundarias: \n",
    "\n",
    "* Analizar la distribución de las edades de las personas abatidas.\n"
   ]
  },
  {
   "cell_type": "markdown",
   "metadata": {},
   "source": [
    "### Datos sin manipular."
   ]
  },
  {
   "cell_type": "code",
   "execution_count": 6,
   "metadata": {},
   "outputs": [
    {
     "data": {
      "text/html": [
       "<div>\n",
       "<style scoped>\n",
       "    .dataframe tbody tr th:only-of-type {\n",
       "        vertical-align: middle;\n",
       "    }\n",
       "\n",
       "    .dataframe tbody tr th {\n",
       "        vertical-align: top;\n",
       "    }\n",
       "\n",
       "    .dataframe thead th {\n",
       "        text-align: right;\n",
       "    }\n",
       "</style>\n",
       "<table border=\"1\" class=\"dataframe\">\n",
       "  <thead>\n",
       "    <tr style=\"text-align: right;\">\n",
       "      <th></th>\n",
       "      <th>id</th>\n",
       "      <th>name</th>\n",
       "      <th>date</th>\n",
       "      <th>manner_of_death</th>\n",
       "      <th>armed</th>\n",
       "      <th>age</th>\n",
       "      <th>gender</th>\n",
       "      <th>race</th>\n",
       "      <th>city</th>\n",
       "      <th>state</th>\n",
       "      <th>signs_of_mental_illness</th>\n",
       "      <th>threat_level</th>\n",
       "      <th>flee</th>\n",
       "      <th>body_camera</th>\n",
       "      <th>arms_category</th>\n",
       "    </tr>\n",
       "  </thead>\n",
       "  <tbody>\n",
       "    <tr>\n",
       "      <th>0</th>\n",
       "      <td>3</td>\n",
       "      <td>Tim Elliot</td>\n",
       "      <td>2015-01-02</td>\n",
       "      <td>shot</td>\n",
       "      <td>gun</td>\n",
       "      <td>53.0</td>\n",
       "      <td>M</td>\n",
       "      <td>Asian</td>\n",
       "      <td>Shelton</td>\n",
       "      <td>WA</td>\n",
       "      <td>True</td>\n",
       "      <td>attack</td>\n",
       "      <td>Not fleeing</td>\n",
       "      <td>False</td>\n",
       "      <td>Guns</td>\n",
       "    </tr>\n",
       "    <tr>\n",
       "      <th>1</th>\n",
       "      <td>4</td>\n",
       "      <td>Lewis Lee Lembke</td>\n",
       "      <td>2015-01-02</td>\n",
       "      <td>shot</td>\n",
       "      <td>gun</td>\n",
       "      <td>47.0</td>\n",
       "      <td>M</td>\n",
       "      <td>White</td>\n",
       "      <td>Aloha</td>\n",
       "      <td>OR</td>\n",
       "      <td>False</td>\n",
       "      <td>attack</td>\n",
       "      <td>Not fleeing</td>\n",
       "      <td>False</td>\n",
       "      <td>Guns</td>\n",
       "    </tr>\n",
       "    <tr>\n",
       "      <th>2</th>\n",
       "      <td>5</td>\n",
       "      <td>John Paul Quintero</td>\n",
       "      <td>2015-01-03</td>\n",
       "      <td>shot and Tasered</td>\n",
       "      <td>unarmed</td>\n",
       "      <td>23.0</td>\n",
       "      <td>M</td>\n",
       "      <td>Hispanic</td>\n",
       "      <td>Wichita</td>\n",
       "      <td>KS</td>\n",
       "      <td>False</td>\n",
       "      <td>other</td>\n",
       "      <td>Not fleeing</td>\n",
       "      <td>False</td>\n",
       "      <td>Unarmed</td>\n",
       "    </tr>\n",
       "    <tr>\n",
       "      <th>3</th>\n",
       "      <td>8</td>\n",
       "      <td>Matthew Hoffman</td>\n",
       "      <td>2015-01-04</td>\n",
       "      <td>shot</td>\n",
       "      <td>toy weapon</td>\n",
       "      <td>32.0</td>\n",
       "      <td>M</td>\n",
       "      <td>White</td>\n",
       "      <td>San Francisco</td>\n",
       "      <td>CA</td>\n",
       "      <td>True</td>\n",
       "      <td>attack</td>\n",
       "      <td>Not fleeing</td>\n",
       "      <td>False</td>\n",
       "      <td>Other unusual objects</td>\n",
       "    </tr>\n",
       "    <tr>\n",
       "      <th>4</th>\n",
       "      <td>9</td>\n",
       "      <td>Michael Rodriguez</td>\n",
       "      <td>2015-01-04</td>\n",
       "      <td>shot</td>\n",
       "      <td>nail gun</td>\n",
       "      <td>39.0</td>\n",
       "      <td>M</td>\n",
       "      <td>Hispanic</td>\n",
       "      <td>Evans</td>\n",
       "      <td>CO</td>\n",
       "      <td>False</td>\n",
       "      <td>attack</td>\n",
       "      <td>Not fleeing</td>\n",
       "      <td>False</td>\n",
       "      <td>Piercing objects</td>\n",
       "    </tr>\n",
       "    <tr>\n",
       "      <th>...</th>\n",
       "      <td>...</td>\n",
       "      <td>...</td>\n",
       "      <td>...</td>\n",
       "      <td>...</td>\n",
       "      <td>...</td>\n",
       "      <td>...</td>\n",
       "      <td>...</td>\n",
       "      <td>...</td>\n",
       "      <td>...</td>\n",
       "      <td>...</td>\n",
       "      <td>...</td>\n",
       "      <td>...</td>\n",
       "      <td>...</td>\n",
       "      <td>...</td>\n",
       "      <td>...</td>\n",
       "    </tr>\n",
       "    <tr>\n",
       "      <th>4890</th>\n",
       "      <td>5916</td>\n",
       "      <td>Rayshard Brooks</td>\n",
       "      <td>2020-06-12</td>\n",
       "      <td>shot</td>\n",
       "      <td>Taser</td>\n",
       "      <td>27.0</td>\n",
       "      <td>M</td>\n",
       "      <td>Black</td>\n",
       "      <td>Atlanta</td>\n",
       "      <td>GA</td>\n",
       "      <td>False</td>\n",
       "      <td>attack</td>\n",
       "      <td>Foot</td>\n",
       "      <td>True</td>\n",
       "      <td>Electrical devices</td>\n",
       "    </tr>\n",
       "    <tr>\n",
       "      <th>4891</th>\n",
       "      <td>5925</td>\n",
       "      <td>Caine Van Pelt</td>\n",
       "      <td>2020-06-12</td>\n",
       "      <td>shot</td>\n",
       "      <td>gun</td>\n",
       "      <td>23.0</td>\n",
       "      <td>M</td>\n",
       "      <td>Black</td>\n",
       "      <td>Crown Point</td>\n",
       "      <td>IN</td>\n",
       "      <td>False</td>\n",
       "      <td>attack</td>\n",
       "      <td>Car</td>\n",
       "      <td>False</td>\n",
       "      <td>Guns</td>\n",
       "    </tr>\n",
       "    <tr>\n",
       "      <th>4892</th>\n",
       "      <td>5918</td>\n",
       "      <td>Hannah Fizer</td>\n",
       "      <td>2020-06-13</td>\n",
       "      <td>shot</td>\n",
       "      <td>unarmed</td>\n",
       "      <td>25.0</td>\n",
       "      <td>F</td>\n",
       "      <td>White</td>\n",
       "      <td>Sedalia</td>\n",
       "      <td>MO</td>\n",
       "      <td>False</td>\n",
       "      <td>other</td>\n",
       "      <td>Not fleeing</td>\n",
       "      <td>False</td>\n",
       "      <td>Unarmed</td>\n",
       "    </tr>\n",
       "    <tr>\n",
       "      <th>4893</th>\n",
       "      <td>5921</td>\n",
       "      <td>William Slyter</td>\n",
       "      <td>2020-06-13</td>\n",
       "      <td>shot</td>\n",
       "      <td>gun</td>\n",
       "      <td>22.0</td>\n",
       "      <td>M</td>\n",
       "      <td>White</td>\n",
       "      <td>Kansas City</td>\n",
       "      <td>MO</td>\n",
       "      <td>False</td>\n",
       "      <td>other</td>\n",
       "      <td>Other</td>\n",
       "      <td>False</td>\n",
       "      <td>Guns</td>\n",
       "    </tr>\n",
       "    <tr>\n",
       "      <th>4894</th>\n",
       "      <td>5924</td>\n",
       "      <td>Nicholas Hirsh</td>\n",
       "      <td>2020-06-15</td>\n",
       "      <td>shot</td>\n",
       "      <td>gun</td>\n",
       "      <td>31.0</td>\n",
       "      <td>M</td>\n",
       "      <td>White</td>\n",
       "      <td>Lawrence</td>\n",
       "      <td>KS</td>\n",
       "      <td>False</td>\n",
       "      <td>attack</td>\n",
       "      <td>Car</td>\n",
       "      <td>False</td>\n",
       "      <td>Guns</td>\n",
       "    </tr>\n",
       "  </tbody>\n",
       "</table>\n",
       "<p>4895 rows × 15 columns</p>\n",
       "</div>"
      ],
      "text/plain": [
       "        id                name        date   manner_of_death       armed  \\\n",
       "0        3          Tim Elliot  2015-01-02              shot         gun   \n",
       "1        4    Lewis Lee Lembke  2015-01-02              shot         gun   \n",
       "2        5  John Paul Quintero  2015-01-03  shot and Tasered     unarmed   \n",
       "3        8     Matthew Hoffman  2015-01-04              shot  toy weapon   \n",
       "4        9   Michael Rodriguez  2015-01-04              shot    nail gun   \n",
       "...    ...                 ...         ...               ...         ...   \n",
       "4890  5916     Rayshard Brooks  2020-06-12              shot       Taser   \n",
       "4891  5925      Caine Van Pelt  2020-06-12              shot         gun   \n",
       "4892  5918        Hannah Fizer  2020-06-13              shot     unarmed   \n",
       "4893  5921      William Slyter  2020-06-13              shot         gun   \n",
       "4894  5924      Nicholas Hirsh  2020-06-15              shot         gun   \n",
       "\n",
       "       age gender      race           city state  signs_of_mental_illness  \\\n",
       "0     53.0      M     Asian        Shelton    WA                     True   \n",
       "1     47.0      M     White          Aloha    OR                    False   \n",
       "2     23.0      M  Hispanic        Wichita    KS                    False   \n",
       "3     32.0      M     White  San Francisco    CA                     True   \n",
       "4     39.0      M  Hispanic          Evans    CO                    False   \n",
       "...    ...    ...       ...            ...   ...                      ...   \n",
       "4890  27.0      M     Black        Atlanta    GA                    False   \n",
       "4891  23.0      M     Black    Crown Point    IN                    False   \n",
       "4892  25.0      F     White        Sedalia    MO                    False   \n",
       "4893  22.0      M     White    Kansas City    MO                    False   \n",
       "4894  31.0      M     White       Lawrence    KS                    False   \n",
       "\n",
       "     threat_level         flee  body_camera          arms_category  \n",
       "0          attack  Not fleeing        False                   Guns  \n",
       "1          attack  Not fleeing        False                   Guns  \n",
       "2           other  Not fleeing        False                Unarmed  \n",
       "3          attack  Not fleeing        False  Other unusual objects  \n",
       "4          attack  Not fleeing        False       Piercing objects  \n",
       "...           ...          ...          ...                    ...  \n",
       "4890       attack         Foot         True     Electrical devices  \n",
       "4891       attack          Car        False                   Guns  \n",
       "4892        other  Not fleeing        False                Unarmed  \n",
       "4893        other        Other        False                   Guns  \n",
       "4894       attack          Car        False                   Guns  \n",
       "\n",
       "[4895 rows x 15 columns]"
      ]
     },
     "execution_count": 6,
     "metadata": {},
     "output_type": "execute_result"
    }
   ],
   "source": [
    "df_PS"
   ]
  },
  {
   "cell_type": "markdown",
   "metadata": {},
   "source": [
    "## Limpieza de datos."
   ]
  },
  {
   "cell_type": "markdown",
   "metadata": {},
   "source": [
    "#### Columnas no deseadas."
   ]
  },
  {
   "cell_type": "code",
   "execution_count": 7,
   "metadata": {},
   "outputs": [],
   "source": [
    "df_PS = df_PS.drop(['name','body_camera', 'date', 'city', 'armed'], axis=1)"
   ]
  },
  {
   "cell_type": "markdown",
   "metadata": {},
   "source": [
    "* **name:** Se eliminó debido a que el nombre de las personas no es relevante para el análisis.\n",
    "* **body_camera:** Se eliminó porque no nos interesa saber si traían una cámara en el cuerpo.\n",
    "* **date:** Se eliminó dado que no nos interesa el día en que sucedió el atentado.\n",
    "* **city:** Se eliminó dado que nos enfocaremos en analizar los atentados por Estado.\n",
    "* **armed:** Se eliminó dado que tenemos una columna similar llamada \"arms_category\" y ésta es la que tomaremos en cuenta."
   ]
  },
  {
   "cell_type": "markdown",
   "metadata": {},
   "source": [
    "#### Renombrar Columnas"
   ]
  },
  {
   "cell_type": "code",
   "execution_count": 8,
   "metadata": {},
   "outputs": [],
   "source": [
    "df_PS = df_PS.rename(columns={'manner_of_death':'Manera_de_la_muerte',\n",
    "                              'age': 'Edad',\n",
    "                              'gender':'Genero',\n",
    "                              'race':'Raza', \n",
    "                              'state':'Estado',\n",
    "                              'signs_of_mental_illness':'Signos_de_enfermedades_mentales',\n",
    "                              'threat_level':'Nivel_de_amenaza',\n",
    "                              'flee':'Escapo',\n",
    "                              'arms_category': 'Portacion_de_arma' })"
   ]
  },
  {
   "cell_type": "markdown",
   "metadata": {},
   "source": [
    "Las cambiamos para identificarlos con facilidad en nuestro idioma nativo."
   ]
  },
  {
   "cell_type": "markdown",
   "metadata": {},
   "source": [
    "#### Edición de columna \"Portacion_de_arma\"."
   ]
  },
  {
   "cell_type": "markdown",
   "metadata": {},
   "source": [
    "Editaremos esta columna, con la finalidad de analizar si el uso de violencia (disparos) por parte de la policía fue justificado o no, por el hecho de que la persona portará un arma, y por consiguiente se le considerara una amenza."
   ]
  },
  {
   "cell_type": "code",
   "execution_count": 9,
   "metadata": {},
   "outputs": [
    {
     "data": {
      "text/plain": [
       "array(['Guns', 'Unarmed', 'Other unusual objects', 'Piercing objects',\n",
       "       'Sharp objects', 'Unknown', 'Blunt instruments', 'Multiple',\n",
       "       'Electrical devices', 'Hand tools', 'Vehicles', 'Explosives'],\n",
       "      dtype=object)"
      ]
     },
     "execution_count": 9,
     "metadata": {},
     "output_type": "execute_result"
    }
   ],
   "source": [
    "df_PS['Portacion_de_arma'].unique()"
   ]
  },
  {
   "cell_type": "markdown",
   "metadata": {},
   "source": [
    "**Nota:** Separaremos en 3 categorías  la columna de categoría de armas: Armado, Desarmado y Desconocido. Esto para simplificar las cosas para nuestro análisis."
   ]
  },
  {
   "cell_type": "markdown",
   "metadata": {},
   "source": [
    "*Consideraciones:*\n",
    "* A las personas que porten una arma de cualquier categoría, se les considerarán como personas armadas, es decir, entrarán en la categoría de \"Armado\".\n",
    "* Podemos notar que existen casos en donde se desconoce si portaba un arma o no, por lo que entrará en la categoría de \"Desconocido\"."
   ]
  },
  {
   "cell_type": "code",
   "execution_count": 10,
   "metadata": {},
   "outputs": [],
   "source": [
    "df_PS = df_PS.replace({\"Guns\": \"Armado\",\n",
    "                       \"Other unusual objects\": \"Armado\",\n",
    "                       \"Piercing objects\": \"Armado\" ,\n",
    "                       \"Sharp objects\": \"Armado\" ,\n",
    "                       \"Blunt instruments\": \"Armado\" ,\n",
    "                       \"Multiple\": \"Armado\" ,\n",
    "                       \"Electrical devices\": \"Armado\" ,\n",
    "                       \"Hand tools\": \"Armado\" ,\n",
    "                       \"Vehicles\": \"Armado\" ,\n",
    "                       \"Explosives\": \"Armado\",\n",
    "                       \"Unarmed\": \"Desarmado\",\n",
    "                       \"Unknown\": \"Desconocido\"})"
   ]
  },
  {
   "cell_type": "code",
   "execution_count": 11,
   "metadata": {},
   "outputs": [
    {
     "data": {
      "text/plain": [
       "array(['Armado', 'Desarmado', 'Desconocido'], dtype=object)"
      ]
     },
     "execution_count": 11,
     "metadata": {},
     "output_type": "execute_result"
    }
   ],
   "source": [
    "df_PS['Portacion_de_arma'].unique()"
   ]
  },
  {
   "cell_type": "markdown",
   "metadata": {},
   "source": [
    "**Base de datos manipulada.**"
   ]
  },
  {
   "cell_type": "code",
   "execution_count": 12,
   "metadata": {},
   "outputs": [
    {
     "data": {
      "text/html": [
       "<div>\n",
       "<style scoped>\n",
       "    .dataframe tbody tr th:only-of-type {\n",
       "        vertical-align: middle;\n",
       "    }\n",
       "\n",
       "    .dataframe tbody tr th {\n",
       "        vertical-align: top;\n",
       "    }\n",
       "\n",
       "    .dataframe thead th {\n",
       "        text-align: right;\n",
       "    }\n",
       "</style>\n",
       "<table border=\"1\" class=\"dataframe\">\n",
       "  <thead>\n",
       "    <tr style=\"text-align: right;\">\n",
       "      <th></th>\n",
       "      <th>id</th>\n",
       "      <th>Manera_de_la_muerte</th>\n",
       "      <th>Edad</th>\n",
       "      <th>Genero</th>\n",
       "      <th>Raza</th>\n",
       "      <th>Estado</th>\n",
       "      <th>Signos_de_enfermedades_mentales</th>\n",
       "      <th>Nivel_de_amenaza</th>\n",
       "      <th>Escapo</th>\n",
       "      <th>Portacion_de_arma</th>\n",
       "    </tr>\n",
       "  </thead>\n",
       "  <tbody>\n",
       "    <tr>\n",
       "      <th>0</th>\n",
       "      <td>3</td>\n",
       "      <td>shot</td>\n",
       "      <td>53.0</td>\n",
       "      <td>M</td>\n",
       "      <td>Asian</td>\n",
       "      <td>WA</td>\n",
       "      <td>True</td>\n",
       "      <td>attack</td>\n",
       "      <td>Not fleeing</td>\n",
       "      <td>Armado</td>\n",
       "    </tr>\n",
       "    <tr>\n",
       "      <th>1</th>\n",
       "      <td>4</td>\n",
       "      <td>shot</td>\n",
       "      <td>47.0</td>\n",
       "      <td>M</td>\n",
       "      <td>White</td>\n",
       "      <td>OR</td>\n",
       "      <td>False</td>\n",
       "      <td>attack</td>\n",
       "      <td>Not fleeing</td>\n",
       "      <td>Armado</td>\n",
       "    </tr>\n",
       "    <tr>\n",
       "      <th>2</th>\n",
       "      <td>5</td>\n",
       "      <td>shot and Tasered</td>\n",
       "      <td>23.0</td>\n",
       "      <td>M</td>\n",
       "      <td>Hispanic</td>\n",
       "      <td>KS</td>\n",
       "      <td>False</td>\n",
       "      <td>other</td>\n",
       "      <td>Not fleeing</td>\n",
       "      <td>Desarmado</td>\n",
       "    </tr>\n",
       "    <tr>\n",
       "      <th>3</th>\n",
       "      <td>8</td>\n",
       "      <td>shot</td>\n",
       "      <td>32.0</td>\n",
       "      <td>M</td>\n",
       "      <td>White</td>\n",
       "      <td>CA</td>\n",
       "      <td>True</td>\n",
       "      <td>attack</td>\n",
       "      <td>Not fleeing</td>\n",
       "      <td>Armado</td>\n",
       "    </tr>\n",
       "    <tr>\n",
       "      <th>4</th>\n",
       "      <td>9</td>\n",
       "      <td>shot</td>\n",
       "      <td>39.0</td>\n",
       "      <td>M</td>\n",
       "      <td>Hispanic</td>\n",
       "      <td>CO</td>\n",
       "      <td>False</td>\n",
       "      <td>attack</td>\n",
       "      <td>Not fleeing</td>\n",
       "      <td>Armado</td>\n",
       "    </tr>\n",
       "    <tr>\n",
       "      <th>...</th>\n",
       "      <td>...</td>\n",
       "      <td>...</td>\n",
       "      <td>...</td>\n",
       "      <td>...</td>\n",
       "      <td>...</td>\n",
       "      <td>...</td>\n",
       "      <td>...</td>\n",
       "      <td>...</td>\n",
       "      <td>...</td>\n",
       "      <td>...</td>\n",
       "    </tr>\n",
       "    <tr>\n",
       "      <th>4890</th>\n",
       "      <td>5916</td>\n",
       "      <td>shot</td>\n",
       "      <td>27.0</td>\n",
       "      <td>M</td>\n",
       "      <td>Black</td>\n",
       "      <td>GA</td>\n",
       "      <td>False</td>\n",
       "      <td>attack</td>\n",
       "      <td>Foot</td>\n",
       "      <td>Armado</td>\n",
       "    </tr>\n",
       "    <tr>\n",
       "      <th>4891</th>\n",
       "      <td>5925</td>\n",
       "      <td>shot</td>\n",
       "      <td>23.0</td>\n",
       "      <td>M</td>\n",
       "      <td>Black</td>\n",
       "      <td>IN</td>\n",
       "      <td>False</td>\n",
       "      <td>attack</td>\n",
       "      <td>Car</td>\n",
       "      <td>Armado</td>\n",
       "    </tr>\n",
       "    <tr>\n",
       "      <th>4892</th>\n",
       "      <td>5918</td>\n",
       "      <td>shot</td>\n",
       "      <td>25.0</td>\n",
       "      <td>F</td>\n",
       "      <td>White</td>\n",
       "      <td>MO</td>\n",
       "      <td>False</td>\n",
       "      <td>other</td>\n",
       "      <td>Not fleeing</td>\n",
       "      <td>Desarmado</td>\n",
       "    </tr>\n",
       "    <tr>\n",
       "      <th>4893</th>\n",
       "      <td>5921</td>\n",
       "      <td>shot</td>\n",
       "      <td>22.0</td>\n",
       "      <td>M</td>\n",
       "      <td>White</td>\n",
       "      <td>MO</td>\n",
       "      <td>False</td>\n",
       "      <td>other</td>\n",
       "      <td>Other</td>\n",
       "      <td>Armado</td>\n",
       "    </tr>\n",
       "    <tr>\n",
       "      <th>4894</th>\n",
       "      <td>5924</td>\n",
       "      <td>shot</td>\n",
       "      <td>31.0</td>\n",
       "      <td>M</td>\n",
       "      <td>White</td>\n",
       "      <td>KS</td>\n",
       "      <td>False</td>\n",
       "      <td>attack</td>\n",
       "      <td>Car</td>\n",
       "      <td>Armado</td>\n",
       "    </tr>\n",
       "  </tbody>\n",
       "</table>\n",
       "<p>4895 rows × 10 columns</p>\n",
       "</div>"
      ],
      "text/plain": [
       "        id Manera_de_la_muerte  Edad Genero      Raza Estado  \\\n",
       "0        3                shot  53.0      M     Asian     WA   \n",
       "1        4                shot  47.0      M     White     OR   \n",
       "2        5    shot and Tasered  23.0      M  Hispanic     KS   \n",
       "3        8                shot  32.0      M     White     CA   \n",
       "4        9                shot  39.0      M  Hispanic     CO   \n",
       "...    ...                 ...   ...    ...       ...    ...   \n",
       "4890  5916                shot  27.0      M     Black     GA   \n",
       "4891  5925                shot  23.0      M     Black     IN   \n",
       "4892  5918                shot  25.0      F     White     MO   \n",
       "4893  5921                shot  22.0      M     White     MO   \n",
       "4894  5924                shot  31.0      M     White     KS   \n",
       "\n",
       "      Signos_de_enfermedades_mentales Nivel_de_amenaza       Escapo  \\\n",
       "0                                True           attack  Not fleeing   \n",
       "1                               False           attack  Not fleeing   \n",
       "2                               False            other  Not fleeing   \n",
       "3                                True           attack  Not fleeing   \n",
       "4                               False           attack  Not fleeing   \n",
       "...                               ...              ...          ...   \n",
       "4890                            False           attack         Foot   \n",
       "4891                            False           attack          Car   \n",
       "4892                            False            other  Not fleeing   \n",
       "4893                            False            other        Other   \n",
       "4894                            False           attack          Car   \n",
       "\n",
       "     Portacion_de_arma  \n",
       "0               Armado  \n",
       "1               Armado  \n",
       "2            Desarmado  \n",
       "3               Armado  \n",
       "4               Armado  \n",
       "...                ...  \n",
       "4890            Armado  \n",
       "4891            Armado  \n",
       "4892         Desarmado  \n",
       "4893            Armado  \n",
       "4894            Armado  \n",
       "\n",
       "[4895 rows x 10 columns]"
      ]
     },
     "execution_count": 12,
     "metadata": {},
     "output_type": "execute_result"
    }
   ],
   "source": [
    "df_PS"
   ]
  },
  {
   "cell_type": "markdown",
   "metadata": {},
   "source": [
    "## Estadística básica de los datos."
   ]
  },
  {
   "cell_type": "code",
   "execution_count": 13,
   "metadata": {},
   "outputs": [
    {
     "data": {
      "text/plain": [
       "count    4895.000000\n",
       "mean       36.549750\n",
       "std        12.694348\n",
       "min         6.000000\n",
       "25%        27.000000\n",
       "50%        35.000000\n",
       "75%        45.000000\n",
       "max        91.000000\n",
       "Name: Edad, dtype: float64"
      ]
     },
     "execution_count": 13,
     "metadata": {},
     "output_type": "execute_result"
    }
   ],
   "source": [
    "df_PS['Edad'].describe()"
   ]
  },
  {
   "cell_type": "markdown",
   "metadata": {},
   "source": [
    "Este comando nos permite ver la estadística básica de la variable edad lo que nos ofrece información muy relevante para el análisis posterior."
   ]
  },
  {
   "cell_type": "markdown",
   "metadata": {},
   "source": [
    "**Observación:** Aquí podemos rescatar los siguientes puntos:\n",
    "  * La edad promedio de personas abatidas esta entre 36 y 37 años.\n",
    "  * Consideramos alarmante que se le haya disparado (ya sea por necesidad o negligencia de la policía) a menores, siendo la edad más chica de 6 años.\n",
    "  * La mayor parte de la personas abatidas por la policía tienen 45 años o menos."
   ]
  },
  {
   "cell_type": "code",
   "execution_count": 14,
   "metadata": {},
   "outputs": [
    {
     "data": {
      "text/plain": [
       "M    4673\n",
       "F     222\n",
       "Name: Genero, dtype: int64"
      ]
     },
     "execution_count": 14,
     "metadata": {},
     "output_type": "execute_result"
    }
   ],
   "source": [
    "df_PS['Genero'].value_counts()"
   ]
  },
  {
   "cell_type": "markdown",
   "metadata": {},
   "source": [
    "Con esta información podemos saber la dominancia del género.\n",
    "\n",
    "**Observación:** La mayoría de las personas abatidas por la policía son hombres."
   ]
  },
  {
   "cell_type": "code",
   "execution_count": 15,
   "metadata": {},
   "outputs": [
    {
     "data": {
      "text/plain": [
       "White       2476\n",
       "Black       1298\n",
       "Hispanic     902\n",
       "Asian         93\n",
       "Native        78\n",
       "Other         48\n",
       "Name: Raza, dtype: int64"
      ]
     },
     "execution_count": 15,
     "metadata": {},
     "output_type": "execute_result"
    }
   ],
   "source": [
    "df_PS['Raza'].value_counts()"
   ]
  },
  {
   "cell_type": "markdown",
   "metadata": {},
   "source": [
    "Este es, quizás, nuestra información más relevante para nuestro primer análisis."
   ]
  },
  {
   "cell_type": "markdown",
   "metadata": {},
   "source": [
    "## Visualización de datos."
   ]
  },
  {
   "cell_type": "code",
   "execution_count": 16,
   "metadata": {},
   "outputs": [],
   "source": [
    "import matplotlib as plt\n",
    "import matplotlib.pyplot as plt\n",
    "%matplotlib inline\n",
    "import seaborn as sns"
   ]
  },
  {
   "cell_type": "markdown",
   "metadata": {},
   "source": [
    "### Segmentos por Razas"
   ]
  },
  {
   "cell_type": "code",
   "execution_count": 17,
   "metadata": {},
   "outputs": [
    {
     "data": {
      "image/png": "[encoded data removed]",
      "text/plain": [
       "<Figure size 1080x720 with 2 Axes>"
      ]
     },
     "metadata": {
      "needs_background": "light"
     },
     "output_type": "display_data"
    }
   ],
   "source": [
    "plt.ion()\n",
    "plt.figure(figsize = [15,10])\n",
    "plt.subplot(1,2,1)\n",
    "df_PS['Raza'].value_counts().plot.bar()\n",
    "plt.title(\"Conteo de personas por raza\", fontsize=14)\n",
    "\n",
    "plt.subplot(1,2,2)\n",
    "labels = df_PS['Raza'].value_counts().keys()\n",
    "plt.pie(x = df_PS['Raza'].value_counts(),\n",
    "        autopct = '%.1f%%', explode=[0.05]*6,\n",
    "        labels=labels,\n",
    "        pctdistance=1.09,\n",
    "        labeldistance = 1.2,\n",
    "        radius = 0.9)\n",
    "plt.title(\"Proporción de personas por raza\", fontsize=14)\n",
    "plt.show()"
   ]
  },
  {
   "cell_type": "markdown",
   "metadata": {},
   "source": [
    "**Interpretación:** El gráfico nos muestra que la mayoría de las personas en la base de datos son blancas, negras e hispanas.\n",
    "\n",
    "Esta proporción no puede ser tomada como la proporción real o cercana de razas en el país de Estados Unidos porque no sabemos si los datos fueron tomados con una técnica de muestreo válido. Pero es suficiente para saber que datos manejamos."
   ]
  },
  {
   "cell_type": "markdown",
   "metadata": {},
   "source": [
    "### Análisis de portación de arma por raza"
   ]
  },
  {
   "cell_type": "code",
   "execution_count": 18,
   "metadata": {},
   "outputs": [
    {
     "name": "stderr",
     "output_type": "stream",
     "text": [
      "<ipython-input-18-8f5ca1192f94>:23: MatplotlibDeprecationWarning: normalize=None does not normalize if the sum is less than 1 but this behavior is deprecated since 3.3 until two minor releases later. After the deprecation period the default value will be normalize=True. To prevent normalization pass normalize=False \n",
      "  plt.pie(df_PS[df_PS['Raza']=='Asian']['Portacion_de_arma'].value_counts() / len(df_PS[df_PS['Raza']=='Asian']),\n"
     ]
    },
    {
     "data": {
      "text/plain": [
       "Text(0.5, 1.0, 'Proporción de otras razas')"
      ]
     },
     "execution_count": 18,
     "metadata": {},
     "output_type": "execute_result"
    },
    {
     "data": {
      "image/png": "[encoded data removed]",
      "text/plain": [
       "<Figure size 1080x720 with 6 Axes>"
      ]
     },
     "metadata": {},
     "output_type": "display_data"
    }
   ],
   "source": [
    "nombres = [\"Armado\", \"Desconocido\", \"Desarmado\"]\n",
    "plt.ion()\n",
    "plt.figure(figsize = [15,10])\n",
    "plt.subplot(2,3,1)\n",
    "plt.pie(df_PS[df_PS['Raza']=='White']['Portacion_de_arma'].value_counts() / len(df_PS[df_PS['Raza']=='White']),\n",
    "        labels = nombres,\n",
    "        autopct='%.1f%%')\n",
    "plt.title(\"Proporción de raza Blanca\", size=14)\n",
    "\n",
    "plt.subplot(2,3,2)\n",
    "plt.pie(df_PS[df_PS['Raza']=='Black']['Portacion_de_arma'].value_counts() / len(df_PS[df_PS['Raza']=='Black']),\n",
    "        labels = nombres,\n",
    "        autopct='%.1f%%')\n",
    "plt.title(\"Proporción de raza Negra\", size=14)\n",
    "\n",
    "plt.subplot(2,3,3)\n",
    "plt.pie(df_PS[df_PS['Raza']=='Hispanic']['Portacion_de_arma'].value_counts() / len(df_PS[df_PS['Raza']=='Hispanic']),\n",
    "        labels = nombres,\n",
    "        autopct='%.1f%%')\n",
    "plt.title(\"Proporción de raza Hispana\", size=14)\n",
    "\n",
    "plt.subplot(2,3,4)\n",
    "plt.pie(df_PS[df_PS['Raza']=='Asian']['Portacion_de_arma'].value_counts() / len(df_PS[df_PS['Raza']=='Asian']),\n",
    "        labels = nombres,\n",
    "        autopct='%.1f%%')\n",
    "plt.title(\"Proporción de raza Asiatica\", size=14)\n",
    "\n",
    "plt.subplot(2,3,5)\n",
    "plt.pie(df_PS[df_PS['Raza']=='Native']['Portacion_de_arma'].value_counts() / len(df_PS[df_PS['Raza']=='Native']),\n",
    "        labels = nombres,\n",
    "        autopct='%.1f%%')\n",
    "plt.title(\"Proporción de raza Nativa\", size=14)\n",
    "\n",
    "plt.subplot(2,3,6)\n",
    "plt.pie(df_PS[df_PS['Raza']=='Other']['Portacion_de_arma'].value_counts() / len(df_PS[df_PS['Raza']=='Other']),\n",
    "        labels = nombres,\n",
    "        autopct='%.1f%%')\n",
    "plt.title(\"Proporción de otras razas\", size=14)"
   ]
  },
  {
   "cell_type": "markdown",
   "metadata": {},
   "source": [
    "**Interpretación:** Dado que tenemos cantidades desiguales de individuos por razas, quisimos hacer el comparativo con los gráficos de pastel para homogeneizar el análisis. Encontrando que la mayoría de los disparos que fueron efectuados por la policía estadounidense fue, porque los individuos portaban armas, este resultado es lo más natural dadas las leyes de dicho país."
   ]
  },
  {
   "cell_type": "markdown",
   "metadata": {},
   "source": [
    "### Gráfica de barras comparativo."
   ]
  },
  {
   "cell_type": "code",
   "execution_count": 19,
   "metadata": {},
   "outputs": [
    {
     "data": {
      "text/plain": [
       "Text(0.5, 1.0, 'Proporción de personas abatidas que no presentaban un riesgo')"
      ]
     },
     "execution_count": 19,
     "metadata": {},
     "output_type": "execute_result"
    },
    {
     "data": {
      "image/png": "[encoded data removed]",
      "text/plain": [
       "<Figure size 1080x360 with 2 Axes>"
      ]
     },
     "metadata": {
      "needs_background": "light"
     },
     "output_type": "display_data"
    }
   ],
   "source": [
    "plt.ion()\n",
    "plt.figure(figsize = [15,5])\n",
    "plt.subplot(1,2,1)\n",
    "(df_PS[df_PS['Portacion_de_arma']=='Desarmado']['Raza'].value_counts() / df_PS['Raza'].value_counts()).plot.bar()\n",
    "plt.title(\"Personas desarmadas por razas en proporción\", size=15)\n",
    "\n",
    "plt.subplot(1,2,2)\n",
    "(df_PS[(df_PS['Portacion_de_arma']=='Desarmado') & (df_PS['Escapo'] == 'Not fleeing') & (df_PS['Nivel_de_amenaza'] == 'other')]['Raza'].value_counts() / df_PS['Raza'].value_counts()).plot.bar()\n",
    "plt.title(\"Proporción de personas abatidas que no presentaban un riesgo\", size=15)"
   ]
  },
  {
   "cell_type": "markdown",
   "metadata": {},
   "source": [
    "**Interpretación gráfico 1:** Se muestran los porcentajes por raza de las personas que fueron abatidas considerando que no portaban un arma (posiblemente no representaban un riesgo). Podemos observar que la raza blanca y la raza nativa son las de menor porcentaje de individuos desarmados abatidos.\n",
    "\n",
    "Para lo anterior, se consideró si estaba desarmarmada la persona abatida."
   ]
  },
  {
   "cell_type": "markdown",
   "metadata": {},
   "source": [
    "**Interpretación gráfico 2:**  En este gráfico se realiza la comparación por razas de las personas que no se considerarían una razón, riesgo o amenaza suficiente para ser abatido bajo las circunstancias normales según las leyes de Estados Unidos de América. Los porcentajes más altos son para las razas catalogadas como \"otro\" y la raza asiática.\n",
    "\n",
    "Para lo anterior, se consideraron los siguientes criterios:\n",
    "* Desarmado.\n",
    "* No huyó.\n",
    "* No trato de atacar. "
   ]
  },
  {
   "cell_type": "markdown",
   "metadata": {},
   "source": [
    "### Análisis de edad."
   ]
  },
  {
   "cell_type": "code",
   "execution_count": 20,
   "metadata": {
    "scrolled": false
   },
   "outputs": [
    {
     "data": {
      "text/plain": [
       "<AxesSubplot:xlabel='Edad', ylabel='Density'>"
      ]
     },
     "execution_count": 20,
     "metadata": {},
     "output_type": "execute_result"
    },
    {
     "data": {
      "image/png": "[encoded data removed]",
      "text/plain": [
       "<Figure size 1080x720 with 4 Axes>"
      ]
     },
     "metadata": {
      "needs_background": "light"
     },
     "output_type": "display_data"
    }
   ],
   "source": [
    "plt.ion()\n",
    "plt.figure(figsize = [15,10])\n",
    "plt.subplot(2,2,1)\n",
    "df_PS['Edad'].value_counts().sort_index().plot.line()\n",
    "\n",
    "plt.subplot(2,2,2)\n",
    "df_PS['Edad'].value_counts().sort_index().plot.area()\n",
    "\n",
    "plt.subplot(2,2,3)\n",
    "df_PS['Edad'].plot.hist()\n",
    "\n",
    "plt.subplot(2,2,4)\n",
    "sns.kdeplot(df_PS['Edad'])"
   ]
  },
  {
   "cell_type": "markdown",
   "metadata": {},
   "source": [
    "**Interpretación:** Estos gráficos muestran las frecuencias de las edades de los individuos. Se logra notar frecuencias altas entre los 25 y 35 años. Una alza prominente a partir de los 15 años aproximadamente, y un decenso menos pronunciado."
   ]
  },
  {
   "cell_type": "markdown",
   "metadata": {},
   "source": [
    "### Conteo por Estados."
   ]
  },
  {
   "cell_type": "code",
   "execution_count": 21,
   "metadata": {
    "scrolled": true
   },
   "outputs": [
    {
     "data": {
      "text/plain": [
       "<AxesSubplot:>"
      ]
     },
     "execution_count": 21,
     "metadata": {},
     "output_type": "execute_result"
    },
    {
     "data": {
      "image/png": "[encoded data removed]",
      "text/plain": [
       "<Figure size 1080x360 with 1 Axes>"
      ]
     },
     "metadata": {
      "needs_background": "light"
     },
     "output_type": "display_data"
    }
   ],
   "source": [
    "plt.figure(figsize = [15,5])\n",
    "df_PS['Estado'].value_counts().sort_values(ascending = False).plot.bar()"
   ]
  },
  {
   "cell_type": "markdown",
   "metadata": {},
   "source": [
    "**Interpretación:** El gráfico muestra la cantidad de personas abatidas por la policía estadounidense por estados, siendo California, Texas y Florida los estados con más casos."
   ]
  },
  {
   "cell_type": "markdown",
   "metadata": {},
   "source": [
    "**Conclusión:**\n",
    "\n",
    "Después del análisis de los datos, encontramos que la mayoría de las personas que fueron abatidas sin importar su raza, tenían armas a su disposición. Más, si hay una parte de la población que estaban desarmadas o se desconocía si traían arma o no, y que aparte de todo las condiciones en que se presentaron los hechos nos indican que no había elementos para que se les considerará un riesgo. \n",
    "\n",
    "Lo anterior, es preocupante porque si bien, no es la mayoría de la población, no debería de pasar. Además de que, es alarmante para la sociedad que se hayan tenido que abatir a menores (en especial de entre 6 y 12 años), sin importar si poseían un arma o no.\n",
    "\n",
    "Por otra parte, hay que mencionar que hay una dominancia de personas abatidas en California, Texas y Florida, por lo que estaría bien estudiar más adeante si la mayoría de los disparos por la policía estuvieron justificados y si hay un indicativo de que algún tipo de raza tiene predominancia."
   ]
  },
  {
   "cell_type": "code",
   "execution_count": null,
   "metadata": {},
   "outputs": [],
   "source": []
  }
 ],
 "metadata": {
  "kernelspec": {
   "display_name": "Python 3",
   "language": "python",
   "name": "python3"
  },
  "language_info": {
   "codemirror_mode": {
    "name": "ipython",
    "version": 3
   },
   "file_extension": ".py",
   "mimetype": "text/x-python",
   "name": "python",
   "nbconvert_exporter": "python",
   "pygments_lexer": "ipython3",
   "version": "3.8.5"
  }
 },
 "nbformat": 4,
 "nbformat_minor": 4
}
