{
 "cells": [
  {
   "cell_type": "markdown",
   "metadata": {},
   "source": [
    "# Visualización de datos\n",
    "**Equipo:** 9 "
   ]
  },
  {
   "cell_type": "markdown",
   "metadata": {},
   "source": [
    "**Grupo:** 003, Lunes"
   ]
  },
  {
   "cell_type": "markdown",
   "metadata": {},
   "source": [
    "**Integrantes:**\n",
    "* **1808039** , Gómez, Karen\n",
    "* **1741418** , Hernández, Emmanuel\n",
    "* **1937881** , Villarreal, Cecilia"
   ]
  },
  {
   "cell_type": "markdown",
   "metadata": {},
   "source": [
    "**Prueba de edición**"
   ]
  },
  {
   "cell_type": "markdown",
   "metadata": {},
   "source": [
    "### Base de datos:"
   ]
  },
  {
   "cell_type": "markdown",
   "metadata": {},
   "source": [
    "[URL Police Shootings](https://www.kaggle.com/ahsen1330/us-police-shootings)"
   ]
  },
  {
   "cell_type": "code",
   "execution_count": 1,
   "metadata": {},
   "outputs": [],
   "source": [
    "import pandas as pd"
   ]
  },
  {
   "cell_type": "code",
   "execution_count": 2,
   "metadata": {},
   "outputs": [],
   "source": [
    "import matplotlib as plt\n",
    "import matplotlib.pyplot as plt\n",
    "%matplotlib inline"
   ]
  },
  {
   "cell_type": "code",
   "execution_count": 3,
   "metadata": {},
   "outputs": [],
   "source": [
    "df_PS = pd.read_csv(\"shootings.csv\")"
   ]
  },
  {
   "cell_type": "code",
   "execution_count": 4,
   "metadata": {},
   "outputs": [],
   "source": [
    "df_PS = df_PS.drop(['name','body_camera'], axis=1)"
   ]
  },
  {
   "cell_type": "code",
   "execution_count": 5,
   "metadata": {},
   "outputs": [],
   "source": [
    "df_PS = df_PS.rename(columns={'date': 'Dia', \n",
    "                              'manner_of_death':'Manera_de_la_muerte',\n",
    "                              'armed':'Arma',\n",
    "                              'age': 'Edad',\n",
    "                              'gender':'Genero',\n",
    "                              'race':'Raza', \n",
    "                              'city':'Ciudad',\n",
    "                              'state':'Estado',\n",
    "                              'signs_of_mental_illness':'Signos_de_enfermedades_mentales',\n",
    "                              'threat_level':'Nivel_de_amenaza',\n",
    "                              'flee':'Escapo',\n",
    "                              'arms_category': 'Categoria_de_armas' })"
   ]
  },
  {
   "cell_type": "code",
   "execution_count": 6,
   "metadata": {},
   "outputs": [
    {
     "data": {
      "text/plain": [
       "array(['Guns', 'Unarmed', 'Other unusual objects', 'Piercing objects',\n",
       "       'Sharp objects', 'Unknown', 'Blunt instruments', 'Multiple',\n",
       "       'Electrical devices', 'Hand tools', 'Vehicles', 'Explosives'],\n",
       "      dtype=object)"
      ]
     },
     "execution_count": 6,
     "metadata": {},
     "output_type": "execute_result"
    }
   ],
   "source": [
    "df_PS['Categoria_de_armas'].unique()"
   ]
  },
  {
   "cell_type": "markdown",
   "metadata": {},
   "source": [
    "##### Seperaremos en 3 categorias Armado, Desarmado y Desconocido"
   ]
  },
  {
   "cell_type": "code",
   "execution_count": 7,
   "metadata": {},
   "outputs": [],
   "source": [
    "df_PS = df_PS.replace({\"Guns\": \"Armado\",\n",
    "                       \"Other unusual objects\": \"Armado\",\n",
    "                       \"Piercing objects\": \"Armado\" ,\n",
    "                      \"Sharp objects\": \"Armado\" ,\n",
    "                      \"Blunt instruments\": \"Armado\" ,\n",
    "                      \"Multiple\": \"Armado\" ,\n",
    "                      \"Electrical devices\": \"Armado\" ,\n",
    "                      \"Hand tools\": \"Armado\" ,\n",
    "                      \"Vehicles\": \"Armado\" ,\n",
    "                      \"Explosives\": \"Armado\",\n",
    "                      \"Unarmed\": \"Desarmado\",\n",
    "                      \"Unknown\": \"Desconocido\"})"
   ]
  },
  {
   "cell_type": "code",
   "execution_count": 8,
   "metadata": {},
   "outputs": [
    {
     "data": {
      "text/plain": [
       "array(['Armado', 'Desarmado', 'Desconocido'], dtype=object)"
      ]
     },
     "execution_count": 8,
     "metadata": {},
     "output_type": "execute_result"
    }
   ],
   "source": [
    "df_PS['Categoria_de_armas'].unique()"
   ]
  },
  {
   "cell_type": "markdown",
   "metadata": {},
   "source": [
    "## Segmentos por Razas"
   ]
  },
  {
   "cell_type": "code",
   "execution_count": 9,
   "metadata": {},
   "outputs": [
    {
     "data": {
      "text/plain": [
       "array(['Asian', 'White', 'Hispanic', 'Black', 'Other', 'Native'],\n",
       "      dtype=object)"
      ]
     },
     "execution_count": 9,
     "metadata": {},
     "output_type": "execute_result"
    }
   ],
   "source": [
    "df_PS['Raza'].unique()"
   ]
  },
  {
   "cell_type": "code",
   "execution_count": 10,
   "metadata": {},
   "outputs": [],
   "source": [
    "Razas = [\"Raza Blanca\", \"Raza Oscura\", \"Raza Hispana\", \"Raza Asiatica\", \"Raza Nativa\", \"Otra Raza\"]"
   ]
  },
  {
   "cell_type": "markdown",
   "metadata": {},
   "source": [
    "### Raza Blanca"
   ]
  },
  {
   "cell_type": "code",
   "execution_count": 11,
   "metadata": {},
   "outputs": [],
   "source": [
    "R_Blanca = df_PS[df_PS['Raza']=='White']"
   ]
  },
  {
   "cell_type": "code",
   "execution_count": 12,
   "metadata": {},
   "outputs": [
    {
     "data": {
      "text/plain": [
       "2476"
      ]
     },
     "execution_count": 12,
     "metadata": {},
     "output_type": "execute_result"
    }
   ],
   "source": [
    "R_Blanca['Raza'].count()"
   ]
  },
  {
   "cell_type": "code",
   "execution_count": 13,
   "metadata": {},
   "outputs": [
    {
     "data": {
      "text/plain": [
       "Armado         0.860258\n",
       "Desconocido    0.080775\n",
       "Desarmado      0.058966\n",
       "Name: Categoria_de_armas, dtype: float64"
      ]
     },
     "execution_count": 13,
     "metadata": {},
     "output_type": "execute_result"
    }
   ],
   "source": [
    "G_PieRB = (R_Blanca[\"Categoria_de_armas\"].value_counts() / len(R_Blanca))\n",
    "G_PieRB"
   ]
  },
  {
   "cell_type": "code",
   "execution_count": 14,
   "metadata": {},
   "outputs": [],
   "source": [
    "nombres = [\"Armado\", \"Desconocido\", \"Desarmado\"]"
   ]
  },
  {
   "cell_type": "code",
   "execution_count": 15,
   "metadata": {},
   "outputs": [
    {
     "data": {
      "text/plain": [
       "([<matplotlib.patches.Wedge at 0x1ca828682b0>,\n",
       "  <matplotlib.patches.Wedge at 0x1ca82877a60>,\n",
       "  <matplotlib.patches.Wedge at 0x1ca8288e430>],\n",
       " [Text(-0.9956897244704501, 0.4675488986020171, 'Armado'),\n",
       "  Text(0.8925364598780212, -0.642945306996178, 'Desconocido'),\n",
       "  Text(1.0811797626559783, -0.20260878762571652, 'Desarmado')],\n",
       " [Text(-0.5431034860747909, 0.25502667196473655, '86.03%'),\n",
       "  Text(0.4868380690243751, -0.3506974401797334, '8.08%'),\n",
       "  Text(0.5897344159941699, -0.11051388415948173, '5.90%')])"
      ]
     },
     "execution_count": 15,
     "metadata": {},
     "output_type": "execute_result"
    },
    {
     "data": {
      "image/png": "[encoded data removed]",
      "text/plain": [
       "<Figure size 432x288 with 1 Axes>"
      ]
     },
     "metadata": {},
     "output_type": "display_data"
    }
   ],
   "source": [
    "plt.pie(G_PieRB, labels = nombres, autopct='%1.2f%%', shadow=True)"
   ]
  },
  {
   "cell_type": "markdown",
   "metadata": {},
   "source": [
    "### Raza Oscura"
   ]
  },
  {
   "cell_type": "code",
   "execution_count": 16,
   "metadata": {},
   "outputs": [],
   "source": [
    "R_Oscura = df_PS[df_PS['Raza']=='Black']"
   ]
  },
  {
   "cell_type": "code",
   "execution_count": 17,
   "metadata": {},
   "outputs": [
    {
     "data": {
      "text/plain": [
       "1298"
      ]
     },
     "execution_count": 17,
     "metadata": {},
     "output_type": "execute_result"
    }
   ],
   "source": [
    "R_Oscura['Raza'].count()"
   ]
  },
  {
   "cell_type": "code",
   "execution_count": 18,
   "metadata": {},
   "outputs": [
    {
     "data": {
      "text/plain": [
       "([<matplotlib.patches.Wedge at 0x1ca82955d60>,\n",
       "  <matplotlib.patches.Wedge at 0x1ca82963820>,\n",
       "  <matplotlib.patches.Wedge at 0x1ca82971070>],\n",
       " [Text(-0.9325078410500275, 0.5834630462850382, 'Armado'),\n",
       "  Text(0.7500466560005373, -0.8046303585015991, 'Desconocido'),\n",
       "  Text(1.062633139400084, -0.28427242400331704, 'Desarmado')],\n",
       " [Text(-0.5086406405727423, 0.3182525707009299, '82.20%'),\n",
       "  Text(0.40911635781847483, -0.43888928645541764, '9.48%'),\n",
       "  Text(0.5796180760364095, -0.15505768581999108, '8.32%')])"
      ]
     },
     "execution_count": 18,
     "metadata": {},
     "output_type": "execute_result"
    },
    {
     "data": {
      "image/png": "[encoded data removed]",
      "text/plain": [
       "<Figure size 432x288 with 1 Axes>"
      ]
     },
     "metadata": {},
     "output_type": "display_data"
    }
   ],
   "source": [
    "G_PieRO = (R_Oscura[\"Categoria_de_armas\"].value_counts() / len(R_Oscura))\n",
    "G_PieRO\n",
    "plt.pie(G_PieRO, labels = nombres, autopct='%1.2f%%', shadow=True)"
   ]
  },
  {
   "cell_type": "markdown",
   "metadata": {},
   "source": [
    "### Raza Hispana"
   ]
  },
  {
   "cell_type": "code",
   "execution_count": 19,
   "metadata": {},
   "outputs": [],
   "source": [
    "R_Hispana = df_PS[df_PS['Raza']=='Hispanic']"
   ]
  },
  {
   "cell_type": "code",
   "execution_count": 20,
   "metadata": {},
   "outputs": [
    {
     "data": {
      "text/plain": [
       "902"
      ]
     },
     "execution_count": 20,
     "metadata": {},
     "output_type": "execute_result"
    }
   ],
   "source": [
    "R_Hispana['Raza'].count()"
   ]
  },
  {
   "cell_type": "code",
   "execution_count": 21,
   "metadata": {},
   "outputs": [
    {
     "data": {
      "text/plain": [
       "([<matplotlib.patches.Wedge at 0x1ca829b88e0>,\n",
       "  <matplotlib.patches.Wedge at 0x1ca829c8310>,\n",
       "  <matplotlib.patches.Wedge at 0x1ca829c8be0>],\n",
       " [Text(-0.9494192049875102, 0.5555206325609197, 'Armado'),\n",
       "  Text(0.805736254319998, -0.7488585236707798, 'Desconocido'),\n",
       "  Text(1.0736252931315822, -0.23943418709141043, 'Desarmado')],\n",
       " [Text(-0.5178650209022783, 0.30301125412413793, '83.15%'),\n",
       "  Text(0.43949250235636245, -0.4084682856386071, '9.87%'),\n",
       "  Text(0.5856137962535902, -0.13060046568622385, '6.98%')])"
      ]
     },
     "execution_count": 21,
     "metadata": {},
     "output_type": "execute_result"
    },
    {
     "data": {
      "image/png": "[encoded data removed]",
      "text/plain": [
       "<Figure size 432x288 with 1 Axes>"
      ]
     },
     "metadata": {},
     "output_type": "display_data"
    }
   ],
   "source": [
    "G_PieRH = (R_Hispana[\"Categoria_de_armas\"].value_counts() / len(R_Hispana))\n",
    "G_PieRH\n",
    "plt.pie(G_PieRH, labels = nombres, autopct='%1.2f%%', shadow=True)"
   ]
  },
  {
   "cell_type": "markdown",
   "metadata": {},
   "source": [
    "### Raza Asiatica"
   ]
  },
  {
   "cell_type": "code",
   "execution_count": 22,
   "metadata": {},
   "outputs": [],
   "source": [
    "R_Asiatica = df_PS[df_PS['Raza']=='Asian']"
   ]
  },
  {
   "cell_type": "code",
   "execution_count": 23,
   "metadata": {},
   "outputs": [
    {
     "data": {
      "text/plain": [
       "93"
      ]
     },
     "execution_count": 23,
     "metadata": {},
     "output_type": "execute_result"
    }
   ],
   "source": [
    "R_Asiatica['Raza'].count()"
   ]
  },
  {
   "cell_type": "code",
   "execution_count": 24,
   "metadata": {},
   "outputs": [
    {
     "name": "stderr",
     "output_type": "stream",
     "text": [
      "<ipython-input-24-7bf1d61ccb5a>:3: MatplotlibDeprecationWarning: normalize=None does not normalize if the sum is less than 1 but this behavior is deprecated since 3.3 until two minor releases later. After the deprecation period the default value will be normalize=True. To prevent normalization pass normalize=False \n",
      "  plt.pie(G_PieRA, labels = nombres, autopct='%1.2f%%', shadow=True)\n"
     ]
    },
    {
     "data": {
      "text/plain": [
       "([<matplotlib.patches.Wedge at 0x1ca82e1b6a0>,\n",
       "  <matplotlib.patches.Wedge at 0x1ca82e1bfd0>,\n",
       "  <matplotlib.patches.Wedge at 0x1ca82e29910>],\n",
       " [Text(-0.9617812358395109, 0.5338322343087042, 'Armado'),\n",
       "  Text(0.8099581503372423, -0.7442901280430054, 'Desconocido'),\n",
       "  Text(1.06938962993817, -0.25769326607558884, 'Desarmado')],\n",
       " [Text(-0.5246079468215513, 0.2911812187138386, '83.87%'),\n",
       "  Text(0.44179535472940484, -0.4059764334780029, '8.60%'),\n",
       "  Text(0.583303434511729, -0.14055996331395754, '7.53%')])"
      ]
     },
     "execution_count": 24,
     "metadata": {},
     "output_type": "execute_result"
    },
    {
     "data": {
      "image/png": "[encoded data removed]",
      "text/plain": [
       "<Figure size 432x288 with 1 Axes>"
      ]
     },
     "metadata": {},
     "output_type": "display_data"
    }
   ],
   "source": [
    "G_PieRA = (R_Asiatica[\"Categoria_de_armas\"].value_counts() / len(R_Asiatica))\n",
    "G_PieRA\n",
    "plt.pie(G_PieRA, labels = nombres, autopct='%1.2f%%', shadow=True)"
   ]
  },
  {
   "cell_type": "markdown",
   "metadata": {},
   "source": [
    "### Raza Nativa"
   ]
  },
  {
   "cell_type": "code",
   "execution_count": 25,
   "metadata": {},
   "outputs": [],
   "source": [
    "R_Nativa = df_PS[df_PS['Raza']=='Native']"
   ]
  },
  {
   "cell_type": "code",
   "execution_count": 26,
   "metadata": {},
   "outputs": [
    {
     "data": {
      "text/plain": [
       "78"
      ]
     },
     "execution_count": 26,
     "metadata": {},
     "output_type": "execute_result"
    }
   ],
   "source": [
    "R_Nativa['Raza'].count()"
   ]
  },
  {
   "cell_type": "code",
   "execution_count": 27,
   "metadata": {},
   "outputs": [
    {
     "data": {
      "text/plain": [
       "([<matplotlib.patches.Wedge at 0x1ca82e7b520>,\n",
       "  <matplotlib.patches.Wedge at 0x1ca82e6e580>,\n",
       "  <matplotlib.patches.Wedge at 0x1ca82e89760>],\n",
       " [Text(-0.9740016429451693, 0.5111954611888794, 'Armado'),\n",
       "  Text(0.8793870805939832, -0.6608164363001208, 'Desconocido'),\n",
       "  Text(1.0857553009215457, -0.1764523349824643, 'Desarmado')],\n",
       " [Text(-0.5312736234246378, 0.2788338879212069, '84.62%'),\n",
       "  Text(0.47966568032399076, -0.36044532889097497, '10.26%'),\n",
       "  Text(0.5922301641390249, -0.09624672817225324, '5.13%')])"
      ]
     },
     "execution_count": 27,
     "metadata": {},
     "output_type": "execute_result"
    },
    {
     "data": {
      "image/png": "[encoded data removed]",
      "text/plain": [
       "<Figure size 432x288 with 1 Axes>"
      ]
     },
     "metadata": {},
     "output_type": "display_data"
    }
   ],
   "source": [
    "G_PieRN = (R_Nativa[\"Categoria_de_armas\"].value_counts() / len(R_Nativa))\n",
    "G_PieRN\n",
    "plt.pie(G_PieRN, labels = nombres, autopct='%1.2f%%', shadow=True)"
   ]
  },
  {
   "cell_type": "markdown",
   "metadata": {},
   "source": [
    "### Otra Raza"
   ]
  },
  {
   "cell_type": "code",
   "execution_count": 28,
   "metadata": {},
   "outputs": [],
   "source": [
    "R_Otra = df_PS[df_PS['Raza']=='Other']"
   ]
  },
  {
   "cell_type": "code",
   "execution_count": 29,
   "metadata": {},
   "outputs": [
    {
     "data": {
      "text/plain": [
       "48"
      ]
     },
     "execution_count": 29,
     "metadata": {},
     "output_type": "execute_result"
    }
   ],
   "source": [
    "R_Otra['Raza'].count()"
   ]
  },
  {
   "cell_type": "code",
   "execution_count": 30,
   "metadata": {},
   "outputs": [
    {
     "data": {
      "text/plain": [
       "([<matplotlib.patches.Wedge at 0x1ca82ed2af0>,\n",
       "  <matplotlib.patches.Wedge at 0x1ca82ee14f0>,\n",
       "  <matplotlib.patches.Wedge at 0x1ca82ee1e20>],\n",
       " [Text(-0.8726887161176864, 0.6696375174382514, 'Armado'),\n",
       "  Text(0.6111273633622881, -0.9146165020104645, 'Desconocido'),\n",
       "  Text(1.0416231783082182, -0.3535833061826961, 'Desarmado')],\n",
       " [Text(-0.4760120269732834, 0.36525682769359163, '79.17%'),\n",
       "  Text(0.3333421981976116, -0.49888172836934425, '10.42%'),\n",
       "  Text(0.568158097259028, -0.19286362155419787, '10.42%')])"
      ]
     },
     "execution_count": 30,
     "metadata": {},
     "output_type": "execute_result"
    },
    {
     "data": {
      "image/png": "[encoded data removed]",
      "text/plain": [
       "<Figure size 432x288 with 1 Axes>"
      ]
     },
     "metadata": {},
     "output_type": "display_data"
    }
   ],
   "source": [
    "G_PieOR = (R_Otra[\"Categoria_de_armas\"].value_counts() / len(R_Otra))\n",
    "G_PieOR\n",
    "plt.pie(G_PieOR, labels = nombres, autopct='%1.2f%%', shadow=True)"
   ]
  },
  {
   "cell_type": "markdown",
   "metadata": {},
   "source": [
    "## Histograma comparativo\n",
    "#### Personas desarmadas por razas"
   ]
  },
  {
   "cell_type": "code",
   "execution_count": 31,
   "metadata": {},
   "outputs": [],
   "source": [
    "RB_D = G_PieRB[\"Desarmado\"]\n",
    "RO_D = G_PieRO[\"Desarmado\"]\n",
    "RH_D = G_PieRH[\"Desarmado\"]\n",
    "RA_D = G_PieRA[\"Desarmado\"]\n",
    "RN_D = G_PieRN[\"Desarmado\"]\n",
    "OR_D = G_PieOR[\"Desarmado\"]"
   ]
  },
  {
   "cell_type": "code",
   "execution_count": 32,
   "metadata": {},
   "outputs": [
    {
     "data": {
      "text/plain": [
       "[0.05896607431340872,\n",
       " 0.09476117103235747,\n",
       " 0.06984478935698447,\n",
       " 0.07526881720430108,\n",
       " 0.05128205128205128,\n",
       " 0.10416666666666667]"
      ]
     },
     "execution_count": 32,
     "metadata": {},
     "output_type": "execute_result"
    }
   ],
   "source": [
    "Desarmados = [RB_D, RO_D, RH_D, RA_D, RN_D, OR_D]\n",
    "Desarmados"
   ]
  },
  {
   "cell_type": "code",
   "execution_count": 33,
   "metadata": {},
   "outputs": [
    {
     "data": {
      "text/html": [
       "<div>\n",
       "<style scoped>\n",
       "    .dataframe tbody tr th:only-of-type {\n",
       "        vertical-align: middle;\n",
       "    }\n",
       "\n",
       "    .dataframe tbody tr th {\n",
       "        vertical-align: top;\n",
       "    }\n",
       "\n",
       "    .dataframe thead th {\n",
       "        text-align: right;\n",
       "    }\n",
       "</style>\n",
       "<table border=\"1\" class=\"dataframe\">\n",
       "  <thead>\n",
       "    <tr style=\"text-align: right;\">\n",
       "      <th></th>\n",
       "      <th>Razas</th>\n",
       "      <th>Desarmados</th>\n",
       "    </tr>\n",
       "  </thead>\n",
       "  <tbody>\n",
       "    <tr>\n",
       "      <th>0</th>\n",
       "      <td>Raza Blanca</td>\n",
       "      <td>0.058966</td>\n",
       "    </tr>\n",
       "    <tr>\n",
       "      <th>1</th>\n",
       "      <td>Raza Oscura</td>\n",
       "      <td>0.094761</td>\n",
       "    </tr>\n",
       "    <tr>\n",
       "      <th>2</th>\n",
       "      <td>Raza Hispana</td>\n",
       "      <td>0.069845</td>\n",
       "    </tr>\n",
       "    <tr>\n",
       "      <th>3</th>\n",
       "      <td>Raza Asiatica</td>\n",
       "      <td>0.075269</td>\n",
       "    </tr>\n",
       "    <tr>\n",
       "      <th>4</th>\n",
       "      <td>Raza Nativa</td>\n",
       "      <td>0.051282</td>\n",
       "    </tr>\n",
       "    <tr>\n",
       "      <th>5</th>\n",
       "      <td>Otra Raza</td>\n",
       "      <td>0.104167</td>\n",
       "    </tr>\n",
       "  </tbody>\n",
       "</table>\n",
       "</div>"
      ],
      "text/plain": [
       "           Razas  Desarmados\n",
       "0    Raza Blanca    0.058966\n",
       "1    Raza Oscura    0.094761\n",
       "2   Raza Hispana    0.069845\n",
       "3  Raza Asiatica    0.075269\n",
       "4    Raza Nativa    0.051282\n",
       "5      Otra Raza    0.104167"
      ]
     },
     "execution_count": 33,
     "metadata": {},
     "output_type": "execute_result"
    }
   ],
   "source": [
    "G_Comp = pd.DataFrame({'Razas': Razas, 'Desarmados': Desarmados})\n",
    "G_Comp"
   ]
  },
  {
   "cell_type": "code",
   "execution_count": 34,
   "metadata": {},
   "outputs": [
    {
     "data": {
      "text/plain": [
       "<AxesSubplot:xlabel='Razas'>"
      ]
     },
     "execution_count": 34,
     "metadata": {},
     "output_type": "execute_result"
    },
    {
     "data": {
      "image/png": "[encoded data removed]",
      "text/plain": [
       "<Figure size 432x288 with 1 Axes>"
      ]
     },
     "metadata": {
      "needs_background": "light"
     },
     "output_type": "display_data"
    }
   ],
   "source": [
    "G_Comp.plot.bar(x = 'Razas', y = 'Desarmados')"
   ]
  },
  {
   "cell_type": "markdown",
   "metadata": {},
   "source": [
    "## Correlación"
   ]
  },
  {
   "cell_type": "code",
   "execution_count": 35,
   "metadata": {},
   "outputs": [],
   "source": [
    "df_PS_corr = df_PS.replace({\"White\": 0, \"Black\": 1, \"Hispanic\": 2, \"Asian\": 3, \"Native\": 4, \"Other\": 5})"
   ]
  },
  {
   "cell_type": "code",
   "execution_count": 36,
   "metadata": {},
   "outputs": [],
   "source": [
    "#EDIT DEMAS"
   ]
  },
  {
   "cell_type": "markdown",
   "metadata": {},
   "source": [
    "##### Conteo por Raza"
   ]
  },
  {
   "cell_type": "code",
   "execution_count": 37,
   "metadata": {},
   "outputs": [
    {
     "data": {
      "text/html": [
       "<div>\n",
       "<style scoped>\n",
       "    .dataframe tbody tr th:only-of-type {\n",
       "        vertical-align: middle;\n",
       "    }\n",
       "\n",
       "    .dataframe tbody tr th {\n",
       "        vertical-align: top;\n",
       "    }\n",
       "\n",
       "    .dataframe thead th {\n",
       "        text-align: right;\n",
       "    }\n",
       "</style>\n",
       "<table border=\"1\" class=\"dataframe\">\n",
       "  <thead>\n",
       "    <tr style=\"text-align: right;\">\n",
       "      <th></th>\n",
       "      <th>id</th>\n",
       "      <th>Edad</th>\n",
       "      <th>Raza</th>\n",
       "      <th>Signos_de_enfermedades_mentales</th>\n",
       "    </tr>\n",
       "  </thead>\n",
       "  <tbody>\n",
       "    <tr>\n",
       "      <th>id</th>\n",
       "      <td>1.000000</td>\n",
       "      <td>0.022361</td>\n",
       "      <td>0.008024</td>\n",
       "      <td>-0.086920</td>\n",
       "    </tr>\n",
       "    <tr>\n",
       "      <th>Edad</th>\n",
       "      <td>0.022361</td>\n",
       "      <td>1.000000</td>\n",
       "      <td>-0.201588</td>\n",
       "      <td>0.096865</td>\n",
       "    </tr>\n",
       "    <tr>\n",
       "      <th>Raza</th>\n",
       "      <td>0.008024</td>\n",
       "      <td>-0.201588</td>\n",
       "      <td>1.000000</td>\n",
       "      <td>-0.098986</td>\n",
       "    </tr>\n",
       "    <tr>\n",
       "      <th>Signos_de_enfermedades_mentales</th>\n",
       "      <td>-0.086920</td>\n",
       "      <td>0.096865</td>\n",
       "      <td>-0.098986</td>\n",
       "      <td>1.000000</td>\n",
       "    </tr>\n",
       "  </tbody>\n",
       "</table>\n",
       "</div>"
      ],
      "text/plain": [
       "                                       id      Edad      Raza  \\\n",
       "id                               1.000000  0.022361  0.008024   \n",
       "Edad                             0.022361  1.000000 -0.201588   \n",
       "Raza                             0.008024 -0.201588  1.000000   \n",
       "Signos_de_enfermedades_mentales -0.086920  0.096865 -0.098986   \n",
       "\n",
       "                                 Signos_de_enfermedades_mentales  \n",
       "id                                                     -0.086920  \n",
       "Edad                                                    0.096865  \n",
       "Raza                                                   -0.098986  \n",
       "Signos_de_enfermedades_mentales                         1.000000  "
      ]
     },
     "execution_count": 37,
     "metadata": {},
     "output_type": "execute_result"
    }
   ],
   "source": [
    "df_PS_corr.corr()\n",
    "#Creo que sería conveniente hacer un comparativo por raza, pero solo en el numero de detenciones y en lo de si tenía armas, ¿no?"
   ]
  },
  {
   "cell_type": "code",
   "execution_count": 38,
   "metadata": {},
   "outputs": [
    {
     "data": {
      "text/plain": [
       "<AxesSubplot:>"
      ]
     },
     "execution_count": 38,
     "metadata": {},
     "output_type": "execute_result"
    },
    {
     "data": {
      "image/png": "[encoded data removed]",
      "text/plain": [
       "<Figure size 432x288 with 1 Axes>"
      ]
     },
     "metadata": {
      "needs_background": "light"
     },
     "output_type": "display_data"
    }
   ],
   "source": [
    "df_PS['Raza'].value_counts().plot.bar() "
   ]
  },
  {
   "cell_type": "code",
   "execution_count": 39,
   "metadata": {},
   "outputs": [
    {
     "data": {
      "text/plain": [
       "<AxesSubplot:>"
      ]
     },
     "execution_count": 39,
     "metadata": {},
     "output_type": "execute_result"
    },
    {
     "data": {
      "image/png": "[encoded data removed]",
      "text/plain": [
       "<Figure size 432x288 with 1 Axes>"
      ]
     },
     "metadata": {
      "needs_background": "light"
     },
     "output_type": "display_data"
    }
   ],
   "source": [
    "(df_PS['Raza'].value_counts() / len(df_PS)).plot.bar()"
   ]
  },
  {
   "cell_type": "markdown",
   "metadata": {},
   "source": [
    "##### Conteo por Estados"
   ]
  },
  {
   "cell_type": "code",
   "execution_count": 40,
   "metadata": {},
   "outputs": [
    {
     "data": {
      "text/plain": [
       "<AxesSubplot:>"
      ]
     },
     "execution_count": 40,
     "metadata": {},
     "output_type": "execute_result"
    },
    {
     "data": {
      "image/png": "[encoded data removed]",
      "text/plain": [
       "<Figure size 432x288 with 1 Axes>"
      ]
     },
     "metadata": {
      "needs_background": "light"
     },
     "output_type": "display_data"
    }
   ],
   "source": [
    "df_PS['Estado'].value_counts().head(10).plot.bar()"
   ]
  },
  {
   "cell_type": "markdown",
   "metadata": {},
   "source": [
    "##### Conteo por Edad"
   ]
  },
  {
   "cell_type": "code",
   "execution_count": 41,
   "metadata": {},
   "outputs": [
    {
     "data": {
      "text/plain": [
       "<AxesSubplot:>"
      ]
     },
     "execution_count": 41,
     "metadata": {},
     "output_type": "execute_result"
    },
    {
     "data": {
      "image/png": "[encoded data removed]",
      "text/plain": [
       "<Figure size 432x288 with 1 Axes>"
      ]
     },
     "metadata": {
      "needs_background": "light"
     },
     "output_type": "display_data"
    }
   ],
   "source": [
    "df_PS['Edad'].value_counts().sort_index().plot.line()"
   ]
  },
  {
   "cell_type": "code",
   "execution_count": 42,
   "metadata": {},
   "outputs": [
    {
     "data": {
      "text/plain": [
       "<AxesSubplot:>"
      ]
     },
     "execution_count": 42,
     "metadata": {},
     "output_type": "execute_result"
    },
    {
     "data": {
      "image/png": "[encoded data removed]",
      "text/plain": [
       "<Figure size 432x288 with 1 Axes>"
      ]
     },
     "metadata": {
      "needs_background": "light"
     },
     "output_type": "display_data"
    }
   ],
   "source": [
    "df_PS['Edad'].value_counts().sort_index().plot.area()"
   ]
  },
  {
   "cell_type": "code",
   "execution_count": 43,
   "metadata": {},
   "outputs": [
    {
     "data": {
      "text/plain": [
       "<AxesSubplot:ylabel='Frequency'>"
      ]
     },
     "execution_count": 43,
     "metadata": {},
     "output_type": "execute_result"
    },
    {
     "data": {
      "image/png": "[encoded data removed]",
      "text/plain": [
       "<Figure size 432x288 with 1 Axes>"
      ]
     },
     "metadata": {
      "needs_background": "light"
     },
     "output_type": "display_data"
    }
   ],
   "source": [
    "df_PS[df_PS['Edad'] < 75]['Edad'].plot.hist()"
   ]
  },
  {
   "cell_type": "code",
   "execution_count": 44,
   "metadata": {},
   "outputs": [],
   "source": [
    "# NO SIRVE ----------------------------------------------------------------"
   ]
  },
  {
   "cell_type": "code",
   "execution_count": 45,
   "metadata": {},
   "outputs": [
    {
     "data": {
      "text/plain": [
       "<AxesSubplot:xlabel='Edad', ylabel='Raza'>"
      ]
     },
     "execution_count": 45,
     "metadata": {},
     "output_type": "execute_result"
    },
    {
     "data": {
      "image/png": "[encoded data removed]",
      "text/plain": [
       "<Figure size 432x288 with 1 Axes>"
      ]
     },
     "metadata": {
      "needs_background": "light"
     },
     "output_type": "display_data"
    }
   ],
   "source": [
    "df_PS_corr[df_PS_corr['Edad'] < 80].plot.scatter(x='Edad', y='Raza')"
   ]
  },
  {
   "cell_type": "code",
   "execution_count": 46,
   "metadata": {},
   "outputs": [],
   "source": [
    "# -----------------------------------------------------------------------"
   ]
  },
  {
   "cell_type": "markdown",
   "metadata": {},
   "source": [
    "### Base de datos:"
   ]
  },
  {
   "cell_type": "markdown",
   "metadata": {},
   "source": [
    "[URL World University Rankings](https://www.kaggle.com/mylesoneill/world-university-rankings?select=cwurData.csv)"
   ]
  },
  {
   "cell_type": "code",
   "execution_count": 47,
   "metadata": {},
   "outputs": [],
   "source": [
    "df_U = pd.read_csv(\"University.csv\")"
   ]
  },
  {
   "cell_type": "code",
   "execution_count": 48,
   "metadata": {},
   "outputs": [
    {
     "data": {
      "text/html": [
       "<div>\n",
       "<style scoped>\n",
       "    .dataframe tbody tr th:only-of-type {\n",
       "        vertical-align: middle;\n",
       "    }\n",
       "\n",
       "    .dataframe tbody tr th {\n",
       "        vertical-align: top;\n",
       "    }\n",
       "\n",
       "    .dataframe thead th {\n",
       "        text-align: right;\n",
       "    }\n",
       "</style>\n",
       "<table border=\"1\" class=\"dataframe\">\n",
       "  <thead>\n",
       "    <tr style=\"text-align: right;\">\n",
       "      <th></th>\n",
       "      <th>world_rank</th>\n",
       "      <th>institution</th>\n",
       "      <th>country</th>\n",
       "      <th>national_rank</th>\n",
       "      <th>quality_of_education</th>\n",
       "      <th>alumni_employment</th>\n",
       "      <th>quality_of_faculty</th>\n",
       "      <th>publications</th>\n",
       "      <th>influence</th>\n",
       "      <th>citations</th>\n",
       "      <th>broad_impact</th>\n",
       "      <th>patents</th>\n",
       "      <th>score</th>\n",
       "      <th>year</th>\n",
       "    </tr>\n",
       "  </thead>\n",
       "  <tbody>\n",
       "    <tr>\n",
       "      <th>0</th>\n",
       "      <td>1</td>\n",
       "      <td>Harvard University</td>\n",
       "      <td>USA</td>\n",
       "      <td>1</td>\n",
       "      <td>7</td>\n",
       "      <td>9</td>\n",
       "      <td>1</td>\n",
       "      <td>1</td>\n",
       "      <td>1</td>\n",
       "      <td>1</td>\n",
       "      <td>NaN</td>\n",
       "      <td>5</td>\n",
       "      <td>100.00</td>\n",
       "      <td>2012</td>\n",
       "    </tr>\n",
       "    <tr>\n",
       "      <th>1</th>\n",
       "      <td>2</td>\n",
       "      <td>Massachusetts Institute of Technology</td>\n",
       "      <td>USA</td>\n",
       "      <td>2</td>\n",
       "      <td>9</td>\n",
       "      <td>17</td>\n",
       "      <td>3</td>\n",
       "      <td>12</td>\n",
       "      <td>4</td>\n",
       "      <td>4</td>\n",
       "      <td>NaN</td>\n",
       "      <td>1</td>\n",
       "      <td>91.67</td>\n",
       "      <td>2012</td>\n",
       "    </tr>\n",
       "    <tr>\n",
       "      <th>2</th>\n",
       "      <td>3</td>\n",
       "      <td>Stanford University</td>\n",
       "      <td>USA</td>\n",
       "      <td>3</td>\n",
       "      <td>17</td>\n",
       "      <td>11</td>\n",
       "      <td>5</td>\n",
       "      <td>4</td>\n",
       "      <td>2</td>\n",
       "      <td>2</td>\n",
       "      <td>NaN</td>\n",
       "      <td>15</td>\n",
       "      <td>89.50</td>\n",
       "      <td>2012</td>\n",
       "    </tr>\n",
       "    <tr>\n",
       "      <th>3</th>\n",
       "      <td>4</td>\n",
       "      <td>University of Cambridge</td>\n",
       "      <td>United Kingdom</td>\n",
       "      <td>1</td>\n",
       "      <td>10</td>\n",
       "      <td>24</td>\n",
       "      <td>4</td>\n",
       "      <td>16</td>\n",
       "      <td>16</td>\n",
       "      <td>11</td>\n",
       "      <td>NaN</td>\n",
       "      <td>50</td>\n",
       "      <td>86.17</td>\n",
       "      <td>2012</td>\n",
       "    </tr>\n",
       "    <tr>\n",
       "      <th>4</th>\n",
       "      <td>5</td>\n",
       "      <td>California Institute of Technology</td>\n",
       "      <td>USA</td>\n",
       "      <td>4</td>\n",
       "      <td>2</td>\n",
       "      <td>29</td>\n",
       "      <td>7</td>\n",
       "      <td>37</td>\n",
       "      <td>22</td>\n",
       "      <td>22</td>\n",
       "      <td>NaN</td>\n",
       "      <td>18</td>\n",
       "      <td>85.21</td>\n",
       "      <td>2012</td>\n",
       "    </tr>\n",
       "    <tr>\n",
       "      <th>...</th>\n",
       "      <td>...</td>\n",
       "      <td>...</td>\n",
       "      <td>...</td>\n",
       "      <td>...</td>\n",
       "      <td>...</td>\n",
       "      <td>...</td>\n",
       "      <td>...</td>\n",
       "      <td>...</td>\n",
       "      <td>...</td>\n",
       "      <td>...</td>\n",
       "      <td>...</td>\n",
       "      <td>...</td>\n",
       "      <td>...</td>\n",
       "      <td>...</td>\n",
       "    </tr>\n",
       "    <tr>\n",
       "      <th>2195</th>\n",
       "      <td>996</td>\n",
       "      <td>University of the Algarve</td>\n",
       "      <td>Portugal</td>\n",
       "      <td>7</td>\n",
       "      <td>367</td>\n",
       "      <td>567</td>\n",
       "      <td>218</td>\n",
       "      <td>926</td>\n",
       "      <td>845</td>\n",
       "      <td>812</td>\n",
       "      <td>969.0</td>\n",
       "      <td>816</td>\n",
       "      <td>44.03</td>\n",
       "      <td>2015</td>\n",
       "    </tr>\n",
       "    <tr>\n",
       "      <th>2196</th>\n",
       "      <td>997</td>\n",
       "      <td>Alexandria University</td>\n",
       "      <td>Egypt</td>\n",
       "      <td>4</td>\n",
       "      <td>236</td>\n",
       "      <td>566</td>\n",
       "      <td>218</td>\n",
       "      <td>997</td>\n",
       "      <td>908</td>\n",
       "      <td>645</td>\n",
       "      <td>981.0</td>\n",
       "      <td>871</td>\n",
       "      <td>44.03</td>\n",
       "      <td>2015</td>\n",
       "    </tr>\n",
       "    <tr>\n",
       "      <th>2197</th>\n",
       "      <td>998</td>\n",
       "      <td>Federal University of Ceará</td>\n",
       "      <td>Brazil</td>\n",
       "      <td>18</td>\n",
       "      <td>367</td>\n",
       "      <td>549</td>\n",
       "      <td>218</td>\n",
       "      <td>830</td>\n",
       "      <td>823</td>\n",
       "      <td>812</td>\n",
       "      <td>975.0</td>\n",
       "      <td>824</td>\n",
       "      <td>44.03</td>\n",
       "      <td>2015</td>\n",
       "    </tr>\n",
       "    <tr>\n",
       "      <th>2198</th>\n",
       "      <td>999</td>\n",
       "      <td>University of A Coruña</td>\n",
       "      <td>Spain</td>\n",
       "      <td>40</td>\n",
       "      <td>367</td>\n",
       "      <td>567</td>\n",
       "      <td>218</td>\n",
       "      <td>886</td>\n",
       "      <td>974</td>\n",
       "      <td>812</td>\n",
       "      <td>975.0</td>\n",
       "      <td>651</td>\n",
       "      <td>44.02</td>\n",
       "      <td>2015</td>\n",
       "    </tr>\n",
       "    <tr>\n",
       "      <th>2199</th>\n",
       "      <td>1000</td>\n",
       "      <td>China Pharmaceutical University</td>\n",
       "      <td>China</td>\n",
       "      <td>83</td>\n",
       "      <td>367</td>\n",
       "      <td>567</td>\n",
       "      <td>218</td>\n",
       "      <td>861</td>\n",
       "      <td>991</td>\n",
       "      <td>812</td>\n",
       "      <td>981.0</td>\n",
       "      <td>547</td>\n",
       "      <td>44.02</td>\n",
       "      <td>2015</td>\n",
       "    </tr>\n",
       "  </tbody>\n",
       "</table>\n",
       "<p>2200 rows × 14 columns</p>\n",
       "</div>"
      ],
      "text/plain": [
       "      world_rank                            institution         country  \\\n",
       "0              1                     Harvard University             USA   \n",
       "1              2  Massachusetts Institute of Technology             USA   \n",
       "2              3                    Stanford University             USA   \n",
       "3              4                University of Cambridge  United Kingdom   \n",
       "4              5     California Institute of Technology             USA   \n",
       "...          ...                                    ...             ...   \n",
       "2195         996              University of the Algarve        Portugal   \n",
       "2196         997                  Alexandria University           Egypt   \n",
       "2197         998            Federal University of Ceará          Brazil   \n",
       "2198         999                 University of A Coruña           Spain   \n",
       "2199        1000        China Pharmaceutical University           China   \n",
       "\n",
       "      national_rank  quality_of_education  alumni_employment  \\\n",
       "0                 1                     7                  9   \n",
       "1                 2                     9                 17   \n",
       "2                 3                    17                 11   \n",
       "3                 1                    10                 24   \n",
       "4                 4                     2                 29   \n",
       "...             ...                   ...                ...   \n",
       "2195              7                   367                567   \n",
       "2196              4                   236                566   \n",
       "2197             18                   367                549   \n",
       "2198             40                   367                567   \n",
       "2199             83                   367                567   \n",
       "\n",
       "      quality_of_faculty  publications  influence  citations  broad_impact  \\\n",
       "0                      1             1          1          1           NaN   \n",
       "1                      3            12          4          4           NaN   \n",
       "2                      5             4          2          2           NaN   \n",
       "3                      4            16         16         11           NaN   \n",
       "4                      7            37         22         22           NaN   \n",
       "...                  ...           ...        ...        ...           ...   \n",
       "2195                 218           926        845        812         969.0   \n",
       "2196                 218           997        908        645         981.0   \n",
       "2197                 218           830        823        812         975.0   \n",
       "2198                 218           886        974        812         975.0   \n",
       "2199                 218           861        991        812         981.0   \n",
       "\n",
       "      patents   score  year  \n",
       "0           5  100.00  2012  \n",
       "1           1   91.67  2012  \n",
       "2          15   89.50  2012  \n",
       "3          50   86.17  2012  \n",
       "4          18   85.21  2012  \n",
       "...       ...     ...   ...  \n",
       "2195      816   44.03  2015  \n",
       "2196      871   44.03  2015  \n",
       "2197      824   44.03  2015  \n",
       "2198      651   44.02  2015  \n",
       "2199      547   44.02  2015  \n",
       "\n",
       "[2200 rows x 14 columns]"
      ]
     },
     "execution_count": 48,
     "metadata": {},
     "output_type": "execute_result"
    }
   ],
   "source": [
    "df_U"
   ]
  },
  {
   "cell_type": "code",
   "execution_count": 49,
   "metadata": {},
   "outputs": [],
   "source": [
    "df_U = df_U.rename(columns = {'world_rank':'Rango',\n",
    "                                'institute':'Institucion',\n",
    "                                'country':'Pais',\n",
    "                                'national_rank': 'Rango_en _su _pais',\n",
    "                                'quality_of_education':'Calidad_de_educacion',\n",
    "                                'alumni_employment':'Ex_alumnos_rango_de_empleo',\n",
    "                                'quality_of_faculty':'Rango_calidad_facultad',\n",
    "                                'publications':'Rango _de_publicaciones',\n",
    "                                'influence':'Rango de influencia',\n",
    "                                'citations':'Citas',\n",
    "                                'broad_impact':'Impacto',\n",
    "                                'patents':'Patentes' , \n",
    "                                'score':'Puntuacion', \n",
    "                                'year':'Año'})"
   ]
  },
  {
   "cell_type": "code",
   "execution_count": 50,
   "metadata": {},
   "outputs": [
    {
     "data": {
      "text/plain": [
       "909518"
      ]
     },
     "execution_count": 50,
     "metadata": {},
     "output_type": "execute_result"
    }
   ],
   "source": [
    "df_U['Citas'].sum()"
   ]
  },
  {
   "cell_type": "code",
   "execution_count": 45,
   "metadata": {},
   "outputs": [
    {
     "data": {
      "text/plain": [
       "47.79839545454546"
      ]
     },
     "execution_count": 45,
     "metadata": {},
     "output_type": "execute_result"
    }
   ],
   "source": [
    "df_U['Puntuacion'].mean()"
   ]
  },
  {
   "cell_type": "code",
   "execution_count": 46,
   "metadata": {},
   "outputs": [
    {
     "data": {
      "text/plain": [
       "0          100.00\n",
       "1          191.67\n",
       "2          281.17\n",
       "3          367.34\n",
       "4          452.55\n",
       "          ...    \n",
       "2195    104980.37\n",
       "2196    105024.40\n",
       "2197    105068.43\n",
       "2198    105112.45\n",
       "2199    105156.47\n",
       "Name: Puntuacion, Length: 2200, dtype: float64"
      ]
     },
     "execution_count": 46,
     "metadata": {},
     "output_type": "execute_result"
    }
   ],
   "source": [
    "df_U['Puntuacion'].cumsum()"
   ]
  },
  {
   "cell_type": "code",
   "execution_count": 47,
   "metadata": {},
   "outputs": [
    {
     "data": {
      "text/plain": [
       "count    2200.000000\n",
       "mean       47.798395\n",
       "std         7.760806\n",
       "min        43.360000\n",
       "25%        44.460000\n",
       "50%        45.100000\n",
       "75%        47.545000\n",
       "max       100.000000\n",
       "Name: Puntuacion, dtype: float64"
      ]
     },
     "execution_count": 47,
     "metadata": {},
     "output_type": "execute_result"
    }
   ],
   "source": [
    "df_U['Puntuacion'].describe()"
   ]
  },
  {
   "cell_type": "code",
   "execution_count": 48,
   "metadata": {},
   "outputs": [
    {
     "data": {
      "text/plain": [
       "60.23011643290338"
      ]
     },
     "execution_count": 48,
     "metadata": {},
     "output_type": "execute_result"
    }
   ],
   "source": [
    "df_U['Puntuacion'].var()"
   ]
  },
  {
   "cell_type": "code",
   "execution_count": 49,
   "metadata": {},
   "outputs": [
    {
     "data": {
      "text/plain": [
       "4.184903123882184"
      ]
     },
     "execution_count": 49,
     "metadata": {},
     "output_type": "execute_result"
    }
   ],
   "source": [
    "df_U['Puntuacion'].skew()"
   ]
  },
  {
   "cell_type": "code",
   "execution_count": 50,
   "metadata": {},
   "outputs": [
    {
     "data": {
      "text/plain": [
       "19.835513116385513"
      ]
     },
     "execution_count": 50,
     "metadata": {},
     "output_type": "execute_result"
    }
   ],
   "source": [
    "df_U['Puntuacion'].kurt()"
   ]
  },
  {
   "cell_type": "code",
   "execution_count": 51,
   "metadata": {},
   "outputs": [
    {
     "data": {
      "text/html": [
       "<div>\n",
       "<style scoped>\n",
       "    .dataframe tbody tr th:only-of-type {\n",
       "        vertical-align: middle;\n",
       "    }\n",
       "\n",
       "    .dataframe tbody tr th {\n",
       "        vertical-align: top;\n",
       "    }\n",
       "\n",
       "    .dataframe thead th {\n",
       "        text-align: right;\n",
       "    }\n",
       "</style>\n",
       "<table border=\"1\" class=\"dataframe\">\n",
       "  <thead>\n",
       "    <tr style=\"text-align: right;\">\n",
       "      <th></th>\n",
       "      <th>Rango</th>\n",
       "      <th>Rango_en _su _pais</th>\n",
       "      <th>Calidad_de_educacion</th>\n",
       "      <th>Ex_alumnos_rango_de_empleo</th>\n",
       "      <th>Rango_calidad_facultad</th>\n",
       "      <th>Rango _de_publicaciones</th>\n",
       "      <th>Rango de influencia</th>\n",
       "      <th>Citas</th>\n",
       "      <th>Impacto</th>\n",
       "      <th>Patentes</th>\n",
       "      <th>Puntuacion</th>\n",
       "      <th>Año</th>\n",
       "    </tr>\n",
       "  </thead>\n",
       "  <tbody>\n",
       "    <tr>\n",
       "      <th>Rango</th>\n",
       "      <td>1.000000</td>\n",
       "      <td>0.238553</td>\n",
       "      <td>0.676166</td>\n",
       "      <td>0.668529</td>\n",
       "      <td>0.663864</td>\n",
       "      <td>0.923037</td>\n",
       "      <td>0.895871</td>\n",
       "      <td>0.856573</td>\n",
       "      <td>0.942998</td>\n",
       "      <td>0.698214</td>\n",
       "      <td>-0.549098</td>\n",
       "      <td>0.320844</td>\n",
       "    </tr>\n",
       "    <tr>\n",
       "      <th>Rango_en _su _pais</th>\n",
       "      <td>0.238553</td>\n",
       "      <td>1.000000</td>\n",
       "      <td>0.211975</td>\n",
       "      <td>0.135342</td>\n",
       "      <td>0.222833</td>\n",
       "      <td>0.326857</td>\n",
       "      <td>0.161086</td>\n",
       "      <td>0.186797</td>\n",
       "      <td>0.173043</td>\n",
       "      <td>0.159440</td>\n",
       "      <td>-0.199756</td>\n",
       "      <td>0.102951</td>\n",
       "    </tr>\n",
       "    <tr>\n",
       "      <th>Calidad_de_educacion</th>\n",
       "      <td>0.676166</td>\n",
       "      <td>0.211975</td>\n",
       "      <td>1.000000</td>\n",
       "      <td>0.606421</td>\n",
       "      <td>0.786181</td>\n",
       "      <td>0.624657</td>\n",
       "      <td>0.645641</td>\n",
       "      <td>0.630455</td>\n",
       "      <td>0.521615</td>\n",
       "      <td>0.528120</td>\n",
       "      <td>-0.600541</td>\n",
       "      <td>0.427732</td>\n",
       "    </tr>\n",
       "    <tr>\n",
       "      <th>Ex_alumnos_rango_de_empleo</th>\n",
       "      <td>0.668529</td>\n",
       "      <td>0.135342</td>\n",
       "      <td>0.606421</td>\n",
       "      <td>1.000000</td>\n",
       "      <td>0.558618</td>\n",
       "      <td>0.572096</td>\n",
       "      <td>0.527382</td>\n",
       "      <td>0.559200</td>\n",
       "      <td>0.423619</td>\n",
       "      <td>0.528219</td>\n",
       "      <td>-0.510374</td>\n",
       "      <td>0.427710</td>\n",
       "    </tr>\n",
       "    <tr>\n",
       "      <th>Rango_calidad_facultad</th>\n",
       "      <td>0.663864</td>\n",
       "      <td>0.222833</td>\n",
       "      <td>0.786181</td>\n",
       "      <td>0.558618</td>\n",
       "      <td>1.000000</td>\n",
       "      <td>0.634423</td>\n",
       "      <td>0.656406</td>\n",
       "      <td>0.652186</td>\n",
       "      <td>0.549345</td>\n",
       "      <td>0.555107</td>\n",
       "      <td>-0.693540</td>\n",
       "      <td>0.484788</td>\n",
       "    </tr>\n",
       "    <tr>\n",
       "      <th>Rango _de_publicaciones</th>\n",
       "      <td>0.923037</td>\n",
       "      <td>0.326857</td>\n",
       "      <td>0.624657</td>\n",
       "      <td>0.572096</td>\n",
       "      <td>0.634423</td>\n",
       "      <td>1.000000</td>\n",
       "      <td>0.874952</td>\n",
       "      <td>0.829912</td>\n",
       "      <td>0.917878</td>\n",
       "      <td>0.671558</td>\n",
       "      <td>-0.522111</td>\n",
       "      <td>0.318245</td>\n",
       "    </tr>\n",
       "    <tr>\n",
       "      <th>Rango de influencia</th>\n",
       "      <td>0.895871</td>\n",
       "      <td>0.161086</td>\n",
       "      <td>0.645641</td>\n",
       "      <td>0.527382</td>\n",
       "      <td>0.656406</td>\n",
       "      <td>0.874952</td>\n",
       "      <td>1.000000</td>\n",
       "      <td>0.845207</td>\n",
       "      <td>0.916040</td>\n",
       "      <td>0.611811</td>\n",
       "      <td>-0.522837</td>\n",
       "      <td>0.318298</td>\n",
       "    </tr>\n",
       "    <tr>\n",
       "      <th>Citas</th>\n",
       "      <td>0.856573</td>\n",
       "      <td>0.186797</td>\n",
       "      <td>0.630455</td>\n",
       "      <td>0.559200</td>\n",
       "      <td>0.652186</td>\n",
       "      <td>0.829912</td>\n",
       "      <td>0.845207</td>\n",
       "      <td>1.000000</td>\n",
       "      <td>0.852638</td>\n",
       "      <td>0.598728</td>\n",
       "      <td>-0.522438</td>\n",
       "      <td>0.328771</td>\n",
       "    </tr>\n",
       "    <tr>\n",
       "      <th>Impacto</th>\n",
       "      <td>0.942998</td>\n",
       "      <td>0.173043</td>\n",
       "      <td>0.521615</td>\n",
       "      <td>0.423619</td>\n",
       "      <td>0.549345</td>\n",
       "      <td>0.917878</td>\n",
       "      <td>0.916040</td>\n",
       "      <td>0.852638</td>\n",
       "      <td>1.000000</td>\n",
       "      <td>0.562861</td>\n",
       "      <td>-0.531590</td>\n",
       "      <td>-0.000124</td>\n",
       "    </tr>\n",
       "    <tr>\n",
       "      <th>Patentes</th>\n",
       "      <td>0.698214</td>\n",
       "      <td>0.159440</td>\n",
       "      <td>0.528120</td>\n",
       "      <td>0.528219</td>\n",
       "      <td>0.555107</td>\n",
       "      <td>0.671558</td>\n",
       "      <td>0.611811</td>\n",
       "      <td>0.598728</td>\n",
       "      <td>0.562861</td>\n",
       "      <td>1.000000</td>\n",
       "      <td>-0.474810</td>\n",
       "      <td>0.368570</td>\n",
       "    </tr>\n",
       "    <tr>\n",
       "      <th>Puntuacion</th>\n",
       "      <td>-0.549098</td>\n",
       "      <td>-0.199756</td>\n",
       "      <td>-0.600541</td>\n",
       "      <td>-0.510374</td>\n",
       "      <td>-0.693540</td>\n",
       "      <td>-0.522111</td>\n",
       "      <td>-0.522837</td>\n",
       "      <td>-0.522438</td>\n",
       "      <td>-0.531590</td>\n",
       "      <td>-0.474810</td>\n",
       "      <td>1.000000</td>\n",
       "      <td>-0.239136</td>\n",
       "    </tr>\n",
       "    <tr>\n",
       "      <th>Año</th>\n",
       "      <td>0.320844</td>\n",
       "      <td>0.102951</td>\n",
       "      <td>0.427732</td>\n",
       "      <td>0.427710</td>\n",
       "      <td>0.484788</td>\n",
       "      <td>0.318245</td>\n",
       "      <td>0.318298</td>\n",
       "      <td>0.328771</td>\n",
       "      <td>-0.000124</td>\n",
       "      <td>0.368570</td>\n",
       "      <td>-0.239136</td>\n",
       "      <td>1.000000</td>\n",
       "    </tr>\n",
       "  </tbody>\n",
       "</table>\n",
       "</div>"
      ],
      "text/plain": [
       "                               Rango  Rango_en _su _pais  \\\n",
       "Rango                       1.000000            0.238553   \n",
       "Rango_en _su _pais          0.238553            1.000000   \n",
       "Calidad_de_educacion        0.676166            0.211975   \n",
       "Ex_alumnos_rango_de_empleo  0.668529            0.135342   \n",
       "Rango_calidad_facultad      0.663864            0.222833   \n",
       "Rango _de_publicaciones     0.923037            0.326857   \n",
       "Rango de influencia         0.895871            0.161086   \n",
       "Citas                       0.856573            0.186797   \n",
       "Impacto                     0.942998            0.173043   \n",
       "Patentes                    0.698214            0.159440   \n",
       "Puntuacion                 -0.549098           -0.199756   \n",
       "Año                         0.320844            0.102951   \n",
       "\n",
       "                            Calidad_de_educacion  Ex_alumnos_rango_de_empleo  \\\n",
       "Rango                                   0.676166                    0.668529   \n",
       "Rango_en _su _pais                      0.211975                    0.135342   \n",
       "Calidad_de_educacion                    1.000000                    0.606421   \n",
       "Ex_alumnos_rango_de_empleo              0.606421                    1.000000   \n",
       "Rango_calidad_facultad                  0.786181                    0.558618   \n",
       "Rango _de_publicaciones                 0.624657                    0.572096   \n",
       "Rango de influencia                     0.645641                    0.527382   \n",
       "Citas                                   0.630455                    0.559200   \n",
       "Impacto                                 0.521615                    0.423619   \n",
       "Patentes                                0.528120                    0.528219   \n",
       "Puntuacion                             -0.600541                   -0.510374   \n",
       "Año                                     0.427732                    0.427710   \n",
       "\n",
       "                            Rango_calidad_facultad  Rango _de_publicaciones  \\\n",
       "Rango                                     0.663864                 0.923037   \n",
       "Rango_en _su _pais                        0.222833                 0.326857   \n",
       "Calidad_de_educacion                      0.786181                 0.624657   \n",
       "Ex_alumnos_rango_de_empleo                0.558618                 0.572096   \n",
       "Rango_calidad_facultad                    1.000000                 0.634423   \n",
       "Rango _de_publicaciones                   0.634423                 1.000000   \n",
       "Rango de influencia                       0.656406                 0.874952   \n",
       "Citas                                     0.652186                 0.829912   \n",
       "Impacto                                   0.549345                 0.917878   \n",
       "Patentes                                  0.555107                 0.671558   \n",
       "Puntuacion                               -0.693540                -0.522111   \n",
       "Año                                       0.484788                 0.318245   \n",
       "\n",
       "                            Rango de influencia     Citas   Impacto  Patentes  \\\n",
       "Rango                                  0.895871  0.856573  0.942998  0.698214   \n",
       "Rango_en _su _pais                     0.161086  0.186797  0.173043  0.159440   \n",
       "Calidad_de_educacion                   0.645641  0.630455  0.521615  0.528120   \n",
       "Ex_alumnos_rango_de_empleo             0.527382  0.559200  0.423619  0.528219   \n",
       "Rango_calidad_facultad                 0.656406  0.652186  0.549345  0.555107   \n",
       "Rango _de_publicaciones                0.874952  0.829912  0.917878  0.671558   \n",
       "Rango de influencia                    1.000000  0.845207  0.916040  0.611811   \n",
       "Citas                                  0.845207  1.000000  0.852638  0.598728   \n",
       "Impacto                                0.916040  0.852638  1.000000  0.562861   \n",
       "Patentes                               0.611811  0.598728  0.562861  1.000000   \n",
       "Puntuacion                            -0.522837 -0.522438 -0.531590 -0.474810   \n",
       "Año                                    0.318298  0.328771 -0.000124  0.368570   \n",
       "\n",
       "                            Puntuacion       Año  \n",
       "Rango                        -0.549098  0.320844  \n",
       "Rango_en _su _pais           -0.199756  0.102951  \n",
       "Calidad_de_educacion         -0.600541  0.427732  \n",
       "Ex_alumnos_rango_de_empleo   -0.510374  0.427710  \n",
       "Rango_calidad_facultad       -0.693540  0.484788  \n",
       "Rango _de_publicaciones      -0.522111  0.318245  \n",
       "Rango de influencia          -0.522837  0.318298  \n",
       "Citas                        -0.522438  0.328771  \n",
       "Impacto                      -0.531590 -0.000124  \n",
       "Patentes                     -0.474810  0.368570  \n",
       "Puntuacion                    1.000000 -0.239136  \n",
       "Año                          -0.239136  1.000000  "
      ]
     },
     "execution_count": 51,
     "metadata": {},
     "output_type": "execute_result"
    }
   ],
   "source": [
    "df_U.corr()"
   ]
  },
  {
   "cell_type": "code",
   "execution_count": 52,
   "metadata": {},
   "outputs": [
    {
     "data": {
      "text/html": [
       "<div>\n",
       "<style scoped>\n",
       "    .dataframe tbody tr th:only-of-type {\n",
       "        vertical-align: middle;\n",
       "    }\n",
       "\n",
       "    .dataframe tbody tr th {\n",
       "        vertical-align: top;\n",
       "    }\n",
       "\n",
       "    .dataframe thead th {\n",
       "        text-align: right;\n",
       "    }\n",
       "</style>\n",
       "<table border=\"1\" class=\"dataframe\">\n",
       "  <thead>\n",
       "    <tr style=\"text-align: right;\">\n",
       "      <th></th>\n",
       "      <th>Rango</th>\n",
       "      <th>Rango_en _su _pais</th>\n",
       "      <th>Calidad_de_educacion</th>\n",
       "      <th>Ex_alumnos_rango_de_empleo</th>\n",
       "      <th>Rango_calidad_facultad</th>\n",
       "      <th>Rango _de_publicaciones</th>\n",
       "      <th>Rango de influencia</th>\n",
       "      <th>Citas</th>\n",
       "      <th>Impacto</th>\n",
       "      <th>Patentes</th>\n",
       "      <th>Puntuacion</th>\n",
       "      <th>Año</th>\n",
       "    </tr>\n",
       "  </thead>\n",
       "  <tbody>\n",
       "    <tr>\n",
       "      <th>Rango</th>\n",
       "      <td>92610.883046</td>\n",
       "      <td>3756.208897</td>\n",
       "      <td>25090.710964</td>\n",
       "      <td>37999.668548</td>\n",
       "      <td>12940.021084</td>\n",
       "      <td>85325.970338</td>\n",
       "      <td>82697.881289</td>\n",
       "      <td>68913.128033</td>\n",
       "      <td>78124.813157</td>\n",
       "      <td>58218.971227</td>\n",
       "      <td>-1296.844868</td>\n",
       "      <td>74.413990</td>\n",
       "    </tr>\n",
       "    <tr>\n",
       "      <th>Rango_en _su _pais</th>\n",
       "      <td>3756.208897</td>\n",
       "      <td>2677.117668</td>\n",
       "      <td>1337.353580</td>\n",
       "      <td>1307.965670</td>\n",
       "      <td>738.478596</td>\n",
       "      <td>5137.155941</td>\n",
       "      <td>2528.196358</td>\n",
       "      <td>2555.112610</td>\n",
       "      <td>2653.468893</td>\n",
       "      <td>2260.347442</td>\n",
       "      <td>-80.212209</td>\n",
       "      <td>4.059697</td>\n",
       "    </tr>\n",
       "    <tr>\n",
       "      <th>Calidad_de_educacion</th>\n",
       "      <td>25090.710964</td>\n",
       "      <td>1337.353580</td>\n",
       "      <td>14868.168622</td>\n",
       "      <td>13811.196536</td>\n",
       "      <td>6140.110828</td>\n",
       "      <td>23136.694494</td>\n",
       "      <td>23880.176763</td>\n",
       "      <td>20323.080392</td>\n",
       "      <td>15994.173538</td>\n",
       "      <td>17644.381289</td>\n",
       "      <td>-568.300430</td>\n",
       "      <td>39.749287</td>\n",
       "    </tr>\n",
       "    <tr>\n",
       "      <th>Ex_alumnos_rango_de_empleo</th>\n",
       "      <td>37999.668548</td>\n",
       "      <td>1307.965670</td>\n",
       "      <td>13811.196536</td>\n",
       "      <td>34886.488848</td>\n",
       "      <td>6682.961227</td>\n",
       "      <td>32458.514088</td>\n",
       "      <td>29879.417455</td>\n",
       "      <td>27612.293206</td>\n",
       "      <td>20890.475419</td>\n",
       "      <td>27032.610725</td>\n",
       "      <td>-739.815933</td>\n",
       "      <td>60.884596</td>\n",
       "    </tr>\n",
       "    <tr>\n",
       "      <th>Rango_calidad_facultad</th>\n",
       "      <td>12940.021084</td>\n",
       "      <td>738.478596</td>\n",
       "      <td>6140.110828</td>\n",
       "      <td>6682.961227</td>\n",
       "      <td>4102.515913</td>\n",
       "      <td>12343.406787</td>\n",
       "      <td>12753.093334</td>\n",
       "      <td>11043.414574</td>\n",
       "      <td>8259.593611</td>\n",
       "      <td>9741.978720</td>\n",
       "      <td>-344.749347</td>\n",
       "      <td>23.664972</td>\n",
       "    </tr>\n",
       "    <tr>\n",
       "      <th>Rango _de_publicaciones</th>\n",
       "      <td>85325.970338</td>\n",
       "      <td>5137.155941</td>\n",
       "      <td>23136.694494</td>\n",
       "      <td>32458.514088</td>\n",
       "      <td>12343.406787</td>\n",
       "      <td>92270.351358</td>\n",
       "      <td>80618.202976</td>\n",
       "      <td>66645.291893</td>\n",
       "      <td>76024.618017</td>\n",
       "      <td>55893.294051</td>\n",
       "      <td>-1230.838437</td>\n",
       "      <td>73.675286</td>\n",
       "    </tr>\n",
       "    <tr>\n",
       "      <th>Rango de influencia</th>\n",
       "      <td>82697.881289</td>\n",
       "      <td>2528.196358</td>\n",
       "      <td>23880.176763</td>\n",
       "      <td>29879.417455</td>\n",
       "      <td>12753.093334</td>\n",
       "      <td>80618.202976</td>\n",
       "      <td>92010.194174</td>\n",
       "      <td>67777.798857</td>\n",
       "      <td>75775.229924</td>\n",
       "      <td>50848.789510</td>\n",
       "      <td>-1230.811052</td>\n",
       "      <td>73.583716</td>\n",
       "    </tr>\n",
       "    <tr>\n",
       "      <th>Citas</th>\n",
       "      <td>68913.128033</td>\n",
       "      <td>2555.112610</td>\n",
       "      <td>20323.080392</td>\n",
       "      <td>27612.293206</td>\n",
       "      <td>11043.414574</td>\n",
       "      <td>66645.291893</td>\n",
       "      <td>67777.798857</td>\n",
       "      <td>69889.672098</td>\n",
       "      <td>61194.223232</td>\n",
       "      <td>43369.161000</td>\n",
       "      <td>-1071.885442</td>\n",
       "      <td>66.241432</td>\n",
       "    </tr>\n",
       "    <tr>\n",
       "      <th>Impacto</th>\n",
       "      <td>78124.813157</td>\n",
       "      <td>2653.468893</td>\n",
       "      <td>15994.173538</td>\n",
       "      <td>20890.475419</td>\n",
       "      <td>8259.593611</td>\n",
       "      <td>76024.618017</td>\n",
       "      <td>75775.229924</td>\n",
       "      <td>61194.223232</td>\n",
       "      <td>82322.945673</td>\n",
       "      <td>41928.455188</td>\n",
       "      <td>-1005.202078</td>\n",
       "      <td>-0.017759</td>\n",
       "    </tr>\n",
       "    <tr>\n",
       "      <th>Patentes</th>\n",
       "      <td>58218.971227</td>\n",
       "      <td>2260.347442</td>\n",
       "      <td>17644.381289</td>\n",
       "      <td>27032.610725</td>\n",
       "      <td>9741.978720</td>\n",
       "      <td>55893.294051</td>\n",
       "      <td>50848.789510</td>\n",
       "      <td>43369.161000</td>\n",
       "      <td>41928.455188</td>\n",
       "      <td>75074.095530</td>\n",
       "      <td>-1009.651954</td>\n",
       "      <td>76.965232</td>\n",
       "    </tr>\n",
       "    <tr>\n",
       "      <th>Puntuacion</th>\n",
       "      <td>-1296.844868</td>\n",
       "      <td>-80.212209</td>\n",
       "      <td>-568.300430</td>\n",
       "      <td>-739.815933</td>\n",
       "      <td>-344.749347</td>\n",
       "      <td>-1230.838437</td>\n",
       "      <td>-1230.811052</td>\n",
       "      <td>-1071.885442</td>\n",
       "      <td>-1005.202078</td>\n",
       "      <td>-1009.651954</td>\n",
       "      <td>60.230116</td>\n",
       "      <td>-1.414428</td>\n",
       "    </tr>\n",
       "    <tr>\n",
       "      <th>Año</th>\n",
       "      <td>74.413990</td>\n",
       "      <td>4.059697</td>\n",
       "      <td>39.749287</td>\n",
       "      <td>60.884596</td>\n",
       "      <td>23.664972</td>\n",
       "      <td>73.675286</td>\n",
       "      <td>73.583716</td>\n",
       "      <td>66.241432</td>\n",
       "      <td>-0.017759</td>\n",
       "      <td>76.965232</td>\n",
       "      <td>-1.414428</td>\n",
       "      <td>0.580843</td>\n",
       "    </tr>\n",
       "  </tbody>\n",
       "</table>\n",
       "</div>"
      ],
      "text/plain": [
       "                                   Rango  Rango_en _su _pais  \\\n",
       "Rango                       92610.883046         3756.208897   \n",
       "Rango_en _su _pais           3756.208897         2677.117668   \n",
       "Calidad_de_educacion        25090.710964         1337.353580   \n",
       "Ex_alumnos_rango_de_empleo  37999.668548         1307.965670   \n",
       "Rango_calidad_facultad      12940.021084          738.478596   \n",
       "Rango _de_publicaciones     85325.970338         5137.155941   \n",
       "Rango de influencia         82697.881289         2528.196358   \n",
       "Citas                       68913.128033         2555.112610   \n",
       "Impacto                     78124.813157         2653.468893   \n",
       "Patentes                    58218.971227         2260.347442   \n",
       "Puntuacion                  -1296.844868          -80.212209   \n",
       "Año                            74.413990            4.059697   \n",
       "\n",
       "                            Calidad_de_educacion  Ex_alumnos_rango_de_empleo  \\\n",
       "Rango                               25090.710964                37999.668548   \n",
       "Rango_en _su _pais                   1337.353580                 1307.965670   \n",
       "Calidad_de_educacion                14868.168622                13811.196536   \n",
       "Ex_alumnos_rango_de_empleo          13811.196536                34886.488848   \n",
       "Rango_calidad_facultad               6140.110828                 6682.961227   \n",
       "Rango _de_publicaciones             23136.694494                32458.514088   \n",
       "Rango de influencia                 23880.176763                29879.417455   \n",
       "Citas                               20323.080392                27612.293206   \n",
       "Impacto                             15994.173538                20890.475419   \n",
       "Patentes                            17644.381289                27032.610725   \n",
       "Puntuacion                           -568.300430                 -739.815933   \n",
       "Año                                    39.749287                   60.884596   \n",
       "\n",
       "                            Rango_calidad_facultad  Rango _de_publicaciones  \\\n",
       "Rango                                 12940.021084             85325.970338   \n",
       "Rango_en _su _pais                      738.478596              5137.155941   \n",
       "Calidad_de_educacion                   6140.110828             23136.694494   \n",
       "Ex_alumnos_rango_de_empleo             6682.961227             32458.514088   \n",
       "Rango_calidad_facultad                 4102.515913             12343.406787   \n",
       "Rango _de_publicaciones               12343.406787             92270.351358   \n",
       "Rango de influencia                   12753.093334             80618.202976   \n",
       "Citas                                 11043.414574             66645.291893   \n",
       "Impacto                                8259.593611             76024.618017   \n",
       "Patentes                               9741.978720             55893.294051   \n",
       "Puntuacion                             -344.749347             -1230.838437   \n",
       "Año                                      23.664972                73.675286   \n",
       "\n",
       "                            Rango de influencia         Citas       Impacto  \\\n",
       "Rango                              82697.881289  68913.128033  78124.813157   \n",
       "Rango_en _su _pais                  2528.196358   2555.112610   2653.468893   \n",
       "Calidad_de_educacion               23880.176763  20323.080392  15994.173538   \n",
       "Ex_alumnos_rango_de_empleo         29879.417455  27612.293206  20890.475419   \n",
       "Rango_calidad_facultad             12753.093334  11043.414574   8259.593611   \n",
       "Rango _de_publicaciones            80618.202976  66645.291893  76024.618017   \n",
       "Rango de influencia                92010.194174  67777.798857  75775.229924   \n",
       "Citas                              67777.798857  69889.672098  61194.223232   \n",
       "Impacto                            75775.229924  61194.223232  82322.945673   \n",
       "Patentes                           50848.789510  43369.161000  41928.455188   \n",
       "Puntuacion                         -1230.811052  -1071.885442  -1005.202078   \n",
       "Año                                   73.583716     66.241432     -0.017759   \n",
       "\n",
       "                                Patentes   Puntuacion        Año  \n",
       "Rango                       58218.971227 -1296.844868  74.413990  \n",
       "Rango_en _su _pais           2260.347442   -80.212209   4.059697  \n",
       "Calidad_de_educacion        17644.381289  -568.300430  39.749287  \n",
       "Ex_alumnos_rango_de_empleo  27032.610725  -739.815933  60.884596  \n",
       "Rango_calidad_facultad       9741.978720  -344.749347  23.664972  \n",
       "Rango _de_publicaciones     55893.294051 -1230.838437  73.675286  \n",
       "Rango de influencia         50848.789510 -1230.811052  73.583716  \n",
       "Citas                       43369.161000 -1071.885442  66.241432  \n",
       "Impacto                     41928.455188 -1005.202078  -0.017759  \n",
       "Patentes                    75074.095530 -1009.651954  76.965232  \n",
       "Puntuacion                  -1009.651954    60.230116  -1.414428  \n",
       "Año                            76.965232    -1.414428   0.580843  "
      ]
     },
     "execution_count": 52,
     "metadata": {},
     "output_type": "execute_result"
    }
   ],
   "source": [
    "df_U.cov()"
   ]
  },
  {
   "cell_type": "code",
   "execution_count": 53,
   "metadata": {},
   "outputs": [
    {
     "data": {
      "text/plain": [
       "<AxesSubplot:>"
      ]
     },
     "execution_count": 53,
     "metadata": {},
     "output_type": "execute_result"
    },
    {
     "data": {
      "image/png": "[encoded data removed]",
      "text/plain": [
       "<Figure size 432x288 with 1 Axes>"
      ]
     },
     "metadata": {
      "needs_background": "light"
     },
     "output_type": "display_data"
    }
   ],
   "source": [
    "df_U['Puntuacion'].value_counts().plot.bar() "
   ]
  },
  {
   "cell_type": "code",
   "execution_count": 54,
   "metadata": {},
   "outputs": [
    {
     "data": {
      "text/plain": [
       "<AxesSubplot:>"
      ]
     },
     "execution_count": 54,
     "metadata": {},
     "output_type": "execute_result"
    },
    {
     "data": {
      "image/png": "[encoded data removed]",
      "text/plain": [
       "<Figure size 432x288 with 1 Axes>"
      ]
     },
     "metadata": {
      "needs_background": "light"
     },
     "output_type": "display_data"
    }
   ],
   "source": [
    "df_U['Puntuacion'].value_counts().head(15).plot.bar()"
   ]
  },
  {
   "cell_type": "code",
   "execution_count": null,
   "metadata": {},
   "outputs": [],
   "source": []
  }
 ],
 "metadata": {
  "kernelspec": {
   "display_name": "Python 3",
   "language": "python",
   "name": "python3"
  },
  "language_info": {
   "codemirror_mode": {
    "name": "ipython",
    "version": 3
   },
   "file_extension": ".py",
   "mimetype": "text/x-python",
   "name": "python",
   "nbconvert_exporter": "python",
   "pygments_lexer": "ipython3",
   "version": "3.9.4"
  }
 },
 "nbformat": 4,
 "nbformat_minor": 4
}
