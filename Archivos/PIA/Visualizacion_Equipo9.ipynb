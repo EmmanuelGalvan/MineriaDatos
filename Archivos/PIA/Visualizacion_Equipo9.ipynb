{
 "cells": [
  {
   "cell_type": "markdown",
   "metadata": {},
   "source": [
    "# Visualización de datos\n",
    "**Equipo:** 9 "
   ]
  },
  {
   "cell_type": "markdown",
   "metadata": {},
   "source": [
    "**Grupo:** 003, Lunes"
   ]
  },
  {
   "cell_type": "markdown",
   "metadata": {},
   "source": [
    "**Integrantes:**\n",
    "* **1808039** , Gómez, Karen\n",
    "* **1741418** , Hernández, Emmanuel\n",
    "* **1937881** , Villarreal, Cecilia"
   ]
  },
  {
   "cell_type": "markdown",
   "metadata": {},
   "source": [
    "### Base de datos:"
   ]
  },
  {
   "cell_type": "markdown",
   "metadata": {},
   "source": [
    "[URL Police Shootings](https://www.kaggle.com/ahsen1330/us-police-shootings)"
   ]
  },
  {
   "cell_type": "code",
   "execution_count": 1,
   "metadata": {},
   "outputs": [],
   "source": [
    "import pandas as pd"
   ]
  },
  {
   "cell_type": "code",
   "execution_count": 2,
   "metadata": {},
   "outputs": [],
   "source": [
    "import matplotlib as plt\n",
    "import matplotlib.pyplot as plt\n",
    "%matplotlib inline"
   ]
  },
  {
   "cell_type": "code",
   "execution_count": 3,
   "metadata": {},
   "outputs": [],
   "source": [
    "import seaborn as sns"
   ]
  },
  {
   "cell_type": "code",
   "execution_count": 4,
   "metadata": {},
   "outputs": [],
   "source": [
    "df_PS = pd.read_csv(\"shootings.csv\")"
   ]
  },
  {
   "cell_type": "code",
   "execution_count": 5,
   "metadata": {},
   "outputs": [],
   "source": [
    "df_PS = df_PS.drop(['name','body_camera'], axis=1)"
   ]
  },
  {
   "cell_type": "code",
   "execution_count": 6,
   "metadata": {},
   "outputs": [],
   "source": [
    "df_PS = df_PS.rename(columns={'date': 'Dia', \n",
    "                              'manner_of_death':'Manera_de_la_muerte',\n",
    "                              'armed':'Arma',\n",
    "                              'age': 'Edad',\n",
    "                              'gender':'Genero',\n",
    "                              'race':'Raza', \n",
    "                              'city':'Ciudad',\n",
    "                              'state':'Estado',\n",
    "                              'signs_of_mental_illness':'Signos_de_enfermedades_mentales',\n",
    "                              'threat_level':'Nivel_de_amenaza',\n",
    "                              'flee':'Escapo',\n",
    "                              'arms_category': 'Categoria_de_armas' })"
   ]
  },
  {
   "cell_type": "code",
   "execution_count": 7,
   "metadata": {},
   "outputs": [
    {
     "data": {
      "text/plain": [
       "array(['Guns', 'Unarmed', 'Other unusual objects', 'Piercing objects',\n",
       "       'Sharp objects', 'Unknown', 'Blunt instruments', 'Multiple',\n",
       "       'Electrical devices', 'Hand tools', 'Vehicles', 'Explosives'],\n",
       "      dtype=object)"
      ]
     },
     "execution_count": 7,
     "metadata": {},
     "output_type": "execute_result"
    }
   ],
   "source": [
    "df_PS['Categoria_de_armas'].unique()"
   ]
  },
  {
   "cell_type": "markdown",
   "metadata": {},
   "source": [
    "##### Seperaremos en 3 categorias Armado, Desarmado y Desconocido"
   ]
  },
  {
   "cell_type": "code",
   "execution_count": 8,
   "metadata": {},
   "outputs": [],
   "source": [
    "df_PS = df_PS.replace({\"Guns\": \"Armado\",\n",
    "                       \"Other unusual objects\": \"Armado\",\n",
    "                       \"Piercing objects\": \"Armado\" ,\n",
    "                      \"Sharp objects\": \"Armado\" ,\n",
    "                      \"Blunt instruments\": \"Armado\" ,\n",
    "                      \"Multiple\": \"Armado\" ,\n",
    "                      \"Electrical devices\": \"Armado\" ,\n",
    "                      \"Hand tools\": \"Armado\" ,\n",
    "                      \"Vehicles\": \"Armado\" ,\n",
    "                      \"Explosives\": \"Armado\",\n",
    "                      \"Unarmed\": \"Desarmado\",\n",
    "                      \"Unknown\": \"Desconocido\"})"
   ]
  },
  {
   "cell_type": "code",
   "execution_count": 9,
   "metadata": {},
   "outputs": [],
   "source": [
    "df_PS = df_PS.rename(columns={'Categoria_de_armas': '¿Armado?'})"
   ]
  },
  {
   "cell_type": "code",
   "execution_count": 10,
   "metadata": {},
   "outputs": [
    {
     "data": {
      "text/plain": [
       "array(['Armado', 'Desarmado', 'Desconocido'], dtype=object)"
      ]
     },
     "execution_count": 10,
     "metadata": {},
     "output_type": "execute_result"
    }
   ],
   "source": [
    "df_PS['¿Armado?'].unique()"
   ]
  },
  {
   "cell_type": "markdown",
   "metadata": {},
   "source": [
    "## Segmentos por Razas"
   ]
  },
  {
   "cell_type": "code",
   "execution_count": 11,
   "metadata": {},
   "outputs": [
    {
     "data": {
      "text/plain": [
       "array(['Asian', 'White', 'Hispanic', 'Black', 'Other', 'Native'],\n",
       "      dtype=object)"
      ]
     },
     "execution_count": 11,
     "metadata": {},
     "output_type": "execute_result"
    }
   ],
   "source": [
    "df_PS['Raza'].unique()"
   ]
  },
  {
   "cell_type": "code",
   "execution_count": 12,
   "metadata": {},
   "outputs": [],
   "source": [
    "Razas = [\"Raza Blanca\", \"Raza Oscura\", \"Raza Hispana\", \"Raza Asiatica\", \"Raza Nativa\", \"Otra Raza\"]"
   ]
  },
  {
   "cell_type": "markdown",
   "metadata": {},
   "source": [
    "### Raza Blanca"
   ]
  },
  {
   "cell_type": "code",
   "execution_count": 13,
   "metadata": {},
   "outputs": [],
   "source": [
    "R_Blanca = df_PS[df_PS['Raza']=='White']"
   ]
  },
  {
   "cell_type": "code",
   "execution_count": 14,
   "metadata": {},
   "outputs": [
    {
     "data": {
      "text/plain": [
       "2476"
      ]
     },
     "execution_count": 14,
     "metadata": {},
     "output_type": "execute_result"
    }
   ],
   "source": [
    "R_Blanca['Raza'].count()"
   ]
  },
  {
   "cell_type": "code",
   "execution_count": 15,
   "metadata": {},
   "outputs": [
    {
     "data": {
      "text/plain": [
       "Armado         0.860258\n",
       "Desconocido    0.080775\n",
       "Desarmado      0.058966\n",
       "Name: ¿Armado?, dtype: float64"
      ]
     },
     "execution_count": 15,
     "metadata": {},
     "output_type": "execute_result"
    }
   ],
   "source": [
    "G_PieRB = (R_Blanca[\"¿Armado?\"].value_counts() / len(R_Blanca))\n",
    "G_PieRB"
   ]
  },
  {
   "cell_type": "code",
   "execution_count": 16,
   "metadata": {},
   "outputs": [],
   "source": [
    "nombres = [\"Armado\", \"Desconocido\", \"Desarmado\"]"
   ]
  },
  {
   "cell_type": "code",
   "execution_count": 17,
   "metadata": {},
   "outputs": [
    {
     "data": {
      "text/plain": [
       "([<matplotlib.patches.Wedge at 0x173ffe7a250>,\n",
       "  <matplotlib.patches.Wedge at 0x173ffe7a970>,\n",
       "  <matplotlib.patches.Wedge at 0x173ffe940d0>],\n",
       " [Text(-0.9956897244704501, 0.4675488986020171, 'Armado'),\n",
       "  Text(0.8925364598780212, -0.642945306996178, 'Desconocido'),\n",
       "  Text(1.0811797626559783, -0.20260878762571652, 'Desarmado')],\n",
       " [Text(-0.5431034860747909, 0.25502667196473655, '86.03%'),\n",
       "  Text(0.4868380690243751, -0.3506974401797334, '8.08%'),\n",
       "  Text(0.5897344159941699, -0.11051388415948173, '5.90%')])"
      ]
     },
     "execution_count": 17,
     "metadata": {},
     "output_type": "execute_result"
    },
    {
     "data": {
      "image/png": "[encoded data removed]",
      "text/plain": [
       "<Figure size 432x288 with 1 Axes>"
      ]
     },
     "metadata": {},
     "output_type": "display_data"
    }
   ],
   "source": [
    "plt.pie(G_PieRB, labels = nombres, autopct='%1.2f%%')"
   ]
  },
  {
   "cell_type": "markdown",
   "metadata": {},
   "source": [
    "### Raza Oscura"
   ]
  },
  {
   "cell_type": "code",
   "execution_count": 18,
   "metadata": {},
   "outputs": [],
   "source": [
    "R_Oscura = df_PS[df_PS['Raza']=='Black']"
   ]
  },
  {
   "cell_type": "code",
   "execution_count": 19,
   "metadata": {},
   "outputs": [
    {
     "data": {
      "text/plain": [
       "1298"
      ]
     },
     "execution_count": 19,
     "metadata": {},
     "output_type": "execute_result"
    }
   ],
   "source": [
    "R_Oscura['Raza'].count()"
   ]
  },
  {
   "cell_type": "code",
   "execution_count": 20,
   "metadata": {},
   "outputs": [
    {
     "data": {
      "text/plain": [
       "Armado         0.822034\n",
       "Desarmado      0.094761\n",
       "Desconocido    0.083205\n",
       "Name: ¿Armado?, dtype: float64"
      ]
     },
     "execution_count": 20,
     "metadata": {},
     "output_type": "execute_result"
    }
   ],
   "source": [
    "G_PieRO = (R_Oscura[\"¿Armado?\"].value_counts() / len(R_Oscura))\n",
    "G_PieRO"
   ]
  },
  {
   "cell_type": "code",
   "execution_count": 21,
   "metadata": {},
   "outputs": [
    {
     "data": {
      "text/plain": [
       "([<matplotlib.patches.Wedge at 0x173fff5c1f0>,\n",
       "  <matplotlib.patches.Wedge at 0x173fff5c970>,\n",
       "  <matplotlib.patches.Wedge at 0x173fff5cf70>],\n",
       " [Text(-0.9325078410500275, 0.5834630462850382, 'Armado'),\n",
       "  Text(0.7500466560005373, -0.8046303585015991, 'Desconocido'),\n",
       "  Text(1.062633139400084, -0.28427242400331704, 'Desarmado')],\n",
       " [Text(-0.5086406405727423, 0.3182525707009299, '82.20%'),\n",
       "  Text(0.40911635781847483, -0.43888928645541764, '9.48%'),\n",
       "  Text(0.5796180760364095, -0.15505768581999108, '8.32%')])"
      ]
     },
     "execution_count": 21,
     "metadata": {},
     "output_type": "execute_result"
    },
    {
     "data": {
      "image/png": "[encoded data removed]",
      "text/plain": [
       "<Figure size 432x288 with 1 Axes>"
      ]
     },
     "metadata": {},
     "output_type": "display_data"
    }
   ],
   "source": [
    "plt.pie(G_PieRO, labels = nombres, autopct='%1.2f%%')"
   ]
  },
  {
   "cell_type": "markdown",
   "metadata": {},
   "source": [
    "### Raza Hispana"
   ]
  },
  {
   "cell_type": "code",
   "execution_count": 22,
   "metadata": {},
   "outputs": [],
   "source": [
    "R_Hispana = df_PS[df_PS['Raza']=='Hispanic']"
   ]
  },
  {
   "cell_type": "code",
   "execution_count": 23,
   "metadata": {},
   "outputs": [
    {
     "data": {
      "text/plain": [
       "902"
      ]
     },
     "execution_count": 23,
     "metadata": {},
     "output_type": "execute_result"
    }
   ],
   "source": [
    "R_Hispana['Raza'].count()"
   ]
  },
  {
   "cell_type": "code",
   "execution_count": 24,
   "metadata": {},
   "outputs": [
    {
     "data": {
      "text/plain": [
       "Armado         0.831486\n",
       "Desconocido    0.098670\n",
       "Desarmado      0.069845\n",
       "Name: ¿Armado?, dtype: float64"
      ]
     },
     "execution_count": 24,
     "metadata": {},
     "output_type": "execute_result"
    }
   ],
   "source": [
    "G_PieRH = (R_Hispana[\"¿Armado?\"].value_counts() / len(R_Hispana))\n",
    "G_PieRH"
   ]
  },
  {
   "cell_type": "code",
   "execution_count": 25,
   "metadata": {},
   "outputs": [
    {
     "data": {
      "text/plain": [
       "([<matplotlib.patches.Wedge at 0x173fffb52e0>,\n",
       "  <matplotlib.patches.Wedge at 0x173fffb5a00>,\n",
       "  <matplotlib.patches.Wedge at 0x173fffc3160>],\n",
       " [Text(-0.9494192049875102, 0.5555206325609197, 'Armado'),\n",
       "  Text(0.805736254319998, -0.7488585236707798, 'Desconocido'),\n",
       "  Text(1.0736252931315822, -0.23943418709141043, 'Desarmado')],\n",
       " [Text(-0.5178650209022783, 0.30301125412413793, '83.15%'),\n",
       "  Text(0.43949250235636245, -0.4084682856386071, '9.87%'),\n",
       "  Text(0.5856137962535902, -0.13060046568622385, '6.98%')])"
      ]
     },
     "execution_count": 25,
     "metadata": {},
     "output_type": "execute_result"
    },
    {
     "data": {
      "image/png": "[encoded data removed]",
      "text/plain": [
       "<Figure size 432x288 with 1 Axes>"
      ]
     },
     "metadata": {},
     "output_type": "display_data"
    }
   ],
   "source": [
    "plt.pie(G_PieRH, labels = nombres, autopct='%1.2f%%')"
   ]
  },
  {
   "cell_type": "markdown",
   "metadata": {},
   "source": [
    "### Raza Asiatica"
   ]
  },
  {
   "cell_type": "code",
   "execution_count": 26,
   "metadata": {},
   "outputs": [],
   "source": [
    "R_Asiatica = df_PS[df_PS['Raza']=='Asian']"
   ]
  },
  {
   "cell_type": "code",
   "execution_count": 27,
   "metadata": {},
   "outputs": [
    {
     "data": {
      "text/plain": [
       "93"
      ]
     },
     "execution_count": 27,
     "metadata": {},
     "output_type": "execute_result"
    }
   ],
   "source": [
    "R_Asiatica['Raza'].count()"
   ]
  },
  {
   "cell_type": "code",
   "execution_count": 28,
   "metadata": {},
   "outputs": [
    {
     "data": {
      "text/plain": [
       "Armado         0.838710\n",
       "Desconocido    0.086022\n",
       "Desarmado      0.075269\n",
       "Name: ¿Armado?, dtype: float64"
      ]
     },
     "execution_count": 28,
     "metadata": {},
     "output_type": "execute_result"
    }
   ],
   "source": [
    "G_PieRA = (R_Asiatica[\"¿Armado?\"].value_counts() / len(R_Asiatica))\n",
    "G_PieRA"
   ]
  },
  {
   "cell_type": "code",
   "execution_count": 29,
   "metadata": {},
   "outputs": [
    {
     "name": "stderr",
     "output_type": "stream",
     "text": [
      "<ipython-input-29-6e9946f10c3b>:1: MatplotlibDeprecationWarning: normalize=None does not normalize if the sum is less than 1 but this behavior is deprecated since 3.3 until two minor releases later. After the deprecation period the default value will be normalize=True. To prevent normalization pass normalize=False \n",
      "  plt.pie(G_PieRA, labels = nombres, autopct='%1.2f%%')\n"
     ]
    },
    {
     "data": {
      "text/plain": [
       "([<matplotlib.patches.Wedge at 0x17403405e20>,\n",
       "  <matplotlib.patches.Wedge at 0x17403405fa0>,\n",
       "  <matplotlib.patches.Wedge at 0x17403413ac0>],\n",
       " [Text(-0.9617812358395109, 0.5338322343087042, 'Armado'),\n",
       "  Text(0.8099581503372423, -0.7442901280430054, 'Desconocido'),\n",
       "  Text(1.06938962993817, -0.25769326607558884, 'Desarmado')],\n",
       " [Text(-0.5246079468215513, 0.2911812187138386, '83.87%'),\n",
       "  Text(0.44179535472940484, -0.4059764334780029, '8.60%'),\n",
       "  Text(0.583303434511729, -0.14055996331395754, '7.53%')])"
      ]
     },
     "execution_count": 29,
     "metadata": {},
     "output_type": "execute_result"
    },
    {
     "data": {
      "image/png": "[encoded data removed]",
      "text/plain": [
       "<Figure size 432x288 with 1 Axes>"
      ]
     },
     "metadata": {},
     "output_type": "display_data"
    }
   ],
   "source": [
    "plt.pie(G_PieRA, labels = nombres, autopct='%1.2f%%')"
   ]
  },
  {
   "cell_type": "markdown",
   "metadata": {},
   "source": [
    "### Raza Nativa"
   ]
  },
  {
   "cell_type": "code",
   "execution_count": 30,
   "metadata": {},
   "outputs": [],
   "source": [
    "R_Nativa = df_PS[df_PS['Raza']=='Native']"
   ]
  },
  {
   "cell_type": "code",
   "execution_count": 31,
   "metadata": {},
   "outputs": [
    {
     "data": {
      "text/plain": [
       "78"
      ]
     },
     "execution_count": 31,
     "metadata": {},
     "output_type": "execute_result"
    }
   ],
   "source": [
    "R_Nativa['Raza'].count()"
   ]
  },
  {
   "cell_type": "code",
   "execution_count": 32,
   "metadata": {},
   "outputs": [
    {
     "data": {
      "text/plain": [
       "Armado         0.846154\n",
       "Desconocido    0.102564\n",
       "Desarmado      0.051282\n",
       "Name: ¿Armado?, dtype: float64"
      ]
     },
     "execution_count": 32,
     "metadata": {},
     "output_type": "execute_result"
    }
   ],
   "source": [
    "G_PieRN = (R_Nativa[\"¿Armado?\"].value_counts() / len(R_Nativa))\n",
    "G_PieRN"
   ]
  },
  {
   "cell_type": "code",
   "execution_count": 33,
   "metadata": {},
   "outputs": [
    {
     "data": {
      "text/plain": [
       "([<matplotlib.patches.Wedge at 0x17403465730>,\n",
       "  <matplotlib.patches.Wedge at 0x17403465dc0>,\n",
       "  <matplotlib.patches.Wedge at 0x17403474430>],\n",
       " [Text(-0.9740016429451693, 0.5111954611888794, 'Armado'),\n",
       "  Text(0.8793870805939832, -0.6608164363001208, 'Desconocido'),\n",
       "  Text(1.0857553009215457, -0.1764523349824643, 'Desarmado')],\n",
       " [Text(-0.5312736234246378, 0.2788338879212069, '84.62%'),\n",
       "  Text(0.47966568032399076, -0.36044532889097497, '10.26%'),\n",
       "  Text(0.5922301641390249, -0.09624672817225324, '5.13%')])"
      ]
     },
     "execution_count": 33,
     "metadata": {},
     "output_type": "execute_result"
    },
    {
     "data": {
      "image/png": "[encoded data removed]",
      "text/plain": [
       "<Figure size 432x288 with 1 Axes>"
      ]
     },
     "metadata": {},
     "output_type": "display_data"
    }
   ],
   "source": [
    "plt.pie(G_PieRN, labels = nombres, autopct='%1.2f%%')"
   ]
  },
  {
   "cell_type": "markdown",
   "metadata": {},
   "source": [
    "### Otra Raza"
   ]
  },
  {
   "cell_type": "code",
   "execution_count": 34,
   "metadata": {},
   "outputs": [],
   "source": [
    "R_Otra = df_PS[df_PS['Raza']=='Other']"
   ]
  },
  {
   "cell_type": "code",
   "execution_count": 35,
   "metadata": {},
   "outputs": [
    {
     "data": {
      "text/plain": [
       "48"
      ]
     },
     "execution_count": 35,
     "metadata": {},
     "output_type": "execute_result"
    }
   ],
   "source": [
    "R_Otra['Raza'].count()"
   ]
  },
  {
   "cell_type": "code",
   "execution_count": 36,
   "metadata": {},
   "outputs": [
    {
     "data": {
      "text/plain": [
       "Armado         0.791667\n",
       "Desarmado      0.104167\n",
       "Desconocido    0.104167\n",
       "Name: ¿Armado?, dtype: float64"
      ]
     },
     "execution_count": 36,
     "metadata": {},
     "output_type": "execute_result"
    }
   ],
   "source": [
    "G_PieOR = (R_Otra[\"¿Armado?\"].value_counts() / len(R_Otra))\n",
    "G_PieOR"
   ]
  },
  {
   "cell_type": "code",
   "execution_count": 37,
   "metadata": {},
   "outputs": [
    {
     "data": {
      "text/plain": [
       "([<matplotlib.patches.Wedge at 0x174034baac0>,\n",
       "  <matplotlib.patches.Wedge at 0x173fffd29a0>,\n",
       "  <matplotlib.patches.Wedge at 0x174034ca7f0>],\n",
       " [Text(-0.8726887161176864, 0.6696375174382514, 'Armado'),\n",
       "  Text(0.6111273633622881, -0.9146165020104645, 'Desconocido'),\n",
       "  Text(1.0416231783082182, -0.3535833061826961, 'Desarmado')],\n",
       " [Text(-0.4760120269732834, 0.36525682769359163, '79.17%'),\n",
       "  Text(0.3333421981976116, -0.49888172836934425, '10.42%'),\n",
       "  Text(0.568158097259028, -0.19286362155419787, '10.42%')])"
      ]
     },
     "execution_count": 37,
     "metadata": {},
     "output_type": "execute_result"
    },
    {
     "data": {
      "image/png": "[encoded data removed]",
      "text/plain": [
       "<Figure size 432x288 with 1 Axes>"
      ]
     },
     "metadata": {},
     "output_type": "display_data"
    }
   ],
   "source": [
    "plt.pie(G_PieOR, labels = nombres, autopct='%1.2f%%')"
   ]
  },
  {
   "cell_type": "markdown",
   "metadata": {},
   "source": [
    "## Histograma comparativo\n",
    "#### Personas desarmadas por razas"
   ]
  },
  {
   "cell_type": "code",
   "execution_count": 38,
   "metadata": {},
   "outputs": [],
   "source": [
    "Desarmado = [G_PieRB[\"Desarmado\"],\n",
    "              G_PieRO[\"Desarmado\"],\n",
    "              G_PieRH[\"Desarmado\"],\n",
    "              G_PieRA[\"Desarmado\"],\n",
    "              G_PieRN[\"Desarmado\"],\n",
    "              G_PieOR[\"Desarmado\"]]\n",
    "Armado = [G_PieRB[\"Armado\"],\n",
    "              G_PieRO[\"Armado\"],\n",
    "              G_PieRH[\"Armado\"],\n",
    "              G_PieRA[\"Armado\"],\n",
    "              G_PieRN[\"Armado\"],\n",
    "              G_PieOR[\"Armado\"]]\n",
    "Desconocido = [G_PieRB[\"Desconocido\"],\n",
    "              G_PieRO[\"Desconocido\"],\n",
    "              G_PieRH[\"Desconocido\"],\n",
    "              G_PieRA[\"Desconocido\"],\n",
    "              G_PieRN[\"Desconocido\"],\n",
    "              G_PieOR[\"Desconocido\"]]"
   ]
  },
  {
   "cell_type": "code",
   "execution_count": 39,
   "metadata": {},
   "outputs": [
    {
     "data": {
      "text/html": [
       "<div>\n",
       "<style scoped>\n",
       "    .dataframe tbody tr th:only-of-type {\n",
       "        vertical-align: middle;\n",
       "    }\n",
       "\n",
       "    .dataframe tbody tr th {\n",
       "        vertical-align: top;\n",
       "    }\n",
       "\n",
       "    .dataframe thead th {\n",
       "        text-align: right;\n",
       "    }\n",
       "</style>\n",
       "<table border=\"1\" class=\"dataframe\">\n",
       "  <thead>\n",
       "    <tr style=\"text-align: right;\">\n",
       "      <th></th>\n",
       "      <th>Razas</th>\n",
       "      <th>Desarmado</th>\n",
       "    </tr>\n",
       "  </thead>\n",
       "  <tbody>\n",
       "    <tr>\n",
       "      <th>0</th>\n",
       "      <td>Raza Blanca</td>\n",
       "      <td>0.058966</td>\n",
       "    </tr>\n",
       "    <tr>\n",
       "      <th>1</th>\n",
       "      <td>Raza Oscura</td>\n",
       "      <td>0.094761</td>\n",
       "    </tr>\n",
       "    <tr>\n",
       "      <th>2</th>\n",
       "      <td>Raza Hispana</td>\n",
       "      <td>0.069845</td>\n",
       "    </tr>\n",
       "    <tr>\n",
       "      <th>3</th>\n",
       "      <td>Raza Asiatica</td>\n",
       "      <td>0.075269</td>\n",
       "    </tr>\n",
       "    <tr>\n",
       "      <th>4</th>\n",
       "      <td>Raza Nativa</td>\n",
       "      <td>0.051282</td>\n",
       "    </tr>\n",
       "    <tr>\n",
       "      <th>5</th>\n",
       "      <td>Otra Raza</td>\n",
       "      <td>0.104167</td>\n",
       "    </tr>\n",
       "  </tbody>\n",
       "</table>\n",
       "</div>"
      ],
      "text/plain": [
       "           Razas  Desarmado\n",
       "0    Raza Blanca   0.058966\n",
       "1    Raza Oscura   0.094761\n",
       "2   Raza Hispana   0.069845\n",
       "3  Raza Asiatica   0.075269\n",
       "4    Raza Nativa   0.051282\n",
       "5      Otra Raza   0.104167"
      ]
     },
     "execution_count": 39,
     "metadata": {},
     "output_type": "execute_result"
    }
   ],
   "source": [
    "G_CompD = pd.DataFrame({'Razas': Razas, 'Desarmado': Desarmado})\n",
    "G_CompD"
   ]
  },
  {
   "cell_type": "code",
   "execution_count": 40,
   "metadata": {},
   "outputs": [
    {
     "data": {
      "text/plain": [
       "<AxesSubplot:xlabel='Razas'>"
      ]
     },
     "execution_count": 40,
     "metadata": {},
     "output_type": "execute_result"
    },
    {
     "data": {
      "image/png": "[encoded data removed]",
      "text/plain": [
       "<Figure size 432x288 with 1 Axes>"
      ]
     },
     "metadata": {
      "needs_background": "light"
     },
     "output_type": "display_data"
    }
   ],
   "source": [
    "G_CompD.plot.bar(x = 'Razas', y = 'Desarmado')"
   ]
  },
  {
   "cell_type": "code",
   "execution_count": 41,
   "metadata": {},
   "outputs": [
    {
     "data": {
      "text/plain": [
       "<AxesSubplot:xlabel='¿Armado?'>"
      ]
     },
     "execution_count": 41,
     "metadata": {},
     "output_type": "execute_result"
    },
    {
     "data": {
      "image/png": "[encoded data removed]",
      "text/plain": [
       "<Figure size 432x288 with 1 Axes>"
      ]
     },
     "metadata": {
      "needs_background": "light"
     },
     "output_type": "display_data"
    }
   ],
   "source": [
    "Arm = df_PS['Raza'].groupby([df_PS['¿Armado?'], df_PS['Raza']]).count().unstack().fillna(0)\n",
    "Arm.head(15).plot.bar(stacked = True)"
   ]
  },
  {
   "cell_type": "code",
   "execution_count": 42,
   "metadata": {},
   "outputs": [
    {
     "data": {
      "text/plain": [
       "<AxesSubplot:xlabel='¿Armado?'>"
      ]
     },
     "execution_count": 42,
     "metadata": {},
     "output_type": "execute_result"
    },
    {
     "data": {
      "image/png": "[encoded data removed]",
      "text/plain": [
       "<Figure size 432x288 with 1 Axes>"
      ]
     },
     "metadata": {
      "needs_background": "light"
     },
     "output_type": "display_data"
    }
   ],
   "source": [
    "Arm.head(15).plot.line()"
   ]
  },
  {
   "cell_type": "code",
   "execution_count": 43,
   "metadata": {},
   "outputs": [],
   "source": [
    "#Gráfica kd plot"
   ]
  },
  {
   "cell_type": "markdown",
   "metadata": {},
   "source": [
    "## Correlación"
   ]
  },
  {
   "cell_type": "code",
   "execution_count": 44,
   "metadata": {},
   "outputs": [],
   "source": [
    "df_PS_corr = df_PS.replace({\"White\": 0, \"Black\": 1, \"Hispanic\": 2, \"Asian\": 3, \"Native\": 4, \"Other\": 5})"
   ]
  },
  {
   "cell_type": "code",
   "execution_count": 45,
   "metadata": {},
   "outputs": [],
   "source": [
    "#EDIT DEMAS"
   ]
  },
  {
   "cell_type": "markdown",
   "metadata": {},
   "source": [
    "##### Conteo por Raza"
   ]
  },
  {
   "cell_type": "code",
   "execution_count": 46,
   "metadata": {},
   "outputs": [
    {
     "data": {
      "text/html": [
       "<div>\n",
       "<style scoped>\n",
       "    .dataframe tbody tr th:only-of-type {\n",
       "        vertical-align: middle;\n",
       "    }\n",
       "\n",
       "    .dataframe tbody tr th {\n",
       "        vertical-align: top;\n",
       "    }\n",
       "\n",
       "    .dataframe thead th {\n",
       "        text-align: right;\n",
       "    }\n",
       "</style>\n",
       "<table border=\"1\" class=\"dataframe\">\n",
       "  <thead>\n",
       "    <tr style=\"text-align: right;\">\n",
       "      <th></th>\n",
       "      <th>id</th>\n",
       "      <th>Edad</th>\n",
       "      <th>Raza</th>\n",
       "      <th>Signos_de_enfermedades_mentales</th>\n",
       "    </tr>\n",
       "  </thead>\n",
       "  <tbody>\n",
       "    <tr>\n",
       "      <th>id</th>\n",
       "      <td>1.000000</td>\n",
       "      <td>0.022361</td>\n",
       "      <td>0.008024</td>\n",
       "      <td>-0.086920</td>\n",
       "    </tr>\n",
       "    <tr>\n",
       "      <th>Edad</th>\n",
       "      <td>0.022361</td>\n",
       "      <td>1.000000</td>\n",
       "      <td>-0.201588</td>\n",
       "      <td>0.096865</td>\n",
       "    </tr>\n",
       "    <tr>\n",
       "      <th>Raza</th>\n",
       "      <td>0.008024</td>\n",
       "      <td>-0.201588</td>\n",
       "      <td>1.000000</td>\n",
       "      <td>-0.098986</td>\n",
       "    </tr>\n",
       "    <tr>\n",
       "      <th>Signos_de_enfermedades_mentales</th>\n",
       "      <td>-0.086920</td>\n",
       "      <td>0.096865</td>\n",
       "      <td>-0.098986</td>\n",
       "      <td>1.000000</td>\n",
       "    </tr>\n",
       "  </tbody>\n",
       "</table>\n",
       "</div>"
      ],
      "text/plain": [
       "                                       id      Edad      Raza  \\\n",
       "id                               1.000000  0.022361  0.008024   \n",
       "Edad                             0.022361  1.000000 -0.201588   \n",
       "Raza                             0.008024 -0.201588  1.000000   \n",
       "Signos_de_enfermedades_mentales -0.086920  0.096865 -0.098986   \n",
       "\n",
       "                                 Signos_de_enfermedades_mentales  \n",
       "id                                                     -0.086920  \n",
       "Edad                                                    0.096865  \n",
       "Raza                                                   -0.098986  \n",
       "Signos_de_enfermedades_mentales                         1.000000  "
      ]
     },
     "execution_count": 46,
     "metadata": {},
     "output_type": "execute_result"
    }
   ],
   "source": [
    "df_PS_corr.corr()\n",
    "#Creo que sería conveniente hacer un comparativo por raza, pero solo en el numero de detenciones y en lo de si tenía armas, ¿no?"
   ]
  },
  {
   "cell_type": "code",
   "execution_count": 47,
   "metadata": {},
   "outputs": [],
   "source": [
    "#_______________________________________________________________________________________________"
   ]
  },
  {
   "cell_type": "code",
   "execution_count": 48,
   "metadata": {},
   "outputs": [
    {
     "data": {
      "text/plain": [
       "<AxesSubplot:>"
      ]
     },
     "execution_count": 48,
     "metadata": {},
     "output_type": "execute_result"
    },
    {
     "data": {
      "image/png": "[encoded data removed]",
      "text/plain": [
       "<Figure size 432x288 with 1 Axes>"
      ]
     },
     "metadata": {
      "needs_background": "light"
     },
     "output_type": "display_data"
    }
   ],
   "source": [
    "df_PS['Raza'].value_counts().plot.bar() "
   ]
  },
  {
   "cell_type": "code",
   "execution_count": 49,
   "metadata": {},
   "outputs": [
    {
     "data": {
      "text/plain": [
       "<AxesSubplot:>"
      ]
     },
     "execution_count": 49,
     "metadata": {},
     "output_type": "execute_result"
    },
    {
     "data": {
      "image/png": "[encoded data removed]",
      "text/plain": [
       "<Figure size 432x288 with 1 Axes>"
      ]
     },
     "metadata": {
      "needs_background": "light"
     },
     "output_type": "display_data"
    }
   ],
   "source": [
    "(df_PS['Raza'].value_counts() / len(df_PS)).plot.bar()"
   ]
  },
  {
   "cell_type": "markdown",
   "metadata": {},
   "source": [
    "##### Conteo por Estados"
   ]
  },
  {
   "cell_type": "code",
   "execution_count": 50,
   "metadata": {},
   "outputs": [
    {
     "data": {
      "text/plain": [
       "<AxesSubplot:>"
      ]
     },
     "execution_count": 50,
     "metadata": {},
     "output_type": "execute_result"
    },
    {
     "data": {
      "image/png": "[encoded data removed]",
      "text/plain": [
       "<Figure size 432x288 with 1 Axes>"
      ]
     },
     "metadata": {
      "needs_background": "light"
     },
     "output_type": "display_data"
    }
   ],
   "source": [
    "df_PS['Estado'].value_counts().sort_values(ascending = False).head(10).plot.bar()"
   ]
  },
  {
   "cell_type": "markdown",
   "metadata": {},
   "source": [
    "##### Conteo por Edad"
   ]
  },
  {
   "cell_type": "code",
   "execution_count": 51,
   "metadata": {},
   "outputs": [
    {
     "data": {
      "text/plain": [
       "<AxesSubplot:>"
      ]
     },
     "execution_count": 51,
     "metadata": {},
     "output_type": "execute_result"
    },
    {
     "data": {
      "image/png": "[encoded data removed]",
      "text/plain": [
       "<Figure size 432x288 with 1 Axes>"
      ]
     },
     "metadata": {
      "needs_background": "light"
     },
     "output_type": "display_data"
    }
   ],
   "source": [
    "df_PS['Edad'].value_counts().sort_index().plot.line()"
   ]
  },
  {
   "cell_type": "code",
   "execution_count": 52,
   "metadata": {},
   "outputs": [
    {
     "data": {
      "text/plain": [
       "<AxesSubplot:>"
      ]
     },
     "execution_count": 52,
     "metadata": {},
     "output_type": "execute_result"
    },
    {
     "data": {
      "image/png": "[encoded data removed]",
      "text/plain": [
       "<Figure size 432x288 with 1 Axes>"
      ]
     },
     "metadata": {
      "needs_background": "light"
     },
     "output_type": "display_data"
    }
   ],
   "source": [
    "df_PS['Edad'].value_counts().sort_index().plot.area()"
   ]
  },
  {
   "cell_type": "code",
   "execution_count": 53,
   "metadata": {},
   "outputs": [
    {
     "data": {
      "text/plain": [
       "<AxesSubplot:ylabel='Frequency'>"
      ]
     },
     "execution_count": 53,
     "metadata": {},
     "output_type": "execute_result"
    },
    {
     "data": {
      "image/png": "[encoded data removed]",
      "text/plain": [
       "<Figure size 432x288 with 1 Axes>"
      ]
     },
     "metadata": {
      "needs_background": "light"
     },
     "output_type": "display_data"
    }
   ],
   "source": [
    "df_PS[df_PS['Edad'] < 75]['Edad'].plot.hist()"
   ]
  },
  {
   "cell_type": "code",
   "execution_count": 54,
   "metadata": {},
   "outputs": [],
   "source": [
    "##IGNORAR "
   ]
  },
  {
   "cell_type": "code",
   "execution_count": 55,
   "metadata": {},
   "outputs": [
    {
     "data": {
      "text/html": [
       "<div>\n",
       "<style scoped>\n",
       "    .dataframe tbody tr th:only-of-type {\n",
       "        vertical-align: middle;\n",
       "    }\n",
       "\n",
       "    .dataframe tbody tr th {\n",
       "        vertical-align: top;\n",
       "    }\n",
       "\n",
       "    .dataframe thead th {\n",
       "        text-align: right;\n",
       "    }\n",
       "</style>\n",
       "<table border=\"1\" class=\"dataframe\">\n",
       "  <thead>\n",
       "    <tr style=\"text-align: right;\">\n",
       "      <th></th>\n",
       "      <th>Razas</th>\n",
       "      <th>Desarmado</th>\n",
       "      <th>Armado</th>\n",
       "      <th>Desconocido</th>\n",
       "    </tr>\n",
       "  </thead>\n",
       "  <tbody>\n",
       "    <tr>\n",
       "      <th>0</th>\n",
       "      <td>Raza Blanca</td>\n",
       "      <td>0.058966</td>\n",
       "      <td>0.860258</td>\n",
       "      <td>0.080775</td>\n",
       "    </tr>\n",
       "    <tr>\n",
       "      <th>1</th>\n",
       "      <td>Raza Oscura</td>\n",
       "      <td>0.094761</td>\n",
       "      <td>0.822034</td>\n",
       "      <td>0.083205</td>\n",
       "    </tr>\n",
       "    <tr>\n",
       "      <th>2</th>\n",
       "      <td>Raza Hispana</td>\n",
       "      <td>0.069845</td>\n",
       "      <td>0.831486</td>\n",
       "      <td>0.098670</td>\n",
       "    </tr>\n",
       "    <tr>\n",
       "      <th>3</th>\n",
       "      <td>Raza Asiatica</td>\n",
       "      <td>0.075269</td>\n",
       "      <td>0.838710</td>\n",
       "      <td>0.086022</td>\n",
       "    </tr>\n",
       "    <tr>\n",
       "      <th>4</th>\n",
       "      <td>Raza Nativa</td>\n",
       "      <td>0.051282</td>\n",
       "      <td>0.846154</td>\n",
       "      <td>0.102564</td>\n",
       "    </tr>\n",
       "    <tr>\n",
       "      <th>5</th>\n",
       "      <td>Otra Raza</td>\n",
       "      <td>0.104167</td>\n",
       "      <td>0.791667</td>\n",
       "      <td>0.104167</td>\n",
       "    </tr>\n",
       "  </tbody>\n",
       "</table>\n",
       "</div>"
      ],
      "text/plain": [
       "           Razas  Desarmado    Armado  Desconocido\n",
       "0    Raza Blanca   0.058966  0.860258     0.080775\n",
       "1    Raza Oscura   0.094761  0.822034     0.083205\n",
       "2   Raza Hispana   0.069845  0.831486     0.098670\n",
       "3  Raza Asiatica   0.075269  0.838710     0.086022\n",
       "4    Raza Nativa   0.051282  0.846154     0.102564\n",
       "5      Otra Raza   0.104167  0.791667     0.104167"
      ]
     },
     "execution_count": 55,
     "metadata": {},
     "output_type": "execute_result"
    }
   ],
   "source": [
    "G_Comp = pd.DataFrame({'Razas': Razas, 'Desarmado': Desarmado, 'Armado': Armado, 'Desconocido': Desconocido})\n",
    "G_Comp"
   ]
  },
  {
   "cell_type": "code",
   "execution_count": 56,
   "metadata": {},
   "outputs": [
    {
     "data": {
      "text/html": [
       "<div>\n",
       "<style scoped>\n",
       "    .dataframe tbody tr th:only-of-type {\n",
       "        vertical-align: middle;\n",
       "    }\n",
       "\n",
       "    .dataframe tbody tr th {\n",
       "        vertical-align: top;\n",
       "    }\n",
       "\n",
       "    .dataframe thead th {\n",
       "        text-align: right;\n",
       "    }\n",
       "</style>\n",
       "<table border=\"1\" class=\"dataframe\">\n",
       "  <thead>\n",
       "    <tr style=\"text-align: right;\">\n",
       "      <th></th>\n",
       "      <th>Razas</th>\n",
       "      <th>Desarmado</th>\n",
       "      <th>Armado</th>\n",
       "      <th>Desconocido</th>\n",
       "      <th>Total</th>\n",
       "    </tr>\n",
       "  </thead>\n",
       "  <tbody>\n",
       "    <tr>\n",
       "      <th>0</th>\n",
       "      <td>Raza Blanca</td>\n",
       "      <td>146</td>\n",
       "      <td>2130</td>\n",
       "      <td>200</td>\n",
       "      <td>2476</td>\n",
       "    </tr>\n",
       "    <tr>\n",
       "      <th>1</th>\n",
       "      <td>Raza Oscura</td>\n",
       "      <td>123</td>\n",
       "      <td>1067</td>\n",
       "      <td>108</td>\n",
       "      <td>1298</td>\n",
       "    </tr>\n",
       "    <tr>\n",
       "      <th>2</th>\n",
       "      <td>Raza Hispana</td>\n",
       "      <td>63</td>\n",
       "      <td>750</td>\n",
       "      <td>89</td>\n",
       "      <td>902</td>\n",
       "    </tr>\n",
       "    <tr>\n",
       "      <th>3</th>\n",
       "      <td>Raza Asiatica</td>\n",
       "      <td>7</td>\n",
       "      <td>78</td>\n",
       "      <td>8</td>\n",
       "      <td>93</td>\n",
       "    </tr>\n",
       "    <tr>\n",
       "      <th>4</th>\n",
       "      <td>Raza Nativa</td>\n",
       "      <td>4</td>\n",
       "      <td>66</td>\n",
       "      <td>8</td>\n",
       "      <td>78</td>\n",
       "    </tr>\n",
       "    <tr>\n",
       "      <th>5</th>\n",
       "      <td>Otra Raza</td>\n",
       "      <td>5</td>\n",
       "      <td>38</td>\n",
       "      <td>5</td>\n",
       "      <td>48</td>\n",
       "    </tr>\n",
       "  </tbody>\n",
       "</table>\n",
       "</div>"
      ],
      "text/plain": [
       "           Razas  Desarmado  Armado  Desconocido  Total\n",
       "0    Raza Blanca        146    2130          200   2476\n",
       "1    Raza Oscura        123    1067          108   1298\n",
       "2   Raza Hispana         63     750           89    902\n",
       "3  Raza Asiatica          7      78            8     93\n",
       "4    Raza Nativa          4      66            8     78\n",
       "5      Otra Raza          5      38            5     48"
      ]
     },
     "execution_count": 56,
     "metadata": {},
     "output_type": "execute_result"
    }
   ],
   "source": [
    "Armado_ = [R_Blanca[\"¿Armado?\"].value_counts()['Armado'],\n",
    "           R_Oscura[\"¿Armado?\"].value_counts()['Armado'],\n",
    "           R_Hispana[\"¿Armado?\"].value_counts()['Armado'],\n",
    "           R_Asiatica[\"¿Armado?\"].value_counts()['Armado'],\n",
    "           R_Nativa[\"¿Armado?\"].value_counts()['Armado'],\n",
    "           R_Otra[\"¿Armado?\"].value_counts()['Armado']]\n",
    "Desarmado_ = [R_Blanca[\"¿Armado?\"].value_counts()['Desarmado'],\n",
    "           R_Oscura[\"¿Armado?\"].value_counts()['Desarmado'],\n",
    "           R_Hispana[\"¿Armado?\"].value_counts()['Desarmado'],\n",
    "           R_Asiatica[\"¿Armado?\"].value_counts()['Desarmado'],\n",
    "           R_Nativa[\"¿Armado?\"].value_counts()['Desarmado'],\n",
    "           R_Otra[\"¿Armado?\"].value_counts()['Desarmado']]\n",
    "Desconocido_ = [R_Blanca[\"¿Armado?\"].value_counts()['Desconocido'],\n",
    "           R_Oscura[\"¿Armado?\"].value_counts()['Desconocido'],\n",
    "           R_Hispana[\"¿Armado?\"].value_counts()['Desconocido'],\n",
    "           R_Asiatica[\"¿Armado?\"].value_counts()['Desconocido'],\n",
    "           R_Nativa[\"¿Armado?\"].value_counts()['Desconocido'],\n",
    "           R_Otra[\"¿Armado?\"].value_counts()['Desconocido']]\n",
    "Total_ = [R_Blanca['Raza'].count(),\n",
    "           R_Oscura['Raza'].count(),\n",
    "           R_Hispana['Raza'].count(),\n",
    "           R_Asiatica['Raza'].count(),\n",
    "           R_Nativa['Raza'].count(),\n",
    "           R_Otra['Raza'].count()]\n",
    "List = pd.DataFrame({'Razas': Razas, 'Desarmado': Desarmado_, 'Armado': Armado_, 'Desconocido': Desconocido_, 'Total': Total_})\n",
    "List"
   ]
  }
 ],
 "metadata": {
  "kernelspec": {
   "display_name": "Python 3",
   "language": "python",
   "name": "python3"
  },
  "language_info": {
   "codemirror_mode": {
    "name": "ipython",
    "version": 3
   },
   "file_extension": ".py",
   "mimetype": "text/x-python",
   "name": "python",
   "nbconvert_exporter": "python",
   "pygments_lexer": "ipython3",
   "version": "3.9.4"
  }
 },
 "nbformat": 4,
 "nbformat_minor": 4
}
