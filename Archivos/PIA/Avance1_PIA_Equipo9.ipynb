{
 "cells": [
  {
   "cell_type": "markdown",
   "metadata": {},
   "source": [
    "# Primer avance del PIA"
   ]
  },
  {
   "cell_type": "markdown",
   "metadata": {},
   "source": [
    "**Equipo:** 9"
   ]
  },
  {
   "cell_type": "markdown",
   "metadata": {},
   "source": [
    "**Grupo:** 003, Lunes"
   ]
  },
  {
   "cell_type": "markdown",
   "metadata": {},
   "source": [
    "**Integrantes:** \n",
    "- 1808039, Gómez, Karen\n",
    "- 1937881, Duarte, Cecilia  \n",
    "- 1741418, Galván, Emmanuel "
   ]
  },
  {
   "cell_type": "markdown",
   "metadata": {},
   "source": [
    "### Base de datos:"
   ]
  },
  {
   "cell_type": "markdown",
   "metadata": {},
   "source": [
    "[US Police Shootings](https://www.kaggle.com/ahsen1330/us-police-shootings)"
   ]
  },
  {
   "cell_type": "code",
   "execution_count": 1,
   "metadata": {},
   "outputs": [],
   "source": [
    "import pandas as pd"
   ]
  },
  {
   "cell_type": "code",
   "execution_count": 3,
   "metadata": {},
   "outputs": [],
   "source": [
    "df_PS = pd.read_csv(\"shootings.csv\")"
   ]
  },
  {
   "cell_type": "markdown",
   "metadata": {},
   "source": [
    "### Descripción de los datos"
   ]
  },
  {
   "cell_type": "code",
   "execution_count": null,
   "metadata": {},
   "outputs": [],
   "source": [
    "df_PS.shape"
   ]
  },
  {
   "cell_type": "markdown",
   "metadata": {},
   "source": [
    "Esto, nos indica que tenemos un total de 15 columnas que describen las características de las personas, los eventos y las condiciones en las cuales se llevó a cabo los arrestos por parte de la policía de Estados de Unidos. Asimismo, nos describe que hay 4894 registros de personas que fueron arrestadas."
   ]
  },
  {
   "cell_type": "markdown",
   "metadata": {},
   "source": [
    "**Tipo de datos**  (Tablas, imágenes, encuestas)"
   ]
  },
  {
   "cell_type": "markdown",
   "metadata": {},
   "source": [
    "La base de datos es una tabla, que tiene valores numéricos enteros para el identificador y flotantes para la edad. En su mayoría son de tipo texto ya que describen una característica según la columna, a excepción de la fecha que tiene ese formato y la columna signs of mental illness donde los datos son verdadero y falso."
   ]
  },
  {
   "cell_type": "code",
   "execution_count": 4,
   "metadata": {},
   "outputs": [
    {
     "data": {
      "text/plain": [
       "id                           int64\n",
       "name                        object\n",
       "date                        object\n",
       "manner_of_death             object\n",
       "armed                       object\n",
       "age                        float64\n",
       "gender                      object\n",
       "race                        object\n",
       "city                        object\n",
       "state                       object\n",
       "signs_of_mental_illness       bool\n",
       "threat_level                object\n",
       "flee                        object\n",
       "body_camera                   bool\n",
       "arms_category               object\n",
       "dtype: object"
      ]
     },
     "execution_count": 4,
     "metadata": {},
     "output_type": "execute_result"
    }
   ],
   "source": [
    "df_PS.dtypes"
   ]
  },
  {
   "cell_type": "markdown",
   "metadata": {},
   "source": [
    "**NOTA:** Algo que vamos a tener que cambiar es modificar el tipo de dato que son algunas columnas asignandóles valores numéricos para hacer comparativos entre los datos."
   ]
  },
  {
   "cell_type": "code",
   "execution_count": null,
   "metadata": {},
   "outputs": [],
   "source": [
    "df_PS.head()"
   ]
  },
  {
   "cell_type": "markdown",
   "metadata": {},
   "source": [
    "**NOTA:** Las columnas de nuestro interés principal son: armed, race, manner of death, flee y treat_level. Esto, porque son las que nos decriben la raza de las personas detenidas, así como la posible razón de su detención y el carácter de la misma."
   ]
  },
  {
   "cell_type": "markdown",
   "metadata": {},
   "source": [
    "### Justificación del uso de datos"
   ]
  },
  {
   "cell_type": "markdown",
   "metadata": {},
   "source": [
    "Se tiene catalogado a Estados Unidos como un país con un gran porcentaje de discriminación racial, en especial al momento de hacer cumplir sus leyes. Por lo que, la policía de Estados Unidos ha sido catalogada como injusta y con cierta inclinación a detener de forma injustificada o con mayor severidad aquellos ciudadanos de un cierto tipo de raza, en especial aquellos de un tono de piel oscura.\n",
    "Es por ello, que buscamos conocer si lo que se piensa de la policía de Estados Unidos es cierto."
   ]
  },
  {
   "cell_type": "markdown",
   "metadata": {},
   "source": [
    "### Objetivo final"
   ]
  },
  {
   "cell_type": "markdown",
   "metadata": {},
   "source": [
    "* Determinar si es mayor la proporción de arrestos de personas de color que la proporción de personas blancas.\n",
    "\n",
    "* Comparar y analizar la proporción de arrestos por razas.\n",
    "\n",
    "* Evaluar la susceptibilidad de los policías a actuar de forma violenta en los arrestos, según distintos criterios. "
   ]
  },
  {
   "cell_type": "markdown",
   "metadata": {},
   "source": [
    "### Preguntas de interés "
   ]
  },
  {
   "cell_type": "markdown",
   "metadata": {},
   "source": [
    "* ¿Hay mayor proporción de personas de color arrestadas que personas blancas por la policía de Estados Unidos?\n",
    "\n",
    "* ¿Existe una desigualdad racial en cuánto arrestos en Estados Unidos?\n",
    "\n",
    "* ¿Qué tan susceptibles a la violencia son los policías de Estados Unidos?"
   ]
  },
  {
   "cell_type": "markdown",
   "metadata": {},
   "source": [
    "### Programación"
   ]
  },
  {
   "cell_type": "markdown",
   "metadata": {},
   "source": [
    "**Eliminar columnas no deseadas**"
   ]
  },
  {
   "cell_type": "code",
   "execution_count": null,
   "metadata": {},
   "outputs": [],
   "source": [
    "df_PS.columns"
   ]
  },
  {
   "cell_type": "markdown",
   "metadata": {},
   "source": [
    "* name: Se eliminó, debido a que el nombre de las personas no es relevante para el análisis.\n",
    "* body_camera: se eliminó porque no nos interesa saber si traían una camára en el cuerpo."
   ]
  },
  {
   "cell_type": "code",
   "execution_count": 5,
   "metadata": {},
   "outputs": [],
   "source": [
    "df_PS = df_PS.drop(['name','body_camera'], axis=1)"
   ]
  },
  {
   "cell_type": "markdown",
   "metadata": {},
   "source": [
    "**NOTA:** Hay columnas que no son esenciales pero que no eliminamos porque consideramos que se les podría encontrar un uso específico conforme se avance en el análisis."
   ]
  },
  {
   "cell_type": "markdown",
   "metadata": {},
   "source": [
    "**Manipulación de los datos tipo null**\n",
    "\n",
    "No hay datos tipo null"
   ]
  },
  {
   "cell_type": "code",
   "execution_count": null,
   "metadata": {},
   "outputs": [],
   "source": [
    "df_PS.isnull().sum()"
   ]
  },
  {
   "cell_type": "markdown",
   "metadata": {},
   "source": [
    "**NOTA:** Esto es algo bueno para nosotros porque no tendremos que ver como manejar estos datos."
   ]
  },
  {
   "cell_type": "markdown",
   "metadata": {},
   "source": [
    "**Renombra columnas**"
   ]
  },
  {
   "cell_type": "code",
   "execution_count": 10,
   "metadata": {},
   "outputs": [],
   "source": [
    "df_PS = df_PS.rename(columns={'date': 'Dia', \n",
    "                              'manner_of_death':'Manera_de_la_muerte',\n",
    "                              'armed':'Arma',\n",
    "                              'age': 'Edad',\n",
    "                              'gender':'Genero',\n",
    "                              'race':'Raza', \n",
    "                              'city':'Ciudad',\n",
    "                              'state':'Estado',\n",
    "                              'signs_of_mental_illness':'Signos_de_enfermedades_mentales',\n",
    "                              'flee':'Escapo',\n",
    "                              'threat_level':'Nivel_de_amenaza',\n",
    "                              'arms_category': 'Categoria_de_armas' })"
   ]
  },
  {
   "cell_type": "markdown",
   "metadata": {},
   "source": [
    "**NOTA:** Las cambiamos para identificarlos con facilidad en nuestro idioma nativo."
   ]
  },
  {
   "cell_type": "markdown",
   "metadata": {},
   "source": [
    "**Visualización después de limpieza y exportación de los datos**"
   ]
  },
  {
   "cell_type": "code",
   "execution_count": 11,
   "metadata": {},
   "outputs": [
    {
     "data": {
      "text/html": [
       "<div>\n",
       "<style scoped>\n",
       "    .dataframe tbody tr th:only-of-type {\n",
       "        vertical-align: middle;\n",
       "    }\n",
       "\n",
       "    .dataframe tbody tr th {\n",
       "        vertical-align: top;\n",
       "    }\n",
       "\n",
       "    .dataframe thead th {\n",
       "        text-align: right;\n",
       "    }\n",
       "</style>\n",
       "<table border=\"1\" class=\"dataframe\">\n",
       "  <thead>\n",
       "    <tr style=\"text-align: right;\">\n",
       "      <th></th>\n",
       "      <th>id</th>\n",
       "      <th>Dia</th>\n",
       "      <th>Manera_de_la_muerte</th>\n",
       "      <th>Arma</th>\n",
       "      <th>Edad</th>\n",
       "      <th>Genero</th>\n",
       "      <th>Raza</th>\n",
       "      <th>Ciudad</th>\n",
       "      <th>Estado</th>\n",
       "      <th>Signos_de_enfermedades_mentales</th>\n",
       "      <th>Nivel_de_amenaza</th>\n",
       "      <th>Escapo</th>\n",
       "      <th>Categoria_de_armas</th>\n",
       "    </tr>\n",
       "  </thead>\n",
       "  <tbody>\n",
       "    <tr>\n",
       "      <th>0</th>\n",
       "      <td>3</td>\n",
       "      <td>2015-01-02</td>\n",
       "      <td>shot</td>\n",
       "      <td>gun</td>\n",
       "      <td>53.0</td>\n",
       "      <td>M</td>\n",
       "      <td>Asian</td>\n",
       "      <td>Shelton</td>\n",
       "      <td>WA</td>\n",
       "      <td>True</td>\n",
       "      <td>attack</td>\n",
       "      <td>Not fleeing</td>\n",
       "      <td>Guns</td>\n",
       "    </tr>\n",
       "    <tr>\n",
       "      <th>1</th>\n",
       "      <td>4</td>\n",
       "      <td>2015-01-02</td>\n",
       "      <td>shot</td>\n",
       "      <td>gun</td>\n",
       "      <td>47.0</td>\n",
       "      <td>M</td>\n",
       "      <td>White</td>\n",
       "      <td>Aloha</td>\n",
       "      <td>OR</td>\n",
       "      <td>False</td>\n",
       "      <td>attack</td>\n",
       "      <td>Not fleeing</td>\n",
       "      <td>Guns</td>\n",
       "    </tr>\n",
       "    <tr>\n",
       "      <th>2</th>\n",
       "      <td>5</td>\n",
       "      <td>2015-01-03</td>\n",
       "      <td>shot and Tasered</td>\n",
       "      <td>unarmed</td>\n",
       "      <td>23.0</td>\n",
       "      <td>M</td>\n",
       "      <td>Hispanic</td>\n",
       "      <td>Wichita</td>\n",
       "      <td>KS</td>\n",
       "      <td>False</td>\n",
       "      <td>other</td>\n",
       "      <td>Not fleeing</td>\n",
       "      <td>Unarmed</td>\n",
       "    </tr>\n",
       "    <tr>\n",
       "      <th>3</th>\n",
       "      <td>8</td>\n",
       "      <td>2015-01-04</td>\n",
       "      <td>shot</td>\n",
       "      <td>toy weapon</td>\n",
       "      <td>32.0</td>\n",
       "      <td>M</td>\n",
       "      <td>White</td>\n",
       "      <td>San Francisco</td>\n",
       "      <td>CA</td>\n",
       "      <td>True</td>\n",
       "      <td>attack</td>\n",
       "      <td>Not fleeing</td>\n",
       "      <td>Other unusual objects</td>\n",
       "    </tr>\n",
       "    <tr>\n",
       "      <th>4</th>\n",
       "      <td>9</td>\n",
       "      <td>2015-01-04</td>\n",
       "      <td>shot</td>\n",
       "      <td>nail gun</td>\n",
       "      <td>39.0</td>\n",
       "      <td>M</td>\n",
       "      <td>Hispanic</td>\n",
       "      <td>Evans</td>\n",
       "      <td>CO</td>\n",
       "      <td>False</td>\n",
       "      <td>attack</td>\n",
       "      <td>Not fleeing</td>\n",
       "      <td>Piercing objects</td>\n",
       "    </tr>\n",
       "  </tbody>\n",
       "</table>\n",
       "</div>"
      ],
      "text/plain": [
       "   id         Dia Manera_de_la_muerte        Arma  Edad Genero      Raza  \\\n",
       "0   3  2015-01-02                shot         gun  53.0      M     Asian   \n",
       "1   4  2015-01-02                shot         gun  47.0      M     White   \n",
       "2   5  2015-01-03    shot and Tasered     unarmed  23.0      M  Hispanic   \n",
       "3   8  2015-01-04                shot  toy weapon  32.0      M     White   \n",
       "4   9  2015-01-04                shot    nail gun  39.0      M  Hispanic   \n",
       "\n",
       "          Ciudad Estado  Signos_de_enfermedades_mentales Nivel_de_amenaza  \\\n",
       "0        Shelton     WA                             True           attack   \n",
       "1          Aloha     OR                            False           attack   \n",
       "2        Wichita     KS                            False            other   \n",
       "3  San Francisco     CA                             True           attack   \n",
       "4          Evans     CO                            False           attack   \n",
       "\n",
       "        Escapo     Categoria_de_armas  \n",
       "0  Not fleeing                   Guns  \n",
       "1  Not fleeing                   Guns  \n",
       "2  Not fleeing                Unarmed  \n",
       "3  Not fleeing  Other unusual objects  \n",
       "4  Not fleeing       Piercing objects  "
      ]
     },
     "execution_count": 11,
     "metadata": {},
     "output_type": "execute_result"
    }
   ],
   "source": [
    "df_PS.head()"
   ]
  },
  {
   "cell_type": "code",
   "execution_count": null,
   "metadata": {},
   "outputs": [],
   "source": [
    "df_PS.shape"
   ]
  },
  {
   "cell_type": "code",
   "execution_count": null,
   "metadata": {},
   "outputs": [],
   "source": [
    "df_PS.to_csv('DF_USPS.csv', index = False, header = True)"
   ]
  },
  {
   "cell_type": "markdown",
   "metadata": {},
   "source": [
    "**NOTA:** Aquí le cambiamos el nombre al archivo con una nomenclatura que nos facilicte su búsqueda y reconocimiento."
   ]
  }
 ],
 "metadata": {
  "kernelspec": {
   "display_name": "Python 3",
   "language": "python",
   "name": "python3"
  },
  "language_info": {
   "codemirror_mode": {
    "name": "ipython",
    "version": 3
   },
   "file_extension": ".py",
   "mimetype": "text/x-python",
   "name": "python",
   "nbconvert_exporter": "python",
   "pygments_lexer": "ipython3",
   "version": "3.8.5"
  }
 },
 "nbformat": 4,
 "nbformat_minor": 4
}
