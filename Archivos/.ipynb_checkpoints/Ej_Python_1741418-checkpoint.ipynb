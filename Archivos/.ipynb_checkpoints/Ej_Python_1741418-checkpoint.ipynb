{
 "cells": [
  {
   "cell_type": "markdown",
   "metadata": {},
   "source": [
    "# Mineria de datos"
   ]
  },
  {
   "cell_type": "markdown",
   "metadata": {},
   "source": [
    "### Ejercicio 1:\n",
    "\n",
    "Realiza una variable con tu matricula y realiza una secuencia de imprimir con tu nombre y tu matricula concatenados."
   ]
  },
  {
   "cell_type": "code",
   "execution_count": 1,
   "metadata": {},
   "outputs": [
    {
     "name": "stdout",
     "output_type": "stream",
     "text": [
      "Emmanuel Galvan 1741418\n"
     ]
    }
   ],
   "source": [
    "Matricula = 1741418\n",
    "print(\"Emmanuel Galvan\", Matricula)"
   ]
  },
  {
   "cell_type": "markdown",
   "metadata": {},
   "source": [
    "### Ejercicio 2:\n",
    "\n",
    "Pidiendo el input del usuario pide dos números y crea una pequeña calculadora con los operadores básicos de suma, resta, multiplicación, división y exponente."
   ]
  },
  {
   "cell_type": "code",
   "execution_count": 2,
   "metadata": {},
   "outputs": [
    {
     "name": "stdout",
     "output_type": "stream",
     "text": [
      "Ingresa un número:12\n",
      "Ingresa el simbolo de la operación a realizar (+, -, *, /, **):+\n",
      "Ingresa un segundo número:2\n",
      "12 + 2 = 14\n"
     ]
    }
   ],
   "source": [
    "num1 = int(input(\"Ingresa un número:\"))\n",
    "op = input(\"Ingresa el simbolo de la operación a realizar (+, -, *, /, **):\")\n",
    "num2 = int(input(\"Ingresa un segundo número:\"))\n",
    "if op == '+':\n",
    "    resultado = num1 + num2\n",
    "elif op == '-':\n",
    "    resultado = num1 - num2\n",
    "elif op == '*':\n",
    "    resultado = num1 * num2\n",
    "elif op == '/':\n",
    "    resultado = num1 / num2\n",
    "elif op == '**':\n",
    "    resultado = num1 ** num2\n",
    "else:\n",
    "    resultado = None    # Repaso del tipo None: https://realpython.com/null-in-python/\n",
    "print(num1, op, num2, '=', resultado) if resultado is not None else print(\"Se produjó un error\")"
   ]
  },
  {
   "cell_type": "markdown",
   "metadata": {},
   "source": [
    "### Ejercicio 3:\n",
    "\n",
    "Con loop while o for, realiza una lista de 10 números multiplos de 3, y después realiza una función de loop que sume todos los números dentro del arreglo."
   ]
  },
  {
   "cell_type": "code",
   "execution_count": 3,
   "metadata": {},
   "outputs": [
    {
     "name": "stdout",
     "output_type": "stream",
     "text": [
      "La suma de los numeros: [3, 6, 9, 12, 15, 18, 21, 24, 27, 30] es 165\n"
     ]
    }
   ],
   "source": [
    "numeros = []\n",
    "for i in range(1,11):\n",
    "    numeros.append(i*3)\n",
    "acum = 0\n",
    "for item in numeros:\n",
    "    acum += item\n",
    "print(\"La suma de los numeros:\", numeros, 'es', acum)"
   ]
  },
  {
   "cell_type": "markdown",
   "metadata": {},
   "source": [
    "### Ejercicio 4\n",
    "* Con la función if else, revisar si un número es par o impar.\n",
    "* Con la función de if else, revisar si un número es primo o no."
   ]
  },
  {
   "cell_type": "code",
   "execution_count": 4,
   "metadata": {},
   "outputs": [
    {
     "name": "stdout",
     "output_type": "stream",
     "text": [
      "Ingresa un numero:181\n",
      "181 es impar\n",
      "181 es primo\n"
     ]
    }
   ],
   "source": [
    "num = int(input('Ingresa un numero:'))\n",
    "if num % 2 == 0:\n",
    "    print(num, \"es par\")\n",
    "elif num % 2 != 0:\n",
    "    print(num, 'es impar')\n",
    "DivisionExacta = 0\n",
    "i = 1\n",
    "while i <= num and DivisionExacta < 4:\n",
    "    if num % i == 0:\n",
    "        DivisionExacta += 1 \n",
    "    i += 1\n",
    "if DivisionExacta == 2:\n",
    "    print(num, 'es primo')\n",
    "elif DivisionExacta != 2:\n",
    "    print(num, 'no es primo')"
   ]
  },
  {
   "cell_type": "markdown",
   "metadata": {},
   "source": [
    "### Ejercicio 5\n",
    "\n",
    "Utilizando diferentes clases en python, crea una calculadora con los operadores básicos de suma, resta, multiplicación, división y exponente."
   ]
  },
  {
   "cell_type": "markdown",
   "metadata": {},
   "source": [
    "* Comentario: Realice una sola clase en la que se puede instanciar un objeto con todas las funciones de las operaciones basicas. Ademas en la misma funcion deje el print para que se vea completa la operacion."
   ]
  },
  {
   "cell_type": "code",
   "execution_count": 5,
   "metadata": {},
   "outputs": [
    {
     "name": "stdout",
     "output_type": "stream",
     "text": [
      "suma(12,2) ---> 14\n",
      "resta(12,2) ---> 10\n",
      "multi(12,2) ---> 24\n",
      "division(12,2) ---> 6.0\n",
      "exponente(12,2) ---> 144\n"
     ]
    }
   ],
   "source": [
    "class Calculadora():\n",
    "    def __init__(self, num1, num2):\n",
    "        self.num1 = num1    #int(num1)\n",
    "        self.num2 = num2    #int(num2)  \n",
    "    def suma(self):\n",
    "        return self.num1+self.num2\n",
    "    def resta(self):\n",
    "        return self.num1-self.num2\n",
    "    def multi(self):\n",
    "        return self.num1*self.num2\n",
    "    def division(self):\n",
    "        return self.num1/self.num2\n",
    "    def exponente(self):\n",
    "        return self.num1**self.num2\n",
    "        \n",
    "cal = Calculadora(12,2)\n",
    "print('suma(12,2) --->', cal.suma())\n",
    "print('resta(12,2) --->', cal.resta())\n",
    "print('multi(12,2) --->', cal.multi())\n",
    "print('division(12,2) --->', cal.division())\n",
    "print('exponente(12,2) --->', cal.exponente())"
   ]
  },
  {
   "cell_type": "markdown",
   "metadata": {},
   "source": [
    "## Ejercicios con estructuras básicas de python\n",
    "\n",
    "**Tuplas**\n",
    "\n",
    "* Crear una variable flotante, integer, boleana y compleja e imprimir el tipo de variables que es."
   ]
  },
  {
   "cell_type": "code",
   "execution_count": 5,
   "metadata": {},
   "outputs": [
    {
     "name": "stdout",
     "output_type": "stream",
     "text": [
      "0.2 es <class 'float'>\n",
      "2 es <class 'int'>\n",
      "True es <class 'bool'>\n",
      "(10+5j) es <class 'complex'>\n"
     ]
    }
   ],
   "source": [
    "Flotante = 0.2\n",
    "Entero = 2\n",
    "Boleano = True\n",
    "Complejo = 10 + 5j\n",
    "print(Flotante, 'es', type(Flotante))\n",
    "print(Entero, 'es', type(Entero))\n",
    "print(Boleano, 'es', type(Boleano))\n",
    "print(Complejo, 'es', type(Complejo))"
   ]
  },
  {
   "cell_type": "markdown",
   "metadata": {},
   "source": [
    "* Crear una tupla con valores enteros imprimir el primer y ultimo valor."
   ]
  },
  {
   "cell_type": "code",
   "execution_count": 6,
   "metadata": {},
   "outputs": [
    {
     "name": "stdout",
     "output_type": "stream",
     "text": [
      "El primer valor de la Tupla es 0 \n",
      "y el ultimo valor es 9\n"
     ]
    }
   ],
   "source": [
    "Tupla = tuple(range(10))\n",
    "print('El primer valor de la Tupla es', \n",
    "      Tupla[0], '\\ny el ultimo valor es', Tupla[-1])"
   ]
  },
  {
   "cell_type": "markdown",
   "metadata": {},
   "source": [
    "* Añadir 3 valores de string a la tupla."
   ]
  },
  {
   "cell_type": "code",
   "execution_count": 7,
   "metadata": {},
   "outputs": [],
   "source": [
    "aux = list(Tupla)\n",
    "aux.extend(['Valor 1', 'Valor 2', 'Valor 3'])\n",
    "Tupla = tuple(aux)\n",
    "del aux"
   ]
  },
  {
   "cell_type": "code",
   "execution_count": 8,
   "metadata": {},
   "outputs": [
    {
     "name": "stdout",
     "output_type": "stream",
     "text": [
      "(0, 1, 2, 3, 4, 5, 6, 7, 8, 9, 'Valor 1', 'Valor 2', 'Valor 3')\n"
     ]
    }
   ],
   "source": [
    "print(Tupla)"
   ]
  },
  {
   "cell_type": "markdown",
   "metadata": {},
   "source": [
    "* Verificar si una variable existe dentro de la tupla."
   ]
  },
  {
   "cell_type": "code",
   "execution_count": 9,
   "metadata": {},
   "outputs": [
    {
     "name": "stdout",
     "output_type": "stream",
     "text": [
      "1 esta dentro de Tupla\n"
     ]
    }
   ],
   "source": [
    "aux = 1\n",
    "print(aux, 'esta dentro de Tupla') if 1 in Tupla else print(aux, 'no esta en Tupla')"
   ]
  },
  {
   "cell_type": "markdown",
   "metadata": {},
   "source": [
    "**Listas**\n",
    "\n",
    "* Crear una lista con 40 elementos aleatorios enteros."
   ]
  },
  {
   "cell_type": "code",
   "execution_count": 10,
   "metadata": {
    "scrolled": true
   },
   "outputs": [
    {
     "name": "stdout",
     "output_type": "stream",
     "text": [
      "La lista contiene: 40 elementos\n",
      "Los cuales son:\n",
      " [92, 89, 45, 41, 5, 52, 38, 38, 73, 53, 38, 48, 26, 36, 3, 97, 70, 28, 3, 33, 71, 75, 85, 11, 63, 60, 33, 67, 84, 90, 80, 46, 82, 98, 91, 58, 79, 9, 42, 61]\n"
     ]
    }
   ],
   "source": [
    "import random as r\n",
    "Lista = []\n",
    "for i in range(40):\n",
    "    Lista.append(r.randint(1,100))\n",
    "print('La lista contiene:', len(Lista), 'elementos\\nLos cuales son:\\n', Lista)"
   ]
  },
  {
   "cell_type": "markdown",
   "metadata": {},
   "source": [
    "* Con una funcion (def) crear dos listas nuevas a partir de la lista creada por numeros aleatorios, en la cual en una esten los elementos pares, y en otra los elementos impares"
   ]
  },
  {
   "cell_type": "code",
   "execution_count": 11,
   "metadata": {},
   "outputs": [
    {
     "name": "stdout",
     "output_type": "stream",
     "text": [
      "Pares: [92, 52, 38, 38, 38, 48, 26, 36, 70, 28, 60, 84, 90, 80, 46, 82, 98, 58, 42] \n",
      "Impares: [89, 45, 41, 5, 73, 53, 3, 97, 3, 33, 71, 75, 85, 11, 63, 33, 67, 91, 79, 9, 61]\n"
     ]
    }
   ],
   "source": [
    "def FuncionListas(LA):\n",
    "    Pares = []\n",
    "    Impares = []\n",
    "    for i in range(len(LA)):\n",
    "        if LA[i] % 2 == 0:\n",
    "            Pares.append(LA[i])\n",
    "        else:\n",
    "            Impares.append(LA[i])\n",
    "    return Pares, Impares\n",
    "Par, Impar = FuncionListas(Lista)\n",
    "print('Pares:',Par, '\\nImpares:', Impar)"
   ]
  },
  {
   "cell_type": "markdown",
   "metadata": {},
   "source": [
    "* Crear dos variables con la longitud de ambas listas nuevas e imprimir las variables."
   ]
  },
  {
   "cell_type": "code",
   "execution_count": 12,
   "metadata": {},
   "outputs": [
    {
     "name": "stdout",
     "output_type": "stream",
     "text": [
      "Longitud de pares: 19 \n",
      "Longitud de impares 21\n"
     ]
    }
   ],
   "source": [
    "CantPares = len(Par); CantImpares = len(Impar)\n",
    "print('Longitud de pares:', CantPares, '\\nLongitud de impares', CantImpares)"
   ]
  },
  {
   "cell_type": "markdown",
   "metadata": {},
   "source": [
    "* Ordenar los elementos de la lista par de mayor a menor, y los de la lista impar de menor a mayor."
   ]
  },
  {
   "cell_type": "code",
   "execution_count": 13,
   "metadata": {},
   "outputs": [
    {
     "name": "stdout",
     "output_type": "stream",
     "text": [
      "Lista pares de mayor a menor: [98, 92, 90, 84, 82, 80, 70, 60, 58, 52, 48, 46, 42, 38, 38, 38, 36, 28, 26]\n",
      "Lista impares de menor a mayor: [3, 3, 5, 9, 11, 33, 33, 41, 45, 53, 61, 63, 67, 71, 73, 75, 79, 85, 89, 91, 97]\n"
     ]
    }
   ],
   "source": [
    "Par.sort(reverse = True)\n",
    "Impar.sort()\n",
    "print('Lista pares de mayor a menor:', Par)\n",
    "print('Lista impares de menor a mayor:', Impar)"
   ]
  },
  {
   "cell_type": "markdown",
   "metadata": {},
   "source": [
    "* Utilizar al menos cuatro de las funciones de listas en python en la lista original de 40 elementos."
   ]
  },
  {
   "cell_type": "code",
   "execution_count": 15,
   "metadata": {},
   "outputs": [
    {
     "name": "stdout",
     "output_type": "stream",
     "text": [
      "El numero 38 se repite 3 veces\n",
      "El numero 38 se encuentra por primera vez en el indice 6\n",
      "Si quitamos el numero 38 ahora solo se repite 2 veces\n",
      "\n",
      "La lista tiene el siguiente orden: [92, 89, 45, 41, 5, 52, 38, 73, 53, 38, 48, 26, 36, 3, 97, 70, 28, 3, 33, 71, 75, 85, 11, 63, 60, 33, 67, 84, 90, 80, 46, 82, 98, 91, 58, 79, 9, 42, 61]\n",
      "\n",
      "Si se invierte el orden queda de la siguiente manera: [61, 42, 9, 79, 58, 91, 98, 82, 46, 80, 90, 84, 67, 33, 60, 63, 11, 85, 75, 71, 33, 3, 28, 70, 97, 3, 36, 26, 48, 38, 53, 73, 38, 52, 5, 41, 45, 89, 92]\n"
     ]
    }
   ],
   "source": [
    "numero = 38\n",
    "print('El numero', numero, 'se repite', Lista.count(numero), 'veces')\n",
    "print('El numero', numero, 'se encuentra por primera vez en el indice', Lista.index(numero))\n",
    "Lista.remove(numero)\n",
    "print('Si quitamos el numero', numero, 'ahora solo se repite', Lista.count(numero) if numero in Lista else '0', 'veces')\n",
    "print('\\nLa lista tiene el siguiente orden:', Lista)\n",
    "Lista.reverse()\n",
    "print('\\nSi se invierte el orden queda de la siguiente manera:', Lista)"
   ]
  },
  {
   "cell_type": "markdown",
   "metadata": {},
   "source": [
    "**Diccionarios**\n",
    "\n",
    "* Crear un diccionario de 6 personas que conozcas con su primer nombre y su edad."
   ]
  },
  {
   "cell_type": "code",
   "execution_count": 16,
   "metadata": {},
   "outputs": [],
   "source": [
    "Dic = {'Sahori':21, 'Cecilia':21, 'Ana': 20, 'Luis': 23, 'Melenie': 20, 'Laura': 22}"
   ]
  },
  {
   "cell_type": "markdown",
   "metadata": {},
   "source": [
    "* Crear una lista con los valores de la edad y reacomodar la lista de menor a mayor valor."
   ]
  },
  {
   "cell_type": "code",
   "execution_count": 17,
   "metadata": {},
   "outputs": [
    {
     "name": "stdout",
     "output_type": "stream",
     "text": [
      "[20, 20, 21, 21, 22, 23]\n"
     ]
    }
   ],
   "source": [
    "Edades = list(Dic.values())\n",
    "Edades.sort()\n",
    "print(Edades)"
   ]
  },
  {
   "cell_type": "markdown",
   "metadata": {},
   "source": [
    "* Usando el diccionario y un loop, imprimir solo los nombres"
   ]
  },
  {
   "cell_type": "code",
   "execution_count": 18,
   "metadata": {},
   "outputs": [
    {
     "name": "stdout",
     "output_type": "stream",
     "text": [
      "Sahori\n",
      "Cecilia\n",
      "Ana\n",
      "Luis\n",
      "Melenie\n",
      "Laura\n"
     ]
    }
   ],
   "source": [
    "for key in Dic.keys():\n",
    "    print(key)"
   ]
  },
  {
   "cell_type": "markdown",
   "metadata": {},
   "source": [
    "* Añadir dos personas nuevas a tu diccionario, inlcuyendo edad."
   ]
  },
  {
   "cell_type": "code",
   "execution_count": 19,
   "metadata": {},
   "outputs": [
    {
     "name": "stdout",
     "output_type": "stream",
     "text": [
      "{'Sahori': 21, 'Cecilia': 21, 'Ana': 20, 'Luis': 23, 'Melenie': 20, 'Laura': 22, 'Emma': 22, 'Doraly': 17}\n"
     ]
    }
   ],
   "source": [
    "Dic['Emma'] = 22\n",
    "Dic['Doraly'] = 17\n",
    "print(Dic)"
   ]
  },
  {
   "cell_type": "markdown",
   "metadata": {},
   "source": [
    "**Sets**\n",
    "\n",
    "* Crea un set con 100 numeros aleatorios enteros del 1 al 25."
   ]
  },
  {
   "cell_type": "code",
   "execution_count": 20,
   "metadata": {},
   "outputs": [
    {
     "name": "stdout",
     "output_type": "stream",
     "text": [
      "{1, 2, 3, 4, 5, 6, 7, 8, 9, 10, 11, 12, 13, 14, 15, 16, 17, 18, 19, 20, 21, 22, 23, 24, 25}\n"
     ]
    }
   ],
   "source": [
    "Conjunto = set()\n",
    "for i in range(100):\n",
    "    Conjunto.add(r.randint(1,25))\n",
    "print(Conjunto)"
   ]
  },
  {
   "cell_type": "markdown",
   "metadata": {},
   "source": [
    "* Comprueba la longitud de tu set."
   ]
  },
  {
   "cell_type": "code",
   "execution_count": 21,
   "metadata": {},
   "outputs": [
    {
     "name": "stdout",
     "output_type": "stream",
     "text": [
      "25\n"
     ]
    }
   ],
   "source": [
    "print(len(Conjunto))"
   ]
  },
  {
   "cell_type": "markdown",
   "metadata": {},
   "source": [
    "* Crea una lista de 5 numeros aleatorios del 1 al 10 y comprueba si cada valor aparece en el set inicial."
   ]
  },
  {
   "cell_type": "code",
   "execution_count": 22,
   "metadata": {},
   "outputs": [
    {
     "name": "stdout",
     "output_type": "stream",
     "text": [
      "8 esta dentro del conjunto\n",
      "7 esta dentro del conjunto\n",
      "9 esta dentro del conjunto\n",
      "2 esta dentro del conjunto\n",
      "2 esta dentro del conjunto\n",
      "[8, 7, 9, 2, 2]\n"
     ]
    }
   ],
   "source": [
    "LstConj = []\n",
    "for i in range(5):\n",
    "    LstConj.append(r.randint(1,10))\n",
    "    if LstConj[i] in Conjunto:\n",
    "        print(LstConj[i], 'esta dentro del conjunto')\n",
    "    else:\n",
    "        print(LstConj[i], 'no esta dentro del conjunto')\n",
    "print(LstConj)"
   ]
  }
 ],
 "metadata": {
  "kernelspec": {
   "display_name": "Python 3",
   "language": "python",
   "name": "python3"
  },
  "language_info": {
   "codemirror_mode": {
    "name": "ipython",
    "version": 3
   },
   "file_extension": ".py",
   "mimetype": "text/x-python",
   "name": "python",
   "nbconvert_exporter": "python",
   "pygments_lexer": "ipython3",
   "version": "3.9.2"
  }
 },
 "nbformat": 4,
 "nbformat_minor": 4
}
